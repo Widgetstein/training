{
 "cells": [
  {
   "cell_type": "markdown",
   "metadata": {
    "slideshow": {
     "slide_type": "slide"
    }
   },
   "source": [
    "# Python Appetiser - an Overview\n",
    "1. Intro Python\n",
    "2. os.walk\n",
    "3. Webscraping met BeautifulSoup (with star performer requests)\n",
    "4. Relationele databases\n",
    "5. Webserver met Flask\n",
    "6. Jinja2 templating\n",
    "7. Log file analysis\n",
    "8. Pandas, seaborn, Numpy"
   ]
  },
  {
   "cell_type": "code",
   "execution_count": 1,
   "metadata": {
    "collapsed": true,
    "slideshow": {
     "slide_type": "subslide"
    }
   },
   "outputs": [],
   "source": [
    "from IPython.display import display, HTML, Image, SVG, IFrame\n",
    "import numpy as np\n",
    "import pandas as pd\n",
    "\n",
    "def iframe(src, width='100%', height=300):\n",
    "    return IFrame(src, width=str(width), height=str(height), scrolling='no', frameborder='0')"
   ]
  },
  {
   "cell_type": "markdown",
   "metadata": {
    "slideshow": {
     "slide_type": "slide"
    }
   },
   "source": [
    "# Intro Python\n",
    "\n",
    "Python is a very powerful programming language\n",
    "* designed to create readable code\n",
    "* a very rich environment covering many domains\n",
    "* very portable (Windows, UNIX/Linux, Mac OSX, ...)\n",
    "* mixes well with other languages\n",
    "* easy to learn\n",
    "* indentation matters\n",
    "* two versions:\n",
    "  - Python 2 still being used (not all modules available in version 3)\n",
    "  - Python 3 adoption is almost complete"
   ]
  },
  {
   "cell_type": "markdown",
   "metadata": {
    "slideshow": {
     "slide_type": "subslide"
    }
   },
   "source": [
    "## Install Python\n",
    "\n",
    "* Basic installation (pre-packaged from https://www.python.org/downloads/), or\n",
    "* Available from your OS (bijv. Red Hat, SuSE, Mac OS X)\n",
    "* Python distribution (add many additional packages to standard Python):\n",
    "    - WinPython, \n",
    "    - ActivePython,\n",
    "    - Anaconda,\n",
    "    - Enthought Canopy, \n",
    "    - Python(x,y)"
   ]
  },
  {
   "cell_type": "markdown",
   "metadata": {
    "slideshow": {
     "slide_type": "subslide"
    }
   },
   "source": [
    "## Extend Python\n",
    "* `pip` (\"Pip Installs Packages\")\n",
    "    - standard tool, repository: Python Package Index (PyPI, > 125k packages)\n",
    "* OS specific\n",
    "    - `yum` (Red Hat-like Linux systems, also SuSE)\n",
    "    - `apt-get` (Debian-like Linux system, like Ubuntu)\n",
    "    - `HomeBrew` (Mac OS X)\n",
    "* Distribution specific, e.g.:\n",
    "    - `enpkg` (for Enthought Canopy), and\n",
    "    - `conda` (for Continuum's Anaconda)"
   ]
  },
  {
   "cell_type": "markdown",
   "metadata": {
    "slideshow": {
     "slide_type": "subslide"
    }
   },
   "source": [
    "## PIP (package manager/installer program)\n",
    "Many packages and modules are pre-installed with each Python installation. <br/>\n",
    "Use pip to list, add or remove additional ones.\n",
    "* `user@system:~$: pip --help` to learn about pip commands and flags\n",
    "\n",
    "* `user@system:~$: pip list` to list installed packages\n",
    "\n",
    "* `user@system:~$: pip install pkg` to install a packages\n",
    "\n",
    "Some Python distributions have their own manager/installer.\n",
    "* e.g. Anaconda uses `conda`"
   ]
  },
  {
   "cell_type": "markdown",
   "metadata": {
    "slideshow": {
     "slide_type": "slide"
    }
   },
   "source": [
    "## The Python lifecycle\n",
    "\n",
    "* **1989**: Python version 1\n",
    "* **2000**: Python version 2\n",
    "* **2008**: Python version 3\n",
    "\n",
    "\n",
    "The latest major release is 3.6.\n",
    "\n",
    "Python 2 is still being supported, but no new features will be added: <br/>\n",
    "2.7 is the final major Python 2 release.\n",
    "\n",
    "Python 2 and 3 are  incompatible. The biggest differences:\n",
    "\n",
    "- strings: ASCII vs. Unicode\n",
    "- print: statement vs. function\n",
    "- integer division: integer vs. floating point result"
   ]
  },
  {
   "cell_type": "markdown",
   "metadata": {
    "slideshow": {
     "slide_type": "subslide"
    }
   },
   "source": [
    "* Python was inspired by the computer language *ABC*\n",
    "* developed at the CWI\n",
    "* a tool to teach students how to program.\n",
    "\n",
    "The main developers of  *ABC* are Frank van Dijk, Timo Krijnen, Guido van Rossum\n",
    "and Eddy Boeve.\n",
    "\n",
    "The difference between Python and *ABC* is in the possibility to make real applications and not\n",
    "just code examples or small scripts."
   ]
  },
  {
   "cell_type": "markdown",
   "metadata": {
    "slideshow": {
     "slide_type": "slide"
    }
   },
   "source": [
    "## Creating and executing a Python program\n",
    "* To execute a python script, type `python` followed by the name of the script\n",
    "\n",
    "  ```\n",
    "    user@system:~$: python hello_world.py\n",
    "  ```\n",
    "  "
   ]
  },
  {
   "cell_type": "markdown",
   "metadata": {
    "slideshow": {
     "slide_type": "fragment"
    }
   },
   "source": [
    "* Use an editor like `sublime text`, `vi` or `emacs` to create or modify the script\n",
    "\n",
    "  ```\n",
    "    user@system:~$: vi hello_world.py\n",
    "  ```\n",
    "  "
   ]
  },
  {
   "cell_type": "markdown",
   "metadata": {
    "slideshow": {
     "slide_type": "fragment"
    }
   },
   "source": [
    "* Python can also be used interactively - like a command shell\n",
    "\n",
    "  ```\n",
    "    user@system:~$: python\n",
    "    Python 3.6.4 |Anaconda, Inc.| (default, Jan 16 2018, 18:10:19) \n",
    "    [GCC 7.2.0] on linux\n",
    "    Type \"help\", \"copyright\", \"credits\" or \"license\" for more information.\n",
    "    >>> print('Hello, World!')\n",
    "    Hello, World!\n",
    "    >>> quit()\n",
    "  ```"
   ]
  },
  {
   "cell_type": "markdown",
   "metadata": {
    "slideshow": {
     "slide_type": "subslide"
    }
   },
   "source": [
    "## Variables\n",
    "Python variables are strongly typed\n",
    "* no explicit type declaration\n",
    "* the assigned value determines the type"
   ]
  },
  {
   "cell_type": "markdown",
   "metadata": {
    "slideshow": {
     "slide_type": "fragment"
    }
   },
   "source": [
    "Names of variables\n",
    "* consist of letters, numbers and underscores (`_`)\n",
    "* must start with a letter or an underscore\n",
    "* are case sensitive\n",
    "* non-western letters can be used (deprecated)\n",
    "* no reserved words such as:\n",
    "    `if`, `for`, `then` and `in`."
   ]
  },
  {
   "cell_type": "markdown",
   "metadata": {
    "slideshow": {
     "slide_type": "subslide"
    }
   },
   "source": [
    "## Simple data types\n",
    "The basic data types are:\n",
    "- numbers:\n",
    "  - integer (`int`)\n",
    "  - real (`float`)\n",
    "  - complexe getallen (`complex`)\n",
    "\n",
    "- text:  Unicode strings (`str`)\n",
    "- Boolean:  truth-values (`bool`)"
   ]
  },
  {
   "cell_type": "markdown",
   "metadata": {
    "slideshow": {
     "slide_type": "subslide"
    }
   },
   "source": [
    "### Numbers: `int`\n",
    "\n",
    "The numerical type for integer numbers is `int`.\n",
    "\n",
    "Examples of integer numbers:"
   ]
  },
  {
   "cell_type": "code",
   "execution_count": 2,
   "metadata": {
    "slideshow": {
     "slide_type": "fragment"
    }
   },
   "outputs": [
    {
     "data": {
      "text/plain": [
       "420"
      ]
     },
     "execution_count": 2,
     "metadata": {},
     "output_type": "execute_result"
    }
   ],
   "source": [
    "420                                 # decimal notation "
   ]
  },
  {
   "cell_type": "code",
   "execution_count": 3,
   "metadata": {
    "slideshow": {
     "slide_type": "fragment"
    }
   },
   "outputs": [
    {
     "data": {
      "text/plain": [
       "9"
      ]
     },
     "execution_count": 3,
     "metadata": {},
     "output_type": "execute_result"
    }
   ],
   "source": [
    "0b1001                             # binary notation"
   ]
  },
  {
   "cell_type": "code",
   "execution_count": 4,
   "metadata": {
    "slideshow": {
     "slide_type": "fragment"
    }
   },
   "outputs": [
    {
     "data": {
      "text/plain": [
       "255"
      ]
     },
     "execution_count": 4,
     "metadata": {},
     "output_type": "execute_result"
    }
   ],
   "source": [
    "0xff                               # hexadecimal notation"
   ]
  },
  {
   "cell_type": "code",
   "execution_count": 10,
   "metadata": {
    "slideshow": {
     "slide_type": "fragment"
    }
   },
   "outputs": [
    {
     "data": {
      "text/plain": [
       "50948032924558539482506717813721568100843757937971289995720521"
      ]
     },
     "execution_count": 10,
     "metadata": {},
     "output_type": "execute_result"
    }
   ],
   "source": [
    "7137789078178097823478092341789 ** 2  # no effective size limit"
   ]
  },
  {
   "cell_type": "code",
   "execution_count": 11,
   "metadata": {},
   "outputs": [
    {
     "data": {
      "text/plain": [
       "5.094803292455855e+61"
      ]
     },
     "execution_count": 11,
     "metadata": {},
     "output_type": "execute_result"
    }
   ],
   "source": [
    "7137789078178097823478092341789.0 ** 2"
   ]
  },
  {
   "cell_type": "markdown",
   "metadata": {
    "slideshow": {
     "slide_type": "subslide"
    }
   },
   "source": [
    "### Numbers: `float`\n",
    "\n",
    "The type for real numbers is `float`.<br/>\n",
    "Some real numbers:"
   ]
  },
  {
   "cell_type": "code",
   "execution_count": 5,
   "metadata": {
    "slideshow": {
     "slide_type": "-"
    }
   },
   "outputs": [
    {
     "data": {
      "text/plain": [
       "3.141592653589793"
      ]
     },
     "execution_count": 5,
     "metadata": {},
     "output_type": "execute_result"
    }
   ],
   "source": [
    "3.141592653589793         # Pi"
   ]
  },
  {
   "cell_type": "code",
   "execution_count": 9,
   "metadata": {
    "slideshow": {
     "slide_type": "fragment"
    }
   },
   "outputs": [
    {
     "data": {
      "text/plain": [
       "6.022140857e+23"
      ]
     },
     "execution_count": 9,
     "metadata": {},
     "output_type": "execute_result"
    }
   ],
   "source": [
    "6.022140857e23               # constante van Avogadro - tot mei 2019"
   ]
  },
  {
   "cell_type": "code",
   "execution_count": 6,
   "metadata": {
    "slideshow": {
     "slide_type": "fragment"
    }
   },
   "outputs": [
    {
     "data": {
      "text/plain": [
       "1e+101"
      ]
     },
     "execution_count": 6,
     "metadata": {},
     "output_type": "execute_result"
    }
   ],
   "source": [
    "10E100                       # googol"
   ]
  },
  {
   "cell_type": "markdown",
   "metadata": {
    "slideshow": {
     "slide_type": "slide"
    }
   },
   "source": [
    "### Text: `str`\n",
    "\n",
    "A string (type `str`) is a sequence of *Unicode*-characters.\n",
    "- between single (`'`) or double (`\"`) quotes (begin and end must match)"
   ]
  },
  {
   "cell_type": "code",
   "execution_count": 12,
   "metadata": {
    "slideshow": {
     "slide_type": "fragment"
    }
   },
   "outputs": [
    {
     "data": {
      "text/plain": [
       "\"Here's Python!\""
      ]
     },
     "execution_count": 12,
     "metadata": {},
     "output_type": "execute_result"
    }
   ],
   "source": [
    "\"Here's Python!\""
   ]
  },
  {
   "cell_type": "code",
   "execution_count": 13,
   "metadata": {
    "slideshow": {
     "slide_type": "fragment"
    }
   },
   "outputs": [
    {
     "data": {
      "text/plain": [
       "'Inspired by \"Monty Python\"'"
      ]
     },
     "execution_count": 13,
     "metadata": {},
     "output_type": "execute_result"
    }
   ],
   "source": [
    "'Inspired by \"Monty Python\"' "
   ]
  },
  {
   "cell_type": "markdown",
   "metadata": {
    "slideshow": {
     "slide_type": "fragment"
    }
   },
   "source": [
    "- backslash (`\\`) starts an escape code for special characters:"
   ]
  },
  {
   "cell_type": "code",
   "execution_count": 2,
   "metadata": {
    "slideshow": {
     "slide_type": "-"
    }
   },
   "outputs": [
    {
     "data": {
      "text/plain": [
       "'characters like \\t, \\\\, \\n and \"it costs €12,-\"'"
      ]
     },
     "execution_count": 2,
     "metadata": {},
     "output_type": "execute_result"
    }
   ],
   "source": [
    "\"characters like \\t, \\\\, \\n and \\\"it costs \\u20ac12,-\\\"\""
   ]
  },
  {
   "cell_type": "markdown",
   "metadata": {
    "slideshow": {
     "slide_type": "slide"
    }
   },
   "source": [
    "### Boolean: `bool`\n",
    "\n",
    "The Boolean data type denotes truth values true or false.\n",
    "- Reserved words: `True` en `False`\n",
    "- Important for flow control in your program.\n",
    "- Often the result of logical operations and comparisons"
   ]
  },
  {
   "cell_type": "code",
   "execution_count": 15,
   "metadata": {
    "slideshow": {
     "slide_type": "-"
    }
   },
   "outputs": [
    {
     "data": {
      "text/plain": [
       "False"
      ]
     },
     "execution_count": 15,
     "metadata": {},
     "output_type": "execute_result"
    }
   ],
   "source": [
    "5 > 10"
   ]
  },
  {
   "cell_type": "code",
   "execution_count": 16,
   "metadata": {
    "slideshow": {
     "slide_type": "fragment"
    }
   },
   "outputs": [
    {
     "data": {
      "text/plain": [
       "True"
      ]
     },
     "execution_count": 16,
     "metadata": {},
     "output_type": "execute_result"
    }
   ],
   "source": [
    "6 / 4 == 1.5"
   ]
  },
  {
   "cell_type": "markdown",
   "metadata": {
    "slideshow": {
     "slide_type": "slide"
    }
   },
   "source": [
    "## Statements\n",
    "\n",
    "Python is line oriented: each line is one statement.<br/>\n",
    "Split long statements into multiple lines:\n",
    "- add a backslash (`\\`), just before the line end:\n",
    "``` python\n",
    "    moving_average = first_function(observations) / \\\n",
    "                        second_function(observations, 3)\n",
    "```\n",
    "- construction with parentheses ( `()`, `[]` or `{}`) is allowed over multiple lines:\n",
    "``` python\n",
    "    result = my_function(observations,\n",
    "                         'Description'\n",
    "                          (1, 3, 6))\n",
    "```"
   ]
  },
  {
   "cell_type": "markdown",
   "metadata": {
    "slideshow": {
     "slide_type": "subslide"
    }
   },
   "source": [
    "### Blocks\n",
    "\n",
    "Code blocks are determined by indentation.\n",
    "- Example `if` - statement:\n",
    "``` python\n",
    "    if a <= b:\n",
    "        if a != b:\n",
    "            print(\"a is smaller than b\")\n",
    "    else:\n",
    "        print(\"a is greater than b\")\n",
    "```\n",
    "- recommended:\n",
    "  * use 4 spaces per indentation level"
   ]
  },
  {
   "cell_type": "markdown",
   "metadata": {
    "slideshow": {
     "slide_type": "subslide"
    }
   },
   "source": [
    "### `if` - statement\n",
    "``` python\n",
    "    if condition:\n",
    "        code block\n",
    "        \n",
    "    elif condition:\n",
    "        code block\n",
    "        \n",
    "    else:\n",
    "        code block\n",
    "        ....\n",
    "```\n",
    "- the `elif`-part can occur zero or more times\n",
    "- the `else`-part is optional"
   ]
  },
  {
   "cell_type": "markdown",
   "metadata": {
    "slideshow": {
     "slide_type": "subslide"
    }
   },
   "source": [
    "### `while` - loop\n",
    "``` python\n",
    "    while condition:\n",
    "        code block\n",
    "```\n",
    "As long as `condition` is True, the code block is executed.\n",
    "\n",
    "It is possible to *jump* out of the loop using a `break`-statement. Example:"
   ]
  },
  {
   "cell_type": "code",
   "execution_count": 18,
   "metadata": {
    "slideshow": {
     "slide_type": "fragment"
    }
   },
   "outputs": [
    {
     "name": "stdout",
     "output_type": "stream",
     "text": [
      "2 2\n",
      "3 6\n",
      "4 24\n",
      "5 120\n",
      "6 720\n",
      "7 5040\n",
      "8 40320\n"
     ]
    }
   ],
   "source": [
    "n = fac = 1\n",
    "\n",
    "while n < 100:\n",
    "    n = n + 1\n",
    "    fac = fac * n\n",
    "    if fac > 100000:\n",
    "        break\n",
    "    print(n, fac)"
   ]
  },
  {
   "cell_type": "markdown",
   "metadata": {
    "slideshow": {
     "slide_type": "slide"
    }
   },
   "source": [
    "### `for`-loop\n",
    "Do something for all elements in a collection.\n",
    "``` python\n",
    "    for element in collection:\n",
    "        code block\n",
    "```\n",
    "The `for`-loop is use with all collection types.<br/>\n",
    "It works identical foor all of them:\n"
   ]
  },
  {
   "cell_type": "code",
   "execution_count": 19,
   "metadata": {
    "collapsed": true,
    "slideshow": {
     "slide_type": "-"
    }
   },
   "outputs": [],
   "source": [
    "l = [1, 2, 4]                             # list\n",
    "s = \"Hello, Python\"                       # string\n",
    "d = {\"a\": 15, \"e\":3, \"i\": 13}             # dict"
   ]
  },
  {
   "cell_type": "code",
   "execution_count": 23,
   "metadata": {
    "slideshow": {
     "slide_type": "fragment"
    }
   },
   "outputs": [
    {
     "name": "stdout",
     "output_type": "stream",
     "text": [
      "1, 2, 4, "
     ]
    }
   ],
   "source": [
    "# print(l)\n",
    "for e in l: \n",
    "    print(e, end=\", \")"
   ]
  },
  {
   "cell_type": "code",
   "execution_count": 26,
   "metadata": {
    "slideshow": {
     "slide_type": "fragment"
    }
   },
   "outputs": [
    {
     "name": "stdout",
     "output_type": "stream",
     "text": [
      "Hello, Python"
     ]
    }
   ],
   "source": [
    "for e in s: print(e, end=\"\")"
   ]
  },
  {
   "cell_type": "code",
   "execution_count": 30,
   "metadata": {
    "slideshow": {
     "slide_type": "fragment"
    }
   },
   "outputs": [
    {
     "name": "stdout",
     "output_type": "stream",
     "text": [
      "15\n"
     ]
    }
   ],
   "source": [
    "print(d[\"a\"])\n",
    "# for e in d: print(e, d[e])"
   ]
  },
  {
   "cell_type": "markdown",
   "metadata": {
    "slideshow": {
     "slide_type": "subslide"
    }
   },
   "source": [
    "### Exceptions\n",
    "Errors that are not caught (more general: Exceptions) cause a program to crash.\n",
    "``` python\n",
    "   n_items = 0\n",
    "   print(5 / n_items)\n",
    "```\n",
    "```\n",
    "   ---------------------------------------------------------------------------\n",
    "   ZeroDivisionError                         Traceback (most recent call last)\n",
    "   <ipython-input-20-97156f842340> in <module>()\n",
    "         1 n_items = 0\n",
    "   ----> 2 print(5 / n_items)\n",
    "\n",
    "   ZeroDivisionError: division by zero\n",
    "```"
   ]
  },
  {
   "cell_type": "markdown",
   "metadata": {
    "slideshow": {
     "slide_type": "fragment"
    }
   },
   "source": [
    "- Of course, you can be defensive and check everything beforehand...\n",
    "- but ther is a more convenient way..."
   ]
  },
  {
   "cell_type": "markdown",
   "metadata": {
    "slideshow": {
     "slide_type": "subslide"
    }
   },
   "source": [
    "### Catch exceptions `try: except:`"
   ]
  },
  {
   "cell_type": "code",
   "execution_count": 31,
   "metadata": {},
   "outputs": [
    {
     "ename": "ZeroDivisionError",
     "evalue": "division by zero",
     "output_type": "error",
     "traceback": [
      "\u001b[0;31m---------------------------------------------------------------------------\u001b[0m",
      "\u001b[0;31mZeroDivisionError\u001b[0m                         Traceback (most recent call last)",
      "\u001b[0;32m<ipython-input-31-fad870a50e27>\u001b[0m in \u001b[0;36m<module>\u001b[0;34m\u001b[0m\n\u001b[0;32m----> 1\u001b[0;31m \u001b[0mprint\u001b[0m\u001b[0;34m(\u001b[0m\u001b[0;36m5\u001b[0m\u001b[0;34m/\u001b[0m\u001b[0;36m0\u001b[0m\u001b[0;34m)\u001b[0m\u001b[0;34m\u001b[0m\u001b[0;34m\u001b[0m\u001b[0m\n\u001b[0m",
      "\u001b[0;31mZeroDivisionError\u001b[0m: division by zero"
     ]
    }
   ],
   "source": [
    "print(5/0)"
   ]
  },
  {
   "cell_type": "code",
   "execution_count": 6,
   "metadata": {
    "slideshow": {
     "slide_type": "-"
    }
   },
   "outputs": [
    {
     "name": "stdout",
     "output_type": "stream",
     "text": [
      "There where no items\n",
      "This part is always reached\n"
     ]
    }
   ],
   "source": [
    "n_items = 'a'\n",
    "\n",
    "try:\n",
    "    print(5 / n_items)\n",
    "except Exception:\n",
    "    print(\"There where no items\")\n",
    "else:\n",
    "    print(\"Calculation is ready\")\n",
    "\n",
    "finally:\n",
    "    print(\"This part is always reached\")"
   ]
  },
  {
   "cell_type": "markdown",
   "metadata": {
    "slideshow": {
     "slide_type": "slide"
    }
   },
   "source": [
    "## Container structures\n",
    "Container types - objects that can contain other objects\n",
    "\n",
    "| type  | description |          examples              | content           | properties\n",
    "|:------|:------------|:------------------------------|:------------------|:---------\n",
    "| str   | String      | 'Ni Hao', \"Don't mind\"        | chars             | immutable, ordered\n",
    "| list  | List        | [1, 2, 'Peter', 4]            | objects           | mutable, ordered\n",
    "| tuple | Tuple       | (1, 2, 'ABC', 4, 'U')         | objects           | immutable, ordered\n",
    "| dict  | Dictionary  | {'John': 1975, 'Mary': 1979}  | objects           | mutable, unordered, key-access\n",
    "| set   | Set         | {3, 42, 19, 55}               | immutable objects | mutable, unordered\n"
   ]
  },
  {
   "cell_type": "markdown",
   "metadata": {
    "slideshow": {
     "slide_type": "subslide"
    }
   },
   "source": [
    "### `list`\n",
    "- mutable: replace, add or remove elements\n",
    "- can contain arbitrary objects\n",
    "- order is maintained\n",
    "- use an index or a slice to retrieve elements"
   ]
  },
  {
   "cell_type": "code",
   "execution_count": 34,
   "metadata": {
    "slideshow": {
     "slide_type": "-"
    }
   },
   "outputs": [
    {
     "name": "stdout",
     "output_type": "stream",
     "text": [
      "['combi', [], ['first', 2, 3]]\n"
     ]
    }
   ],
   "source": [
    "k = []                     # an empty list\n",
    "l = [\"first\", 2, 3]        # 3 elements\n",
    "m = [\"combi\", k, l]        # a list with elements from the previous\n",
    "print(m)"
   ]
  },
  {
   "cell_type": "markdown",
   "metadata": {
    "slideshow": {
     "slide_type": "subslide"
    }
   },
   "source": [
    "### `list` *indexing* and *slicing*"
   ]
  },
  {
   "cell_type": "code",
   "execution_count": 37,
   "metadata": {
    "slideshow": {
     "slide_type": "-"
    }
   },
   "outputs": [
    {
     "data": {
      "text/plain": [
       "13"
      ]
     },
     "execution_count": 37,
     "metadata": {},
     "output_type": "execute_result"
    }
   ],
   "source": [
    "primes = [2, 3, 5, 7, 11, 13]   # create a list\n",
    "primes[0]                       # retrieve the 2nd element"
   ]
  },
  {
   "cell_type": "code",
   "execution_count": 38,
   "metadata": {
    "slideshow": {
     "slide_type": "fragment"
    }
   },
   "outputs": [
    {
     "data": {
      "text/plain": [
       "[2, 3, 5]"
      ]
     },
     "execution_count": 38,
     "metadata": {},
     "output_type": "execute_result"
    }
   ],
   "source": [
    "primes[0:3]                     # retrieve the elements 0, 1 and 2 op"
   ]
  },
  {
   "cell_type": "code",
   "execution_count": 42,
   "metadata": {
    "slideshow": {
     "slide_type": "subslide"
    }
   },
   "outputs": [
    {
     "name": "stdout",
     "output_type": "stream",
     "text": [
      "[2, 3, 5, 7, 11, 13] [2, 3, 5, 7, 11, 13, 17]\n"
     ]
    }
   ],
   "source": [
    "7 in primes                     # check if 7 is an element of primes\n",
    "\n",
    "pp = primes[:]\n",
    "pp.append(17)\n",
    "print(primes, pp)"
   ]
  },
  {
   "cell_type": "markdown",
   "metadata": {
    "slideshow": {
     "slide_type": "-"
    }
   },
   "source": [
    "For lists (and other sequences) Python uses an index, \n",
    "which starts from *0* and ends with *n-1*, with *n* the number of elements."
   ]
  },
  {
   "cell_type": "markdown",
   "metadata": {
    "slideshow": {
     "slide_type": "subslide"
    }
   },
   "source": [
    "#### list methods:\n",
    "<table frame=\"void\" rules=\"none\"><tbody valign=\"top\">\n",
    "<tr>\n",
    "    <th>append()</th>\n",
    "    <td>`L.append(object)` </td>\n",
    "    <td> `None` </td>\n",
    "    <td> add an object at the end</td>\n",
    "</tr>\n",
    "<tr>\n",
    "    <th>clear()</th>\n",
    "    <td>`L.clear()`</td>\n",
    "    <td> `None`</td>\n",
    "    <td> remove all items from L</td>\n",
    "</tr>\n",
    "<tr>\n",
    "    <th>copy()</th>\n",
    "    <td>`L.copy()` </td>\n",
    "    <td> `list` </td>\n",
    "    <td> a shallow copy of L</td>\n",
    "</tr>\n",
    "<tr>\n",
    "    <th>count()</th>\n",
    "    <td>`L.count(value)` </td>\n",
    "    <td> `int` </td>\n",
    "    <td> returns the number of occurrences of value in L </td>\n",
    "</tr>\n",
    "<tr>\n",
    "    <th>extend()</th>\n",
    "    <td>`L.extend(iterable)` </td>\n",
    "    <td> `None` </td>\n",
    "    <td> extend the list with the elements in iterable</td>\n",
    "</tr>\n",
    "<tr>\n",
    "    <th>index()</th>\n",
    "    <td>`L.index(value, [start, [stop]])` </td>\n",
    "    <td> `int` </td>\n",
    "    <td> returns the index of the first occurence of value.\n",
    "        ValueError if not found.\n",
    "    </td>\n",
    "</tr>\n",
    "<tr>\n",
    "    <th>insert()</th>\n",
    "    <td>`L.insert(index, object)` </td>\n",
    "    <td> `None` </td>\n",
    "    <td> at object at position index</td>\n",
    "</tr>\n",
    "<tr>\n",
    "    <th>pop()</th>\n",
    "    <td>`L.pop(index=-1)` </td>\n",
    "    <td> `item` </td>\n",
    "    <td> remove and return the item at index.\n",
    "        IndexError if empty list or wrong index.\n",
    "    </td>\n",
    "</tr>\n",
    "<tr>\n",
    "    <th>remove()</th>\n",
    "    <td>`L.remove(value)` </td>\n",
    "    <td> `None` </td>\n",
    "    <td> remove the first occurence of value.\n",
    "        ValueError if value not found.\n",
    "    </td>\n",
    "</tr>\n",
    "<tr>\n",
    "    <th>reverse()</th>\n",
    "    <td>`L.reverse()` </td>\n",
    "    <td> `None` </td>\n",
    "    <td> invert *IN SITU*</td>\n",
    "</tr>\n",
    "<tr>\n",
    "    <th>sort()</th>\n",
    "    <td>`L.sort(key=None, reverse=False)` </td>\n",
    "    <td> `None` </td>\n",
    "    <td> sort *IN SITU*</td>\n",
    "</tr>\n",
    "</tbody></table>"
   ]
  },
  {
   "cell_type": "markdown",
   "metadata": {
    "slideshow": {
     "slide_type": "subslide"
    }
   },
   "source": [
    "### `dict`\n",
    "- mutable: replace, add or remove elements\n",
    "- can contain arbitrary objects\n",
    "- order is NOT maintained\n",
    "- each element is stored with an associated key\n",
    "- key must be unique and immutable\n",
    "- a single element can be retrieved with the key"
   ]
  },
  {
   "cell_type": "code",
   "execution_count": 7,
   "metadata": {
    "slideshow": {
     "slide_type": "fragment"
    }
   },
   "outputs": [
    {
     "data": {
      "text/plain": [
       "6"
      ]
     },
     "execution_count": 7,
     "metadata": {},
     "output_type": "execute_result"
    }
   ],
   "source": [
    "d = { 1: 3, \"two\": 6, 3: 0}    # a dict with keys 1, \"two\" and 3\n",
    "d['googol'] = 10**10           # add a big value with key \"googol\"\n",
    "d[\"two\"]                       # retrieve the value from key \"two\""
   ]
  },
  {
   "cell_type": "code",
   "execution_count": 10,
   "metadata": {
    "slideshow": {
     "slide_type": "fragment"
    }
   },
   "outputs": [
    {
     "name": "stdout",
     "output_type": "stream",
     "text": [
      "False\n",
      "True\n"
     ]
    }
   ],
   "source": [
    "print('6' in d     )                    # d has a key 1\n",
    "print('two' in d)                       # d has a key 'two'"
   ]
  },
  {
   "cell_type": "code",
   "execution_count": 15,
   "metadata": {
    "slideshow": {
     "slide_type": "fragment"
    }
   },
   "outputs": [
    {
     "data": {
      "text/plain": [
       "{1: 3, 'two': 6, 'googol': 10000000000}"
      ]
     },
     "execution_count": 15,
     "metadata": {},
     "output_type": "execute_result"
    }
   ],
   "source": [
    "del d[3]                       # delete the element with key 3\n",
    "#d.get(\"two\", 999)\n",
    "d"
   ]
  },
  {
   "cell_type": "markdown",
   "metadata": {
    "slideshow": {
     "slide_type": "subslide"
    }
   },
   "source": [
    "#### Dict methods:\n",
    "<table frame=\"void\" rules=\"none\"><tbody valign=\"top\">\n",
    "<tr>\n",
    "    <th>clear():</th>\n",
    "    <td>`D.clear()`</td>\n",
    "    <td> `None`</td>\n",
    "    <td>  empty `D`</td>\n",
    "</tr>\n",
    "<tr>\n",
    "    <th>copy()</th>\n",
    "    <td>`D.copy()` </td>\n",
    "    <td>dict</td>\n",
    "    <td> make a shallow copy of `D`</td>\n",
    "</tr>\n",
    "<tr>\n",
    "    <th>fromkeys():</th>\n",
    "    <td>`dict.fromkeys(iterable, value=None)` </td>\n",
    "    <td>dict</td>\n",
    "    <td> make a new dict with keys from iterable\n",
    "        and values equal to value.\n",
    "    </td>\n",
    "</tr>\n",
    "<tr>\n",
    "    <th>get():</th>\n",
    "    <td>`D.get(k[,d])` </td>\n",
    "    <td>`v`</td>\n",
    "    <td> `D[k]` if `k` in `D` and `d` otherwise.\n",
    "        Default value of `d` is `None`.\n",
    "    </td>\n",
    "</tr>\n",
    "<tr>\n",
    "    <th>items():</th>\n",
    "    <td>`D.items()` </td>\n",
    "    <td>`{(k,v),...}` </td>\n",
    "    <td> return a list-like object with `D`'s key-value pairs</td>\n",
    "</tr>\n",
    "<tr>\n",
    "    <th>keys():</th>\n",
    "    <td>`D.keys()` </td>\n",
    "    <td>`{k,...}` </td>\n",
    "    <td>return a list-like object with `D`'s keys</td>\n",
    "</tr>\n",
    "<tr>\n",
    "    <th>pop():</th>\n",
    "    <td>`D.pop(k[,d])`</td>\n",
    "    <td> `v`</td>\n",
    "    <td> remove the indicated key and return its associated value.\n",
    "       If `k` is not found `d` is returned. KeyError if also `d` is not provided.\n",
    "    </td>\n",
    "</tr>\n",
    "<tr>\n",
    "    <th>popitem():</th>\n",
    "    <td>`D.popitem()` </td>\n",
    "    <td> `(k, v)`</td>\n",
    "    <td> remove and return an arbitrary key-value pair\n",
    "        as a 2-tuple; KeyError if `D` is empty.\n",
    "    </td>\n",
    "</tr>\n",
    "<tr>\n",
    "    <th>setdefault():</th>\n",
    "    <td>`D.setdefault(k[,d])` </td>\n",
    "    <td>`v`</td>\n",
    "    <td>`D.get(k,d)`, als put `D[k]=d` if `k` not in `D`\n",
    "    </td>\n",
    "</tr>\n",
    "<tr>\n",
    "    <th>update():</th>\n",
    "    <td>`D.update([E,] **F)`</td>\n",
    "    <td>`None`</td>\n",
    "    <td>  update `D` from dict/iterable `E` en `F`.\n",
    "        If `E` is given and `E.keys()` exists, then:\n",
    "        `for k in E: D[k] = E[k]`\n",
    "        If `E` is geven, but there is no method `E.keys()`, then:\n",
    "        `for k, v in E: D[k] = v`\n",
    "        In any case followed by: `for k in F:  D[k] = F[k]`\n",
    "    </td>\n",
    "</tr>\n",
    "<tr>\n",
    "    <th>values():</th>\n",
    "    <td>`D.values()`</td>\n",
    "    <td>`[v,...]` </td>\n",
    "    <td> return a list-like object with `D`'s values</td>\n",
    "</tr>\n",
    "</tbody></table>"
   ]
  },
  {
   "cell_type": "markdown",
   "metadata": {
    "slideshow": {
     "slide_type": "slide"
    }
   },
   "source": [
    "## File I/O\n",
    "### Opening a file\n",
    "``` python\n",
    "    f = open(fname, mode)\n",
    "```\n",
    "open modes:\n",
    "\n",
    "| Character\t| Description | Remark\n",
    "|-----------|-------------|-------------------------------------------------\n",
    "| '`r`'     | read        | (default) error if file does not exist\n",
    "| '`w`'     | write\t      | truncate the file, create a new one if necessary\n",
    "| '`x`'     | create      | error if the file exists\n",
    "| '`a`'     | append      | create a new file if necessary\n",
    "can be combined with:\n",
    "\n",
    "| Character\t| Description | Remark\n",
    "|-----------|-------------|-------------------------------------------------\n",
    "| '`t`'     | text mode   | (default) uses strings (`\"...\"`)\n",
    "| '`b`'     | binary mode | uses `bytes` objects (`b\"...\"`)\n",
    "| '`+`'     | updating    | reading *and* writing\n"
   ]
  },
  {
   "cell_type": "markdown",
   "metadata": {
    "slideshow": {
     "slide_type": "subslide"
    }
   },
   "source": [
    "### Reading text files"
   ]
  },
  {
   "cell_type": "code",
   "execution_count": 16,
   "metadata": {
    "slideshow": {
     "slide_type": "-"
    }
   },
   "outputs": [
    {
     "name": "stdout",
     "output_type": "stream",
     "text": [
      "The number of lines and words in ../data/story.txt is 16 and 166\n"
     ]
    }
   ],
   "source": [
    "import sys\n",
    "\n",
    "fname = \"../data/story.txt\"\n",
    "\n",
    "try:\n",
    "    f = open(fname, \"rt\")              # open-call can fail, so ...\n",
    "except Exception:                      # always protect with try: except:\n",
    "    sys.exit(\"Cannot open \" + fname)   # exit with error message\n",
    "\n",
    "words = 0\n",
    "linecount = 0\n",
    "for line in f:                         # file is like a sequence of lines\n",
    "    words += len(line.split() )        # split() returns the words in the line\n",
    "    linecount += 1\n",
    "\n",
    "f.close()                              # don't forget to close the file\n",
    "\n",
    "print(\"The number of lines and words in\", fname, \"is\", linecount, \"and\", words)"
   ]
  },
  {
   "cell_type": "markdown",
   "metadata": {
    "slideshow": {
     "slide_type": "subslide"
    }
   },
   "source": [
    "### Writing text files\n",
    "\n",
    "There is a low-level `write()` function, but it is easier to use `print()` with the `file` argument.\n",
    " "
   ]
  },
  {
   "cell_type": "code",
   "execution_count": 54,
   "metadata": {
    "collapsed": true,
    "slideshow": {
     "slide_type": "-"
    }
   },
   "outputs": [],
   "source": [
    "fname = \"tmp/two_powers.txt\"\n",
    "try:\n",
    "    f = open(fname, \"wt\")\n",
    "except Exception:\n",
    "    sys.exit(\"Cannot create \" + fname)\n",
    "    \n",
    "for n in range(10):\n",
    "    print(n, \":\", 2**n, file=f)\n",
    "    \n",
    "f.close()"
   ]
  },
  {
   "cell_type": "code",
   "execution_count": 53,
   "metadata": {},
   "outputs": [
    {
     "name": "stdout",
     "output_type": "stream",
     "text": [
      "0 : 1\n",
      "1 : 2\n",
      "2 : 4\n",
      "3 : 8\n",
      "4 : 16\n",
      "5 : 32\n",
      "6 : 64\n",
      "7 : 128\n",
      "8 : 256\n",
      "9 : 512\n",
      "\n"
     ]
    }
   ],
   "source": [
    "\n",
    "with open(fname, 'rt') as f:\n",
    "    print(f.read()) "
   ]
  },
  {
   "cell_type": "markdown",
   "metadata": {
    "slideshow": {
     "slide_type": "slide"
    }
   },
   "source": [
    "## Functions\n",
    "Defining a function:\n"
   ]
  },
  {
   "cell_type": "code",
   "execution_count": 55,
   "metadata": {
    "collapsed": true,
    "slideshow": {
     "slide_type": "-"
    }
   },
   "outputs": [],
   "source": [
    "def telop(x=0, y=0):\n",
    "    result = x + y\n",
    "    return result"
   ]
  },
  {
   "cell_type": "markdown",
   "metadata": {
    "slideshow": {
     "slide_type": "fragment"
    }
   },
   "source": [
    "Using a function:"
   ]
  },
  {
   "cell_type": "code",
   "execution_count": 56,
   "metadata": {
    "slideshow": {
     "slide_type": "-"
    }
   },
   "outputs": [
    {
     "data": {
      "text/plain": [
       "0"
      ]
     },
     "execution_count": 56,
     "metadata": {},
     "output_type": "execute_result"
    }
   ],
   "source": [
    "r = telop()\n",
    "r"
   ]
  },
  {
   "cell_type": "markdown",
   "metadata": {
    "slideshow": {
     "slide_type": "slide"
    }
   },
   "source": [
    "### Function arguments\n",
    "\n",
    "Calling functies can be in 2 ways:\n",
    "- positional arguments\n",
    "- keyword arguments\n",
    "\n",
    "``` python\n",
    "    def line_to(x_pos, y_pos):\n",
    "        code block ...\n",
    "```\n",
    "Various ways to call:\n",
    "``` python\n",
    "    line_to(160, 5)                # positional arguments\n",
    "    line_to(x_pos=160, y_pos=5)    # explicitly name (keyword) arguments\n",
    "    line_to(y_pos=5, x_pos=160)    # not necessary to use them in order\n",
    "```\n",
    "Use good, descriptive names!   "
   ]
  },
  {
   "cell_type": "markdown",
   "metadata": {
    "slideshow": {
     "slide_type": "subslide"
    }
   },
   "source": [
    "### Default function arguments\n",
    "In the definition of a function you can indicate default values for the arguments.\n",
    "``` python\n",
    "    def line_to(x_pos=0, y_pos=0):\n",
    "        code block ...\n",
    "```"
   ]
  },
  {
   "cell_type": "markdown",
   "metadata": {
    "slideshow": {
     "slide_type": "fragment"
    }
   },
   "source": [
    "Now you can call this function in various ways:\n",
    "``` python\n",
    "    line_to()             # x_pos=0, y_pos=0\n",
    "    line_to(100)          # x_pos=100, y_pos=0\n",
    "    line_to(100, 50)      # x_pos=100, y_pos=50\n",
    "```"
   ]
  },
  {
   "cell_type": "markdown",
   "metadata": {
    "slideshow": {
     "slide_type": "fragment"
    }
   },
   "source": [
    "And with keyword arguments:\n",
    "``` python\n",
    "    line_to(x_pos=100)    # x_pos=100, y_pos=0\n",
    "    line_to(y_pos=50)     # x_pos=0, y_pos=50\n",
    "```"
   ]
  },
  {
   "cell_type": "markdown",
   "metadata": {
    "slideshow": {
     "slide_type": "slide"
    }
   },
   "source": [
    "## Modules\n",
    "\n",
    "Modules allow for:\n",
    "- re-usage of functionality\n",
    "- ease of maintenance\n",
    "\n",
    "and usually contain:\n",
    "- function definitions\n",
    "- variables (often used as constants)\n",
    "- class definitions\n",
    "- *(can also contain runnable code)*"
   ]
  },
  {
   "cell_type": "markdown",
   "metadata": {
    "slideshow": {
     "slide_type": "subslide"
    }
   },
   "source": [
    "The name of the script is the module name with the suffix `.py`.\n",
    "\n",
    "Example `mymod.py`:\n",
    "``` python\n",
    "    def my_func(n, arg):\n",
    "        return n * str(arg)\n",
    "```"
   ]
  },
  {
   "cell_type": "markdown",
   "metadata": {
    "slideshow": {
     "slide_type": "subslide"
    }
   },
   "source": [
    "### Using functions from a module\n",
    "#### the `import` statement\n",
    "``` python\n",
    "    import mymod\n",
    "    \n",
    "    mymod.my_func(3, ['alpha', 'beta'])\n",
    "```\n",
    "\n",
    "#### alternative: the `from` ... `import` statement\n",
    "``` python\n",
    "    from mymod import my_func\n",
    "    \n",
    "    my_func(3, ['alpha', 'beta'])\n",
    "```\n",
    "In this case you only select the function(s) you need."
   ]
  },
  {
   "cell_type": "markdown",
   "metadata": {
    "slideshow": {
     "slide_type": "subslide"
    }
   },
   "source": [
    "### How are modules found?\n",
    "\n",
    "Python looks for a module in various locations:\n",
    "- the current directory (where the top-level program lives)\n",
    "- each directory in the shell variable PYTHONPATH.\n",
    "- the default path (defined during the intallation of Python)"
   ]
  },
  {
   "cell_type": "markdown",
   "metadata": {
    "slideshow": {
     "slide_type": "-"
    }
   },
   "source": [
    "On a Windows system you set PYTHONPATH like this:\n",
    "``` shell\n",
    "set PYTHONPATH=C:\\python36\\lib;C:\\Users\\Joop\\PythonLibs```\n",
    "On UNIX / Linux this is:\n",
    "``` shell\n",
    "export PYTHONPATH=/usr/local/lib/python:/home/joop/pythonlibs```"
   ]
  },
  {
   "cell_type": "markdown",
   "metadata": {
    "slideshow": {
     "slide_type": "slide"
    }
   },
   "source": [
    "# os.walk\n",
    "Traverses a directory tree and for each subdirectory returns:\n",
    "\n",
    "  1                    |  2                     |  3\n",
    "-----------------------|------------------------|------------------------\n",
    "the name of the folder | a list with subfolders | a list with other files"
   ]
  },
  {
   "cell_type": "code",
   "execution_count": 57,
   "metadata": {
    "collapsed": true,
    "slideshow": {
     "slide_type": "-"
    }
   },
   "outputs": [],
   "source": [
    "import os\n",
    "from os.path import isdir, join, getsize\n",
    "\n",
    "def dir_sizes(topdir):\n",
    "    for thisdir, subdirs, nondirs in os.walk(topdir):\n",
    "        total = 0\n",
    "\n",
    "        for name in nondirs:\n",
    "            path = join(thisdir, name)  # create absolute pathname for found file\n",
    "            try:\n",
    "                total += getsize(path)\n",
    "            except OSError:\n",
    "                pass  # dismiss files we can't reach, go to next file\n",
    "\n",
    "        if total:\n",
    "            print('{:10} kbytes used in {}'.format(total // 1024, thisdir))"
   ]
  },
  {
   "cell_type": "code",
   "execution_count": 60,
   "metadata": {
    "scrolled": true,
    "slideshow": {
     "slide_type": "subslide"
    }
   },
   "outputs": [
    {
     "name": "stdout",
     "output_type": "stream",
     "text": [
      "       492 kbytes used in c:/users/ruud.wassink/documents/projectsPython/vijfhart\n",
      "         9 kbytes used in c:/users/ruud.wassink/documents/projectsPython/vijfhart\\data\n",
      "      3629 kbytes used in c:/users/ruud.wassink/documents/projectsPython/vijfhart\\notebooks\n",
      "      1087 kbytes used in c:/users/ruud.wassink/documents/projectsPython/vijfhart\\notebooks\\.ipynb_checkpoints\n",
      "         2 kbytes used in c:/users/ruud.wassink/documents/projectsPython/vijfhart\\notebooks\\templates\n",
      "         0 kbytes used in c:/users/ruud.wassink/documents/projectsPython/vijfhart\\notebooks\\tmp\n",
      "       403 kbytes used in c:/users/ruud.wassink/documents/projectsPython/vijfhart\\notebooks\\v2\\.ipynb_checkpoints\n",
      "      1677 kbytes used in c:/users/ruud.wassink/documents/projectsPython/vijfhart\\raw\n",
      "       492 kbytes used in c:/users/ruud.wassink/documents/projectsPython/vijfhart\\raw\\python-appetiser\\python-appetiser\n",
      "         8 kbytes used in c:/users/ruud.wassink/documents/projectsPython/vijfhart\\raw\\python-appetiser\\python-appetiser\\data\n",
      "      2121 kbytes used in c:/users/ruud.wassink/documents/projectsPython/vijfhart\\raw\\python-appetiser\\python-appetiser\\notebooks\n",
      "       702 kbytes used in c:/users/ruud.wassink/documents/projectsPython/vijfhart\\raw\\python-appetiser\\python-appetiser\\notebooks\\.ipynb_checkpoints\n",
      "         2 kbytes used in c:/users/ruud.wassink/documents/projectsPython/vijfhart\\raw\\python-appetiser\\python-appetiser\\notebooks\\templates\n",
      "        83 kbytes used in c:/users/ruud.wassink/documents/projectsPython/vijfhart\\raw\\python-appetiser\\python-appetiser\\sources\n",
      "         2 kbytes used in c:/users/ruud.wassink/documents/projectsPython/vijfhart\\raw\\python-appetiser\\python-appetiser\\sources\\templates\n",
      "        17 kbytes used in c:/users/ruud.wassink/documents/projectsPython/vijfhart\\raw\\python-appetiser\\python-appetiser\\sources\\__pycache__\n",
      "       402 kbytes used in c:/users/ruud.wassink/documents/projectsPython/vijfhart\\raw\\Python-Appetiser_2\n",
      "        83 kbytes used in c:/users/ruud.wassink/documents/projectsPython/vijfhart\\sources\n",
      "         2 kbytes used in c:/users/ruud.wassink/documents/projectsPython/vijfhart\\sources\\templates\n",
      "        17 kbytes used in c:/users/ruud.wassink/documents/projectsPython/vijfhart\\sources\\__pycache__\n"
     ]
    }
   ],
   "source": [
    "# topdir = input('Directory: ') or '.'\n",
    "root = 'c:/users/ruud.wassink/documents/projectsPython/vijfhart'\n",
    "\n",
    "if isdir(root):\n",
    "    dir_sizes(root)\n",
    "else:\n",
    "    print(topdir, 'is not a directory')"
   ]
  },
  {
   "cell_type": "markdown",
   "metadata": {
    "slideshow": {
     "slide_type": "slide"
    }
   },
   "source": [
    "# Webscraping with BeautifulSoup\n",
    "This is the page providing the info (and much more...)"
   ]
  },
  {
   "cell_type": "code",
   "execution_count": 61,
   "metadata": {
    "slideshow": {
     "slide_type": "-"
    }
   },
   "outputs": [
    {
     "data": {
      "text/html": [
       "\n",
       "        <iframe\n",
       "            width=\"100%\"\n",
       "            height=\"500\"\n",
       "            src=\"https://www.nu.nl/brandstof?scrolling=no&frameborder=0\"\n",
       "            frameborder=\"0\"\n",
       "            allowfullscreen\n",
       "        ></iframe>\n",
       "        "
      ],
      "text/plain": [
       "<IPython.lib.display.IFrame at 0x19b96a05128>"
      ]
     },
     "execution_count": 61,
     "metadata": {},
     "output_type": "execute_result"
    }
   ],
   "source": [
    "iframe(\"https://www.nu.nl/brandstof\", height=500)"
   ]
  },
  {
   "cell_type": "markdown",
   "metadata": {
    "slideshow": {
     "slide_type": "subslide"
    }
   },
   "source": [
    "##  The awesome `requests` module\n",
    "An elegant and simple HTTP library\n",
    "allowing you to send HTTP/1.1 requests.<br/>\n",
    "Add headers, form data, multipart files, and parameters with simple Python dictionaries."
   ]
  },
  {
   "cell_type": "code",
   "execution_count": 64,
   "metadata": {
    "scrolled": true,
    "slideshow": {
     "slide_type": "-"
    }
   },
   "outputs": [
    {
     "name": "stdout",
     "output_type": "stream",
     "text": [
      "<!DOCTYPE html>\n",
      "<html class=\"no-js \">\n",
      "<head>\n",
      "    <meta charset=\"utf-8\" />\n",
      "    <meta http-equiv=\"X-UA-Compatible\" content=\"IE=edge,chrome=1\" />\n",
      "    <title>Brandstof | NU - Het laatste nieuws het eerst op NU.nl</title>\n",
      "    <meta name=\"author\" content=\"\" />\n",
      "    <meta name=\"apple-itunes-app\" content=\"app-id=382059927\" />\n",
      "    <meta name=\"google-play-app\" content=\"app-id=nl.sanomamedia.android.nu\" />\n",
      "    <meta name=\"google-site-verification\" content=\"oQsKfEIgPiNMkgU1oDrWYKX6Z5FCFrwmlq3_VK6jlNo\" />\n",
      "    <meta name=\"google-site-verification\" content=\"tRpopkLA7bauR1j8Ndzqrf9vyTjq-MEcNXh7MiApp34\" />\n",
      "    <meta property=\"fb:pages\" content=\"129383287089484\" />\n",
      "    <meta name=\"HandheldFriendly\" content=\"True\" />\n",
      "    <meta name=\"MobileOptimized\" content=\"320\" />\n",
      "    <meta name=\"viewport\" content=\"width=device-width, initial-scale=1.0, maximum-scale=2.0, minimum-scale=1.0, user-scalable=yes\" />\n",
      "    <meta name=\"format-detection\" content=\"telephone=yes\" />\n",
      "    <meta name=\"apple-mobile-web-app-capable\" content=\"yes\" />\n",
      "    <meta http-equiv=\"Cache-Control\" content=\"no-transform\" />\n",
      "    <meta http-equiv=\"cleartype\" content=\"on\" />\n",
      "    <meta name=\"keywords\" content=\"Brandstof\" />\n",
      "    <meta name=\"twitter:site\" content=\"@NUnl\" />\n",
      "    <meta name=\"description\" content=\"Brandstof\" />\n",
      "    <meta name=\"twitter:card\" content=\"summary\" />\n",
      "    <meta name=\"twitter:description\" content=\"Brandstof\" />\n",
      "    <meta name=\"title\" content=\"Brandstof\" />\n",
      "    <meta name=\"twitter:title\" content=\"Brandstof\" />\n",
      "    <meta name=\"twitter:url\" content=\"https://www.nu.nl/brandstof\" />\n",
      "    <meta name=\"og:url\" content=\"https://www.nu.nl/brandstof\" />\n",
      "    <meta name=\"og:site_name\" content=\"NU\" />\n",
      "    <meta name=\"og:title\" content=\"Brandstof\" />\n",
      "    <meta name=\"og:locale\" content=\"nl_NL\" />\n",
      "    <meta name=\"og:description\" content=\"Brandstof\" />\n",
      "    <meta name=\"og:type\" content=\"main\" />\n",
      "    <!-- favicons -->\n",
      "    <!--[if IE]><link rel=\"shortcut icon\" href=\"/static/img/atoms/images/favicon/favicon.ico\"><![endif]-->\n",
      "<link rel=\"apple-touch-icon\" sizes=\"57x57\" href=\"/static/img/atoms/images/favicon/apple-touch-icon-57x57.png\" />\n",
      "<link rel=\"apple-touch-icon\" sizes=\"60x60\" href=\"/static/img/atoms/images/favicon/apple-touch-icon-60x60.png\" />\n",
      "<link rel=\"apple-touch-icon\" sizes=\"72x72\" href=\"/static/img/atoms/images/favicon/apple-touch-icon-72x72.png\" />\n",
      "<link rel=\"apple-touch-icon\" sizes=\"76x76\" href=\"/static/img/atoms/images/favicon/apple-touch-icon-76x76.png\" />\n",
      "<link rel=\"apple-touch-icon\" sizes=\"114x114\" href=\"/static/img/atoms/images/favicon/apple-touch-icon-114x114.png\" />\n",
      "<link rel=\"apple-touch-icon\" sizes=\"120x120\" href=\"/static/img/atoms/images/favicon/apple-touch-icon-120x120.png\" />\n",
      "<link rel=\"apple-touch-icon\" sizes=\"144x144\" href=\"/static/img/atoms/images/favicon/apple-touch-icon-144x144.png\" />\n",
      "<link rel=\"apple-touch-icon\" sizes=\"152x152\" href=\"/static/img/atoms/images/favicon/apple-touch-icon-152x152.png\" />\n",
      "<link rel=\"apple-touch-icon\" sizes=\"180x180\" href=\"/static/img/atoms/images/favicon/apple-touch-icon-180x180.png\" />\n",
      "<link rel=\"icon\" type=\"image/svg+xml\" href=\"/static/img/atoms/images/favicon/nu_logo.svg\" sizes=\"any\" />\n",
      "<link rel=\"icon\" type=\"image/png\" href=\"/static/img/atoms/images/favicon/favicon-32x32.png\" sizes=\"32x32\" />\n",
      "<link rel=\"icon\" type=\"image/png\" href=\"/static/img/atoms/images/favicon/android-chrome-192x192.png\" sizes=\"192x192\" />\n",
      "<link rel=\"icon\" type=\"image/png\" href=\"/static/img/atoms/images/favicon/favicon-96x96.png\" sizes=\"96x96\" />\n",
      "<link rel=\"icon\" type=\"image/png\" href=\"/static/img/atoms/images/favicon/favicon-16x16.png\" sizes=\"16x16\" />\n",
      "<link rel=\"manifest\" href=\"/static/img/atoms/images/favicon/manifest.json\" />\n",
      "<link rel=\"mask-icon\" href=\"/static/img/atoms/images/favicon/safari-pinned-tab.svg\" color=\"#010050\" />\n",
      "<link rel=\"shortcut icon\" href=\"/static/img/atoms/images/favicon/favicon.ico\" />\n",
      "    <meta name=\"msapplication-TileColor\" content=\"#010050\" />\n",
      "    <meta name=\"msapplication-TileImage\" content=\"/static/img/atoms/images/favicon/mstile-144x144.png\" />\n",
      "    <meta name=\"msapplication-config\" content=\"/static/img/atoms/images/favicon/browserconfig.xml\" />\n",
      "    <meta name=\"theme-color\" content=\"#010050\" />\n",
      "    <script type=\"text/javascript\" id=\"tealium_datalayer\">\n",
      "        var utag_data = {\"site_location\": \"prod\", \"page_zone\": \"brandstof\", \"page_type\": \"other\", \"site_country\": \"NL\", \"site_name\": \"NU.nl\", \"tracking_by\": \"tealium\", \"dc_params\": \"CATEGORY=brandstof;KEYWORDS=;\"};\n",
      "    </script>\n",
      "    <script src=\"https://consent.snmmd.nl/js/cookiebar-latest.js\"></script>\n",
      "    <script type=\"text/javascript\">\n",
      "        (function(a,b,c,d){\n",
      "            a='//tags.tiqcdn.com/utag/sanoma/nu-nl/prod/utag.js';\n",
      "            b=document;c='script';d=b.createElement(c);d.src=a;d.type='text/java'+c;d.async=true;\n",
      "            a=b.getElementsByTagName(c)[0];a.parentNode.insertBefore(d,a);\n",
      "        })();\n",
      "    </script>\n",
      "    <link href=\"https://fonts.googleapis.com/css?family=Noto+Sans:400,400i,700,700i&amp;subset=latin-ext\" rel=\"stylesheet\">\n",
      "<link rel=\"stylesheet\" href=\"/static/CACHE/css/6e7d5624dac0.css\" type=\"text/css\" media=\"all\" />\n",
      "<!-- Block CSS -->\n",
      "    <script type=\"text/javascript\">\n",
      "        var app_name = 'NU';\n",
      "        var app_stage = 'production';\n",
      "        var FULL_PATH = '/brandstof';\n",
      "    </script>\n",
      "        <script type=\"text/javascript\">\n",
      "            var NU = NU || {}, static_url = '/static/', mediatool_base_url = 'media.nu.nl', blocks = {}, is_adblocker_in_use = true, JW_VIDEO_URL = 'https://content.jwplatform.com/manifests/{id}.m3u8', JW_LIVESTREAM_URL = 'https://cdn.jwplayer.com/videos/{id}.m3u8', JW_THUMB_URL = 'https://content.jwplatform.com/thumbs/{id}-720.jpg', CORAL_TALK_URL = 'https://talk.nu.nl'; NU.relatedVideoProviders = [ { url: '', slug: 'editorial' } ]; NU.RelatedVideoSource = 'ratas'; NU.RatasVideoRecommendationsUrl = 'https://ratas.sanoma.fi/recs/2.2/video_overlay/nunl'; NU.RatasVideoRecommendationsTtl = '1m'; NU.RatasVideoPageRecommendationsUrl = 'https://ratas.sanoma.fi/recs/2.2/video_list/nunl'; NU.RatasVideoPageRecommendationsTtl = '30m'; NU.ActivateStickySkyscraper = 0; NU.VideoDurationDefault = '90'; NU.SanomaAccountRegisterScreenName = 'funnel_email'; NU.SanomaAccountLoginScreenName = 'funnel_email'; NU.IsComponentsPage = false;\n",
      "            document.documentElement.classList.remove(\"no-js\");\n",
      "        </script>\n",
      "        <script src=\"/static/js/advertising.js\" type=\"text/javascript\"></script>\n",
      "<script type=\"text/javascript\" src=\"/static/CACHE/js/2f02c52565bc.js\"></script>\n",
      "    <script type=\"text/javascript\" src=\"/static/CACHE/js/39c73e552b52.js\"></script>\n",
      "    <!-- Advertorial styling -->\n",
      "    <!-- Advertorial styling -->\n",
      "</head>\n",
      "<body id=\"nu\" class=\"three-columns page-fuel  \" data-pagetype=\"fuel\" data-section=\"\">\n",
      "    <div class=\"skip dispnone\">\n",
      "        <a href=\"#main\">Skip to main content</a>\n",
      "    </div>\n",
      "        <div\n",
      "    id=\"block-8d378b2534004fbd9d6c962a8822d55d\"\n",
      "    data-id=\"block-8d378b2534004fbd9d6c962a8822d55d\"\n",
      "    data-position=\"\"\n",
      "    data-type=\"topbar2\"\n",
      "    class=\"block topbar2\"\n",
      "    data-sac-marker=\"block.topbar2\"\n",
      ">\n",
      "    <div class=\"block-content\">\n",
      "    <a href=\"/\" class=\"top-logo\">\n",
      "            <img src=\"/static/img/atoms/images/logos/nu_logo.svg\" alt=\"NU.nl\">\n",
      "            NU.nl\n",
      "    </a>\n",
      "        <div class=\"datetime\">\n",
      "            Donderdag 02 mei 2019\n",
      "        </div>\n",
      "        <div class=\"separator\"></div>\n",
      "        <div class=\"component_container\" data-component=\"account_component\" data-context=\"{}\">\n",
      "    <div data-server-rendered=\"true\" class=\"btn account hidden\"><div class=\"accountimage fc fc-account\"><!----></div><div class=\"loginbutton\">\n",
      "        Mijn NU.nl\n",
      "    </div><!----></div>\n",
      "</div>\n",
      "</div>\n",
      "</div>\n",
      "        <div\n",
      "    id=\"block-c059e63ba97b4c15b51b79a5645949f7\"\n",
      "    data-id=\"block-c059e63ba97b4c15b51b79a5645949f7\"\n",
      "    data-position=\"\"\n",
      "    data-type=\"topmenu\"\n",
      "    class=\"block topmenu show-nav at-top small\"\n",
      "    data-sac-marker=\"block.topmenu\"\n",
      ">\n",
      "    <nav class=\"block-wrapper\">\n",
      "    <div class=\"main-menu-wrapper\">\n",
      "        <div class=\"block-content\">\n",
      "            <a href=\"/\" class=\"top-logo\">\n",
      "                    <img src=\"/static/img/atoms/images/logos/nu_logo.svg\" alt=\"NU.nl\">\n",
      "            </a>\n",
      "            <ul class=\"main-menu\">\n",
      "                    <li class=\"nav_item  item_default\">\n",
      "    <a href=\"/\" title=\"Voorpagina\">\n",
      "        Voorpagina\n",
      "    </a>\n",
      "</li>\n",
      "                    <li class=\"nav_item  item_nuzakelijk\">\n",
      "    <a href=\"/economie\" title=\"Economie\">\n",
      "        Economie\n",
      "    </a>\n",
      "</li>\n",
      "                    <li class=\"nav_item  item_nusport\">\n",
      "    <a href=\"/sport\" title=\"NUsport\">\n",
      "        NUsport\n",
      "    </a>\n",
      "</li>\n",
      "                    <li class=\"nav_item  item_nutech\">\n",
      "    <a href=\"/tech\" title=\"Tech\">\n",
      "        Tech\n",
      "    </a>\n",
      "</li>\n",
      "                    <li class=\"nav_item  item_nuentertainment\">\n",
      "    <a href=\"/entertainment\" title=\"Entertainment\">\n",
      "        Entertainment\n",
      "    </a>\n",
      "</li>\n",
      "                    <li class=\"nav_item  item_nuuit\">\n",
      "    <a href=\"/uit\" title=\"Uit\">\n",
      "        Uit\n",
      "    </a>\n",
      "</li>\n",
      "                    <li class=\"nav_item  item_nuoverig\">\n",
      "    <a href=\"/auto\" title=\"Auto\">\n",
      "        Auto\n",
      "    </a>\n",
      "</li>\n",
      "                    <li class=\"nav_item  item_nuzakelijk\">\n",
      "    <a href=\"/wonen\" title=\"Wonen\">\n",
      "        Wonen\n",
      "    </a>\n",
      "</li>\n",
      "                    <li class=\"nav_item  item_default\">\n",
      "    <a href=\"/nushop\" title=\"Shop\">\n",
      "        Shop\n",
      "    </a>\n",
      "</li>\n",
      "                <li class=\"nav_item mobile-menu-only\">\n",
      "                    <a title=\"voorpagina\" href=\"/\">\n",
      "                        Voorpagina\n",
      "                    </a>\n",
      "                </li>\n",
      "                <li class=\"nav_item mobile-menu-only\">\n",
      "                    <a title=\"Meest recent\" href=\"/net-binnen\">\n",
      "                        Net binnen\n",
      "                    </a>\n",
      "                </li>\n",
      "                <li class=\"nav_item mobile-menu-only\">\n",
      "                    <a title=\"Meest gelezen\" href=\"/meest-gelezen\">\n",
      "                        Populair\n",
      "                    </a>\n",
      "                </li>\n",
      "                   <li class=\"nav_item nav_more both-mobile-desktop\">\n",
      "                        <a title=\"meer navigatie opties\" href=\"#\">\n",
      "                            <span class=\"more\">Meer</span>\n",
      "                            <span class=\"less\">Minder</span>\n",
      "                        </a>\n",
      "                    </li>\n",
      "            </ul>\n",
      "                <div class=\"component_container\" data-component=\"account_component\" data-context=\"{}\">\n",
      "    <div data-server-rendered=\"true\" class=\"btn account hidden\"><div class=\"accountimage fc fc-account\"><!----></div><div class=\"loginbutton\">\n",
      "        Mijn NU.nl\n",
      "    </div><!----></div>\n",
      "</div>\n",
      "        </div>\n",
      "    </div>\n",
      "        <div class=\"dropdown-menu-wrapper\">\n",
      "            <div class=\"block-content\">\n",
      "                <div class=\"dropdown-menu navigation\">\n",
      "                    <ul class=\"site_overview \">\n",
      "    <li class=\"nav_item item_default\">\n",
      "        <a href=\"/\">Voorpagina</a>\n",
      "            <ul class=\"nav_submenu\">\n",
      "                <li class=\"nav_subitem item_default\">\n",
      "                    <a href=\"/net-binnen\">Net binnen</a>\n",
      "                </li>\n",
      "                <li class=\"nav_subitem item_default\">\n",
      "                    <a href=\"/binnenland\">Binnenland</a>\n",
      "                </li>\n",
      "                <li class=\"nav_subitem item_default\">\n",
      "                    <a href=\"/buitenland\">Buitenland</a>\n",
      "                </li>\n",
      "                <li class=\"nav_subitem item_default\">\n",
      "                    <a href=\"/politiek\">Politiek</a>\n",
      "                </li>\n",
      "                <li class=\"nav_subitem item_default\">\n",
      "                    <a href=\"/klimaat\">Klimaat</a>\n",
      "                </li>\n",
      "                <li class=\"nav_subitem item_default\">\n",
      "                    <a href=\"/videos\">Video</a>\n",
      "                </li>\n",
      "                <li class=\"nav_subitem item_default\">\n",
      "                    <a href=\"/podcast\">Podcast</a>\n",
      "                </li>\n",
      "            </ul>\n",
      "    </li>\n",
      "    <li class=\"nav_item item_nuzakelijk\">\n",
      "        <a href=\"/economie\">Economie</a>\n",
      "            <ul class=\"nav_submenu\">\n",
      "                <li class=\"nav_subitem item_nuzakelijk\">\n",
      "                    <a href=\"/geldzaken\">Geld</a>\n",
      "                </li>\n",
      "                <li class=\"nav_subitem item_nuzakelijk\">\n",
      "                    <a href=\"/werk\">Werk</a>\n",
      "                </li>\n",
      "                <li class=\"nav_subitem item_nuzakelijk\">\n",
      "                    <a href=\"/ondernemen\">Zakelijk</a>\n",
      "                </li>\n",
      "                <li class=\"nav_subitem item_nuzakelijk\">\n",
      "                    <a href=\"/brexit\">Brexit</a>\n",
      "                </li>\n",
      "                <li class=\"nav_subitem item_nuzakelijk\">\n",
      "                    <a href=\"/auto\">Auto</a>\n",
      "                </li>\n",
      "            </ul>\n",
      "    </li>\n",
      "    <li class=\"nav_item item_nusport\">\n",
      "        <a href=\"/sport\">NUsport</a>\n",
      "            <ul class=\"nav_submenu\">\n",
      "                <li class=\"nav_subitem item_nusport\">\n",
      "                    <a href=\"/voetbal\">Voetbal</a>\n",
      "                </li>\n",
      "                <li class=\"nav_subitem item_nusport\">\n",
      "                    <a href=\"/champions-league\">Champions League</a>\n",
      "                </li>\n",
      "                <li class=\"nav_subitem item_nusport\">\n",
      "                    <a href=\"/formule-1\">Formule 1</a>\n",
      "                </li>\n",
      "                <li class=\"nav_subitem item_nusport\">\n",
      "                    <a href=\"https://www.nu.nl/gp-spel\" target=\"_blank\">GP-spel</a>\n",
      "                </li>\n",
      "                <li class=\"nav_subitem item_nusport\">\n",
      "                    <a href=\"/wielrennen\">Wielrennen</a>\n",
      "                </li>\n",
      "                <li class=\"nav_subitem item_nusport\">\n",
      "                    <a href=\"/sport-overig\">Meer Sport</a>\n",
      "                </li>\n",
      "            </ul>\n",
      "    </li>\n",
      "    <li class=\"nav_item item_nutech\">\n",
      "        <a href=\"/tech\">Tech</a>\n",
      "            <ul class=\"nav_submenu\">\n",
      "                <li class=\"nav_subitem item_nutech\">\n",
      "                    <a href=\"/internet\">Internet</a>\n",
      "                </li>\n",
      "                <li class=\"nav_subitem item_nutech\">\n",
      "                    <a href=\"/gadgets\">Gadgets</a>\n",
      "                </li>\n",
      "                <li class=\"nav_subitem item_nutech\">\n",
      "                    <a href=\"/games\">Games</a>\n",
      "                </li>\n",
      "                <li class=\"nav_subitem item_nutech\">\n",
      "                    <a href=\"/mobiel\">Mobiel</a>\n",
      "                </li>\n",
      "            </ul>\n",
      "    </li>\n",
      "    <li class=\"nav_item item_nuentertainment\">\n",
      "        <a href=\"/entertainment\">Entertainment</a>\n",
      "            <ul class=\"nav_submenu\">\n",
      "                <li class=\"nav_subitem item_nuentertainment\">\n",
      "                    <a href=\"/achterklap\">Achterklap</a>\n",
      "                </li>\n",
      "                <li class=\"nav_subitem item_nuentertainment\">\n",
      "                    <a href=\"/film\">Films en series</a>\n",
      "                </li>\n",
      "                <li class=\"nav_subitem item_nuentertainment\">\n",
      "                    <a href=\"/muziek\">Muziek</a>\n",
      "                </li>\n",
      "                <li class=\"nav_subitem item_nuentertainment\">\n",
      "                    <a href=\"/songfestival\">Songfestival 2019</a>\n",
      "                </li>\n",
      "                <li class=\"nav_subitem item_nuentertainment\">\n",
      "                    <a href=\"/cultuur-overig\">Boek en cultuur</a>\n",
      "                </li>\n",
      "                <li class=\"nav_subitem item_nuentertainment\">\n",
      "                    <a href=\"/media\">Media</a>\n",
      "                </li>\n",
      "            </ul>\n",
      "    </li>\n",
      "    <li class=\"nav_item item_nuuit\">\n",
      "        <a href=\"/uit\">Uit</a>\n",
      "            <ul class=\"nav_submenu\">\n",
      "                <li class=\"nav_subitem item_nuuit\">\n",
      "                    <a href=\"/uit-nieuws\">Nieuws</a>\n",
      "                </li>\n",
      "                <li class=\"nav_subitem item_nuuit\">\n",
      "                    <a href=\"/uit-achtergrond\">Achtergrond</a>\n",
      "                </li>\n",
      "                <li class=\"nav_subitem item_nuuit\">\n",
      "                    <a href=\"/uit-tips\">Tips</a>\n",
      "                </li>\n",
      "                <li class=\"nav_subitem item_nuuit\">\n",
      "                    <a href=\"/festival\">Festival</a>\n",
      "                </li>\n",
      "                <li class=\"nav_subitem item_nuuit\">\n",
      "                    <a href=\"/tickets\">Tickets</a>\n",
      "                </li>\n",
      "            </ul>\n",
      "    </li>\n",
      "    <li class=\"nav_item item_nuoverig\">\n",
      "        <a href=\"/overig\">Overig</a>\n",
      "            <ul class=\"nav_submenu\">\n",
      "                <li class=\"nav_subitem item_nuoverig\">\n",
      "                    <a href=\"/wetenschap\">Wetenschap</a>\n",
      "                </li>\n",
      "                <li class=\"nav_subitem item_\">\n",
      "                    <a href=\"/nucheckt\">NUcheckt</a>\n",
      "                </li>\n",
      "                <li class=\"nav_subitem item_nuoverig\">\n",
      "                    <a href=\"/gezondheid\">Gezondheid</a>\n",
      "                </li>\n",
      "                <li class=\"nav_subitem item_nuoverig\">\n",
      "                    <a href=\"/eten-en-drinken\">Eten en drinken</a>\n",
      "                </li>\n",
      "                <li class=\"nav_subitem item_nuoverig\">\n",
      "                    <a href=\"/opmerkelijk\">Opmerkelijk</a>\n",
      "                </li>\n",
      "                <li class=\"nav_subitem item_nuoverig\">\n",
      "                    <a href=\"/dieren\">Dieren</a>\n",
      "                </li>\n",
      "            </ul>\n",
      "    </li>\n",
      "</ul>\n",
      "                    <ul class=\"dropdown-menu-sidebar-links\">\n",
      "    <li class=\"nav_item item_default\">\n",
      "        <a href=\"https://www.nuadverteren.nl/\" target=\"_blank\">Adverteren</a>\n",
      "    </li>\n",
      "    <li class=\"nav_item item_default\">\n",
      "        <a href=\"/videos\">Videos</a>\n",
      "    </li>\n",
      "    <li class=\"nav_item item_default\">\n",
      "        <a href=\"/podcasts\">Podcasts</a>\n",
      "    </li>\n",
      "    <li class=\"nav_item item_default\">\n",
      "        <a href=\"https://www.nu.nl/vacature\" target=\"_blank\">Vacature</a>\n",
      "    </li>\n",
      "</ul>\n",
      "                </div>\n",
      "            </div>\n",
      "        </div>\n",
      "</nav>\n",
      "</div>\n",
      "        <div class=\"zone clearfix\" data-zone=\"body_top\" data-vr-zone=\"body_top\">\n",
      "</div>\n",
      "    <div id=\"container\" class=\"clearfix\">\n",
      "        <div id=\"header\">\n",
      "                <div class=\"zone clearfix\" data-zone=\"header\" data-vr-zone=\"header\">\n",
      "    <div\n",
      "    id=\"block-241461\"\n",
      "    data-id=\"block-241461\"\n",
      "    data-position=\"\"\n",
      "    data-type=\"smartbanner\"\n",
      "    class=\"block smartbanner\"\n",
      "    data-sac-marker=\"block.smartbanner\"\n",
      ">\n",
      "    <div class=\"block-wrapper\">\n",
      "    <div class=\"block-content\">\n",
      "    </div>\n",
      "</div>\n",
      "</div>\n",
      "    <div\n",
      "    id=\"block-387531\"\n",
      "    data-id=\"block-387531\"\n",
      "    data-position=\"\"\n",
      "    data-type=\"tealium\"\n",
      "    class=\"block tealium h1\"\n",
      "    data-sac-marker=\"block.tealium\"\n",
      ">\n",
      "    <div class=\"block-wrapper\" id=\"h1\"></div>\n",
      "</div>\n",
      "</div>\n",
      "            <div\n",
      "    id=\"block-3ce05532e0fc407295122488f889faa8\"\n",
      "    data-id=\"block-3ce05532e0fc407295122488f889faa8\"\n",
      "    data-position=\"\"\n",
      "    data-type=\"toast.oldbrowser\"\n",
      "    class=\"block toast-oldbrowser toast\"\n",
      "    data-sac-marker=\"block.toast.oldbrowser\"\n",
      "    data-age=\"30\"\n",
      "    data-hash=\"5cbe4e1af6c9e50eb4575db05810cde60f7b114f\"\n",
      ">\n",
      "    <div class=\"block-content\">\n",
      "    Hallo! Je browser is verouderd. Daarom werken bepaalde elementen van NU.nl mogelijk niet goed. Upgrade je browser via Instellingen.\n",
      "    <a class=\"close\" href=\"#\"><i class=\"fa fa-times\"></i></a>\n",
      "</div>\n",
      "</div>\n",
      "            <div class=\"block toast adblocker\" data-type=\"toast.adblocker\" style=\"display: none;\">\n",
      "    <div class=\"block-content\">\n",
      "        <p>Beste bezoeker,<br /><br />\n",
      "        Wij zien dat u een adblocker gebruikt waardoor u alleen advertenties ziet die door uw adblocker worden goedgekeurd.\n",
      "        Dit vinden wij jammer, want NU.nl is mede dankzij onze advertenties gratis toegankelijk. Wilt u een uitzondering maken voor NU.nl,\n",
      "        of meer lezen over hoe wij met advertenties omgaan?\n",
      "        <a href=\"/adblock.html\" class=\"trackevent\">Klik dan hier</a>.\n",
      "    </div>\n",
      "</div>\n",
      "        </div>\n",
      "        <div id=\"content_container clearfix\">\n",
      "            <div id=\"menu\" class=\"column first nu-main-menu nu-main-menu-left\">\n",
      "                <div class=\"column-content\">\n",
      "                        <div class=\"zone clearfix\" data-zone=\"menu\" data-vr-zone=\"menu\">\n",
      "    <div\n",
      "    id=\"block-241473\"\n",
      "    data-id=\"block-241473\"\n",
      "    data-position=\"\"\n",
      "    data-type=\"menu\"\n",
      "    class=\"block menu compact\"\n",
      "    data-sac-marker=\"block.menu\"\n",
      ">\n",
      "    <!-- Left menu element-->\n",
      "<nav>\n",
      "\t<div class=\"nav-branding\">\n",
      "        <div class=\"nav-item nav-title\">\n",
      "            <a href=\"/\" class=\"logo trackevent\" data-trackeventlabel=\"logo\">\n",
      "    <div class=\"svg-icon icon-main icon-\">\n",
      "        <img src=\"/static/img/atoms/images/logos/logosprite.svg?v=4\"\n",
      "             alt=\" logo\" />\n",
      "</div>\n",
      "</a>\n",
      "            <h3>NU</h3>\n",
      "            <div class=\"clear\"></div>\n",
      "        </div>\n",
      "    </div>\n",
      "    <div class=\"nav-content\">\n",
      "    <a href=\"/\" class=\"nav-item nav-main   first trackevent\" >\n",
      "        Voorpagina\n",
      "    </a>\n",
      "    <a href=\"/net-binnen\" class=\"nav-item nav-main    trackevent\" >\n",
      "        Net binnen\n",
      "    </a>\n",
      "    <a href=\"/algemeen\" class=\"nav-item nav-main    trackevent\" >\n",
      "        Algemeen\n",
      "    </a>\n",
      "    <a href=\"/economie\" class=\"nav-item nav-main    trackevent\" >\n",
      "        Economie\n",
      "    </a>\n",
      "    <a href=\"/sport\" class=\"nav-item nav-main    trackevent\" >\n",
      "        Sport\n",
      "    </a>\n",
      "    <a href=\"/tech\" class=\"nav-item nav-main    trackevent\" >\n",
      "        Tech\n",
      "    </a>\n",
      "    <a href=\"/entertainment\" class=\"nav-item nav-main    trackevent\" >\n",
      "        Entertainment\n",
      "    </a>\n",
      "    <a href=\"/uit\" class=\"nav-item nav-main    trackevent\" >\n",
      "        Uit\n",
      "    </a>\n",
      "    <a href=\"/overig\" class=\"nav-item nav-main    trackevent\" >\n",
      "        Overig\n",
      "    </a>\n",
      "    <a href=\"/videos\" class=\"nav-item nav-main    trackevent\" >\n",
      "        Video&#39;s\n",
      "    </a>\n",
      "    <a href=\"/podcast\" class=\"nav-item nav-main    trackevent\" >\n",
      "        Podcasts\n",
      "    </a>\n",
      "    <a href=\"/regio\" class=\"nav-item nav-main    trackevent\" >\n",
      "        Regionaal\n",
      "    </a>\n",
      "    <a href=\"https://www.nu.nl/gp-spel\" class=\"nav-item nav-main    trackevent\" >\n",
      "        NUsport GP-spel\n",
      "    </a>\n",
      "    <a href=\"/advertorials\" class=\"nav-item nav-main   last trackevent\" >\n",
      "        Adverteerders\n",
      "    </a>\n",
      "        <div class=\"clear\"></div>\n",
      "    </div>\n",
      "</nav>\n",
      "</div>\n",
      "    <div\n",
      "    id=\"block-387534\"\n",
      "    data-id=\"block-387534\"\n",
      "    data-position=\"\"\n",
      "    data-type=\"tealium\"\n",
      "    class=\"block tealium compact v1\"\n",
      "    data-sac-marker=\"block.tealium\"\n",
      ">\n",
      "    <div class=\"block-wrapper\" id=\"v1\"></div>\n",
      "</div>\n",
      "</div>\n",
      "                </div>\n",
      "            </div>\n",
      "            <div id=\"main\" class=\"column two last clearfix\">\n",
      "                <div class=\"column-content clearfix\">\n",
      "                    <div class=\"zone clearfix\" data-zone=\"top\" data-vr-zone=\"top\">\n",
      "    <div\n",
      "    id=\"block-241471\"\n",
      "    data-id=\"block-241471\"\n",
      "    data-position=\"\"\n",
      "    data-type=\"topbar\"\n",
      "    class=\"block topbar\"\n",
      "    data-sac-marker=\"block.topbar\"\n",
      ">\n",
      "    <div class=\"block-wrapper clearfix\">\n",
      "    <div class=\"column first clearfix\">\n",
      "        <div class=\"search-box-molecule closed\">\n",
      "    <div class=\"search-box\">\n",
      "       <form action=\"/zoeken\">\n",
      "            <button type=\"submit\" class=\"trackevent\" data-trackeventlabel=\"submit-search\"><i class=\"fa fa-search\"></i></button>\n",
      "            <div class=\"search-input\">\n",
      "                <input id=\"search-input-q\" name=\"q\" type=\"search\" placeholder=\"Zoeken\" />\n",
      "            </div>\n",
      "        </form>\n",
      "    </div>\n",
      "    <button class=\"btn search-button trackevent\" data-trackeventlabel=\"toggle-search\" type=\"button\">\n",
      "        <i class=\"fa fa-search\"></i>\n",
      "        <i class=\"fa fa-times\"></i>\n",
      "    </button>\n",
      "</div>\n",
      "        <div class=\"block slogan\">\n",
      "    <div class=\"block-wrapper\">\n",
      "        <div class=\"block-content\">\n",
      "            Donderdag 02 mei 2019\n",
      "            <div class=\"min600 set-inline\">\n",
      "                <div class=\"divider dotted vertical\">|</div>\n",
      "                <span>Het laatste nieuws het eerst op NU.nl</span>\n",
      "            </div>\n",
      "        </div>\n",
      "    </div>\n",
      "</div>\n",
      "    </div>\n",
      "    <div class=\"column last\">\n",
      "        <div class=\"component_container\" data-component=\"widget_links\" data-context=\"{&quot;matches&quot;: &quot;0 live&quot;, &quot;aex&quot;: &quot;567,81&quot;, &quot;weather&quot;: {&quot;weather_code&quot;: &quot;F&quot;, &quot;temperature&quot;: &quot;11 \\u00b0C&quot;}, &quot;traffic&quot;: {&quot;gasprices&quot;: &quot;1,833&quot;, &quot;train_incidents&quot;: 0, &quot;jams&quot;: &quot;403 km (67)&quot;}, &quot;classes&quot;: &quot;tiles&quot;}\">\n",
      "    <div data-server-rendered=\"true\" class=\"particle widgetlinks tiles\"><ul><li><a href=\"/weer\" data-trackeventlabel=\"weather\" data-trackeventcategory=\"widget\" data-trackeventaction=\"click\" class=\"trackevent\"><i class=\"icon fc fc-weather-f\"></i><span class=\"value\">11 °C</span></a></li><li><a href=\"/verkeer\" data-trackeventlabel=\"traffic\" data-trackeventcategory=\"widget\" data-trackeventaction=\"click\" class=\"trackevent\"><i class=\"icon fc fc-traffic\"></i><span class=\"value\">403 km (67)</span><!----><!----></a></li><li><a href=\"/aandelen\" data-trackeventlabel=\"stock\" data-trackeventcategory=\"widget\" data-trackeventaction=\"click\" class=\"trackevent\"><i class=\"icon fc fc-stocks\"></i><span class=\"value\">567,81</span></a></li><li><a href=\"/tvgids\" data-trackeventlabel=\"tvguide\" data-trackeventcategory=\"widget\" data-trackeventaction=\"click\" class=\"trackevent\"><i class=\"icon fc fc-television\"></i><span class=\"value\">TV gids</span></a></li><li><a href=\"/live/voetbal\" data-trackeventlabel=\"sports\" data-trackeventcategory=\"widget\" data-trackeventaction=\"click\" class=\"trackevent\"><i class=\"icon fc fc-soccer-ball\"></i><span class=\"value\">0 live</span></a></li></ul></div>\n",
      "</div>\n",
      "    </div>\n",
      "</div>\n",
      "</div>\n",
      "</div>\n",
      "                    <div class=\"column first\">\n",
      "                        <div class=\"column-content\">\n",
      "                            <div class=\"column-content-background\">\n",
      "        <div class=\"zone clearfix\" data-zone=\"main\" data-vr-zone=\"main\">\n",
      "    <div\n",
      "    id=\"block-241477\"\n",
      "    data-id=\"block-241477\"\n",
      "    data-position=\"\"\n",
      "    data-type=\"traffic.toggles\"\n",
      "    class=\"block traffic-toggles\"\n",
      "    data-sac-marker=\"block.traffic.toggles\"\n",
      ">\n",
      "    <div class=\"block-wrapper\">\n",
      "    <div class=\"block-content\">\n",
      "        <ul>\n",
      "            <li class=\"road \"><a href=\"/verkeer\" class=\"trackevent\" data-trackeventlabel=\"traffic-toggle-road\"><span>Verkeer</span></a></li>\n",
      "            <li class=\"rail \"><a href=\"/trein\" class=\"trackevent\" data-trackeventlabel=\"traffic-toggle-train\"><span>NS Info</span></a></li>\n",
      "            <li class=\"fuel current\"><a href=\"/brandstof\" class=\"trackevent\" data-trackeventlabel=\"traffic-toggle-fuel\"><span>Brandstof</span></a></li>\n",
      "        </ul>\n",
      "        <div class=\"clear\"></div>\n",
      "    </div>\n",
      "</div>\n",
      "</div>\n",
      "    <div\n",
      "    id=\"block-241479\"\n",
      "    data-id=\"block-241479\"\n",
      "    data-position=\"\"\n",
      "    data-type=\"text\"\n",
      "    class=\"block text\"\n",
      "    data-sac-marker=\"block.text\"\n",
      ">\n",
      "    <div class=\"block-wrapper widgets\">\n",
      "    <div class=\"block-title\"><h2>Actuele brandstofprijzen</h2></div>\n",
      "    <div class=\"block-content\">Onderstaand schema geeft dagelijks de adviesprijzen van de vijf grootste oliemaatschappijen weer. De Gemiddelde Landelijke Adviesprijs (GLA) is het gemiddelde van deze adviesprijzen. Wekelijks wijzigen de prijzen van de oliemaatschappijen ongeveer drie keer.</div>\n",
      "</div>\n",
      "</div>\n",
      "    <div\n",
      "    id=\"block-241481\"\n",
      "    data-id=\"block-241481\"\n",
      "    data-position=\"\"\n",
      "    data-type=\"traffic.fuel.pricetable\"\n",
      "    class=\"block traffic-fuel-pricetable traffic\"\n",
      "    data-sac-marker=\"block.traffic.fuel.pricetable\"\n",
      ">\n",
      "    <div class=\"block-wrapper\">\n",
      "    <div class=\"block-content\">\n",
      "    <div class=\"card collapsible compact-table\">\n",
      "        <div class=\"card-wrapper\">\n",
      "            <div class=\"card-content\">\n",
      "                <strong>Euro95</strong>\n",
      "            </div>\n",
      "            <div class=\"card-extended-content\">\n",
      "                <table class=\"table table-bordered horizontal vertical\">\n",
      "                    <tbody>\n",
      "                        <tr>\n",
      "                            <td>GLA*</td>\n",
      "                            <td>1,833</td>\n",
      "                        </tr>\n",
      "                        <tr>\n",
      "                            <td>Verschil**</td>\n",
      "                            <td class=\"\">0,0</td>\n",
      "                        </tr>\n",
      "                                <tr>\n",
      "                                    <td>BP</td>\n",
      "                                    <td>1,839</td>\n",
      "                                </tr>\n",
      "                                <tr>\n",
      "                                    <td>Esso</td>\n",
      "                                    <td>1,829</td>\n",
      "                                </tr>\n",
      "                                <tr>\n",
      "                                    <td>Shell</td>\n",
      "                                    <td>1,829</td>\n",
      "                                </tr>\n",
      "                                <tr>\n",
      "                                    <td>Texaco</td>\n",
      "                                    <td>1,839</td>\n",
      "                                </tr>\n",
      "                                <tr>\n",
      "                                    <td>Total</td>\n",
      "                                    <td>1,829</td>\n",
      "                                </tr>\n",
      "                    </tbody>\n",
      "                </table>\n",
      "            </div>\n",
      "        </div>\n",
      "    </div>\n",
      "    <div class=\"card collapsible compact-table\">\n",
      "        <div class=\"card-wrapper\">\n",
      "            <div class=\"card-content\">\n",
      "                <strong>Diesel</strong>\n",
      "            </div>\n",
      "            <div class=\"card-extended-content\">\n",
      "                <table class=\"table table-bordered horizontal vertical\">\n",
      "                    <tbody>\n",
      "                        <tr>\n",
      "                            <td>GLA*</td>\n",
      "                            <td>1,491</td>\n",
      "                        </tr>\n",
      "                        <tr>\n",
      "                            <td>Verschil**</td>\n",
      "                            <td class=\"\">0,0</td>\n",
      "                        </tr>\n",
      "                                <tr>\n",
      "                                    <td>BP</td>\n",
      "                                    <td>1,489</td>\n",
      "                                </tr>\n",
      "                                <tr>\n",
      "                                    <td>Esso</td>\n",
      "                                    <td>1,489</td>\n",
      "                                </tr>\n",
      "                                <tr>\n",
      "                                    <td>Shell</td>\n",
      "                                    <td>1,489</td>\n",
      "                                </tr>\n",
      "                                <tr>\n",
      "                                    <td>Texaco</td>\n",
      "                                    <td>1,499</td>\n",
      "                                </tr>\n",
      "                                <tr>\n",
      "                                    <td>Total</td>\n",
      "                                    <td>1,489</td>\n",
      "                                </tr>\n",
      "                    </tbody>\n",
      "                </table>\n",
      "            </div>\n",
      "        </div>\n",
      "    </div>\n",
      "    <div class=\"card collapsible compact-table\">\n",
      "        <div class=\"card-wrapper\">\n",
      "            <div class=\"card-content\">\n",
      "                <strong>LPG</strong>\n",
      "            </div>\n",
      "            <div class=\"card-extended-content\">\n",
      "                <table class=\"table table-bordered horizontal vertical\">\n",
      "                    <tbody>\n",
      "                        <tr>\n",
      "                            <td>GLA*</td>\n",
      "                            <td>0,868</td>\n",
      "                        </tr>\n",
      "                        <tr>\n",
      "                            <td>Verschil**</td>\n",
      "                            <td class=\"\">0,0</td>\n",
      "                        </tr>\n",
      "                                <tr>\n",
      "                                    <td>BP</td>\n",
      "                                    <td>0,869</td>\n",
      "                                </tr>\n",
      "                                <tr>\n",
      "                                    <td>Esso</td>\n",
      "                                    <td>0,876</td>\n",
      "                                </tr>\n",
      "                                <tr>\n",
      "                                    <td>Shell</td>\n",
      "                                    <td>0,869</td>\n",
      "                                </tr>\n",
      "                                <tr>\n",
      "                                    <td>Texaco</td>\n",
      "                                    <td>0,869</td>\n",
      "                                </tr>\n",
      "                                <tr>\n",
      "                                    <td>Total</td>\n",
      "                                    <td>0,859</td>\n",
      "                                </tr>\n",
      "                    </tbody>\n",
      "                </table>\n",
      "            </div>\n",
      "        </div>\n",
      "    </div>\n",
      "    <div class=\"card collapsible compact-table\">\n",
      "        <div class=\"card-wrapper\">\n",
      "            <div class=\"card-content\">\n",
      "                <strong>Super</strong>\n",
      "            </div>\n",
      "            <div class=\"card-extended-content\">\n",
      "                <table class=\"table table-bordered horizontal vertical\">\n",
      "                    <tbody>\n",
      "                        <tr>\n",
      "                            <td>GLA*</td>\n",
      "                            <td>1,914</td>\n",
      "                        </tr>\n",
      "                        <tr>\n",
      "                            <td>Verschil**</td>\n",
      "                            <td class=\"\">0,0</td>\n",
      "                        </tr>\n",
      "                                <tr>\n",
      "                                    <td>Texaco</td>\n",
      "                                    <td>1,909</td>\n",
      "                                </tr>\n",
      "                                <tr>\n",
      "                                    <td>Total</td>\n",
      "                                    <td>1,919</td>\n",
      "                                </tr>\n",
      "                    </tbody>\n",
      "                </table>\n",
      "            </div>\n",
      "        </div>\n",
      "    </div>\n",
      "    <div class=\"card collapsible compact-table\">\n",
      "        <div class=\"card-wrapper\">\n",
      "            <div class=\"card-content\">\n",
      "                <strong>Super MLV</strong>\n",
      "            </div>\n",
      "            <div class=\"card-extended-content\">\n",
      "                <table class=\"table table-bordered horizontal vertical\">\n",
      "                    <tbody>\n",
      "                        <tr>\n",
      "                            <td>GLA*</td>\n",
      "                            <td>1,919</td>\n",
      "                        </tr>\n",
      "                        <tr>\n",
      "                            <td>Verschil**</td>\n",
      "                            <td class=\"\">0,0</td>\n",
      "                        </tr>\n",
      "                                <tr>\n",
      "                                    <td>Texaco</td>\n",
      "                                    <td>1,919</td>\n",
      "                                </tr>\n",
      "                    </tbody>\n",
      "                </table>\n",
      "            </div>\n",
      "        </div>\n",
      "    </div>\n",
      "    <div class=\"card collapsible compact-table\">\n",
      "        <div class=\"card-wrapper\">\n",
      "            <div class=\"card-content\">\n",
      "                <strong>Premium benzines</strong>\n",
      "            </div>\n",
      "            <div class=\"card-extended-content\">\n",
      "                <table class=\"table table-bordered horizontal vertical\">\n",
      "                    <tbody>\n",
      "                        <tr>\n",
      "                            <td>GLA*</td>\n",
      "                            <td>1,902</td>\n",
      "                        </tr>\n",
      "                        <tr>\n",
      "                            <td>Verschil**</td>\n",
      "                            <td class=\"\">0,0</td>\n",
      "                        </tr>\n",
      "                                <tr>\n",
      "                                    <td>BP</td>\n",
      "                                    <td>1,919</td>\n",
      "                                </tr>\n",
      "                                <tr>\n",
      "                                    <td>Esso</td>\n",
      "                                    <td>1,894</td>\n",
      "                                </tr>\n",
      "                                <tr>\n",
      "                                    <td>Shell</td>\n",
      "                                    <td>1,899</td>\n",
      "                                </tr>\n",
      "                                <tr>\n",
      "                                    <td>Texaco</td>\n",
      "                                    <td>1,909</td>\n",
      "                                </tr>\n",
      "                                <tr>\n",
      "                                    <td>Total</td>\n",
      "                                    <td>1,889</td>\n",
      "                                </tr>\n",
      "                    </tbody>\n",
      "                </table>\n",
      "            </div>\n",
      "        </div>\n",
      "    </div>\n",
      "    <div class=\"card collapsible compact-table\">\n",
      "        <div class=\"card-wrapper\">\n",
      "            <div class=\"card-content\">\n",
      "                <strong>Premium diesels</strong>\n",
      "            </div>\n",
      "            <div class=\"card-extended-content\">\n",
      "                <table class=\"table table-bordered horizontal vertical\">\n",
      "                    <tbody>\n",
      "                        <tr>\n",
      "                            <td>GLA*</td>\n",
      "                            <td>1,567</td>\n",
      "                        </tr>\n",
      "                        <tr>\n",
      "                            <td>Verschil**</td>\n",
      "                            <td class=\"\">0,0</td>\n",
      "                        </tr>\n",
      "                                <tr>\n",
      "                                    <td>BP</td>\n",
      "                                    <td>1,569</td>\n",
      "                                </tr>\n",
      "                                <tr>\n",
      "                                    <td>Esso</td>\n",
      "                                    <td>1,559</td>\n",
      "                                </tr>\n",
      "                                <tr>\n",
      "                                    <td>Shell</td>\n",
      "                                    <td>1,569</td>\n",
      "                                </tr>\n",
      "                                <tr>\n",
      "                                    <td>Texaco</td>\n",
      "                                    <td>1,579</td>\n",
      "                                </tr>\n",
      "                                <tr>\n",
      "                                    <td>Total</td>\n",
      "                                    <td>1,559</td>\n",
      "                                </tr>\n",
      "                    </tbody>\n",
      "                </table>\n",
      "            </div>\n",
      "        </div>\n",
      "    </div>\n",
      "    <div class=\"card collapsible compact-table\">\n",
      "        <div class=\"card-wrapper\">\n",
      "            <div class=\"card-content\">\n",
      "                <strong>BlueOne95</strong>\n",
      "            </div>\n",
      "            <div class=\"card-extended-content\">\n",
      "                <table class=\"table table-bordered horizontal vertical\">\n",
      "                    <tbody>\n",
      "                        <tr>\n",
      "                            <td>GLA*</td>\n",
      "                            <td>1,823</td>\n",
      "                        </tr>\n",
      "                        <tr>\n",
      "                            <td>Verschil**</td>\n",
      "                            <td class=\"\">0,0</td>\n",
      "                        </tr>\n",
      "                                <tr>\n",
      "                                    <td>Argos</td>\n",
      "                                    <td>1,823</td>\n",
      "                                </tr>\n",
      "                    </tbody>\n",
      "                </table>\n",
      "            </div>\n",
      "        </div>\n",
      "    </div>\n",
      "<table class=\"table table-bordered horizontal vertical table-striped reversed full-table\">\n",
      "    <thead>\n",
      "        <tr>\n",
      "            <th class=\"brandname\">Brandstof</th>\n",
      "            <th>GLA*</th>\n",
      "            <th>Verschil**</th>\n",
      "                <th>Argos</th>\n",
      "                <th>BP</th>\n",
      "                <th>Esso</th>\n",
      "                <th>Shell</th>\n",
      "                <th>Texaco</th>\n",
      "                <th>Total</th>\n",
      "        </tr>\n",
      "    </thead>\n",
      "    <tbody>\n",
      "            <tr>\n",
      "                <td class=\"brandname\">Euro95</td>\n",
      "                <td>1,833</td>\n",
      "                <td class=\"\">0,0</td>\n",
      "                    <td>n.v.t</td>\n",
      "                    <td>1,839</td>\n",
      "                    <td>1,829</td>\n",
      "                    <td>1,829</td>\n",
      "                    <td>1,839</td>\n",
      "                    <td>1,829</td>\n",
      "            </tr>\n",
      "            <tr>\n",
      "                <td class=\"brandname\">Diesel</td>\n",
      "                <td>1,491</td>\n",
      "                <td class=\"\">0,0</td>\n",
      "                    <td>n.v.t</td>\n",
      "                    <td>1,489</td>\n",
      "                    <td>1,489</td>\n",
      "                    <td>1,489</td>\n",
      "                    <td>1,499</td>\n",
      "                    <td>1,489</td>\n",
      "            </tr>\n",
      "            <tr>\n",
      "                <td class=\"brandname\">LPG</td>\n",
      "                <td>0,868</td>\n",
      "                <td class=\"\">0,0</td>\n",
      "                    <td>n.v.t</td>\n",
      "                    <td>0,869</td>\n",
      "                    <td>0,876</td>\n",
      "                    <td>0,869</td>\n",
      "                    <td>0,869</td>\n",
      "                    <td>0,859</td>\n",
      "            </tr>\n",
      "            <tr>\n",
      "                <td class=\"brandname\">Super</td>\n",
      "                <td>1,914</td>\n",
      "                <td class=\"\">0,0</td>\n",
      "                    <td>n.v.t</td>\n",
      "                    <td>n.v.t</td>\n",
      "                    <td>n.v.t</td>\n",
      "                    <td>n.v.t</td>\n",
      "                    <td>1,909</td>\n",
      "                    <td>1,919</td>\n",
      "            </tr>\n",
      "            <tr>\n",
      "                <td class=\"brandname\">Super MLV</td>\n",
      "                <td>1,919</td>\n",
      "                <td class=\"\">0,0</td>\n",
      "                    <td>n.v.t</td>\n",
      "                    <td>n.v.t</td>\n",
      "                    <td>n.v.t</td>\n",
      "                    <td>n.v.t</td>\n",
      "                    <td>1,919</td>\n",
      "                    <td>n.v.t</td>\n",
      "            </tr>\n",
      "            <tr>\n",
      "                <td class=\"brandname\">Premium benzines</td>\n",
      "                <td>1,902</td>\n",
      "                <td class=\"\">0,0</td>\n",
      "                    <td>n.v.t</td>\n",
      "                    <td>1,919</td>\n",
      "                    <td>1,894</td>\n",
      "                    <td>1,899</td>\n",
      "                    <td>1,909</td>\n",
      "                    <td>1,889</td>\n",
      "            </tr>\n",
      "            <tr>\n",
      "                <td class=\"brandname\">Premium diesels</td>\n",
      "                <td>1,567</td>\n",
      "                <td class=\"\">0,0</td>\n",
      "                    <td>n.v.t</td>\n",
      "                    <td>1,569</td>\n",
      "                    <td>1,559</td>\n",
      "                    <td>1,569</td>\n",
      "                    <td>1,579</td>\n",
      "                    <td>1,559</td>\n",
      "            </tr>\n",
      "            <tr>\n",
      "                <td class=\"brandname\">BlueOne95</td>\n",
      "                <td>1,823</td>\n",
      "                <td class=\"\">0,0</td>\n",
      "                    <td>1,823</td>\n",
      "                    <td>n.v.t</td>\n",
      "                    <td>n.v.t</td>\n",
      "                    <td>n.v.t</td>\n",
      "                    <td>n.v.t</td>\n",
      "                    <td>n.v.t</td>\n",
      "            </tr>\n",
      "    </tbody>\n",
      "</table>\n",
      "<div class=\"fuel-pricetable-legend\">\n",
      "    <span class=\"fuel-update-time\">Laatste update: 2 mei 2019</span>\n",
      "    <span class=\"fuel-legend\">* GLA = Gemiddelde Landelijke Adviesprijs in euro's per liter.</span>\n",
      "    <span class=\"fuel-legend\">** Verschil t.o.v. 1 mei 2019 in centen.</span>\n",
      "</div>\n",
      "    </div>\n",
      "</div>\n",
      "</div>\n",
      "    <div\n",
      "    id=\"block-241483\"\n",
      "    data-id=\"block-241483\"\n",
      "    data-position=\"\"\n",
      "    data-type=\"text\"\n",
      "    class=\"block text\"\n",
      "    data-sac-marker=\"block.text\"\n",
      ">\n",
      "    <div class=\"block-wrapper widgets\">\n",
      "    <div class=\"block-content\">Nederland heeft de hoogste belastingdruk op brandstof in de wereld. Tweederde van de Euro95 bestaat uit accijns, wettelijke heffing en BTW. De rest van de literprijs is onder andere afhankelijk van de productieomvang, de dollarkoers, wereldgebeurtenissen en weersomstandigheden.</div>\n",
      "</div>\n",
      "</div>\n",
      "    <div\n",
      "    id=\"block-241485\"\n",
      "    data-id=\"block-241485\"\n",
      "    data-position=\"\"\n",
      "    data-type=\"link\"\n",
      "    class=\"block link\"\n",
      "    data-sac-marker=\"block.link\"\n",
      ">\n",
      "<div class=\"block-wrapper default\">\n",
      "    <div class=\"block-content\">\n",
      "        <div class=\"molecule-link molecule-extension\">\n",
      "    <a href=\"http://www.unitedconsumers.com/vakantie\" class=\"via-link trackevent\" data-trackeventlabel=\"link\">\n",
      "        <div class=\"item-content\">\n",
      "            <span>Brandstofprijzen in Europa</span>\n",
      "        </div>\n",
      "    </a>\n",
      "    <div class=\"clear\"></div>\n",
      "</div>\n",
      "    </div>\n",
      "</div>\n",
      "</div>\n",
      "    <div\n",
      "    id=\"block-241487\"\n",
      "    data-id=\"block-241487\"\n",
      "    data-position=\"\"\n",
      "    data-type=\"supplier.credits\"\n",
      "    class=\"block supplier-credits\"\n",
      "    data-sac-marker=\"block.supplier.credits\"\n",
      ">\n",
      "    <div class=\"block-wrapper\">\n",
      "    <div class=\"block-footer\">\n",
      "        <a href=\"https://www.unitedconsumers.com\" class=\"via-link trackevent\" target=\"_blank\">\n",
      "            <span>De brandstofinformatie wordt verzorgd door UnitedConsumers</span>\n",
      "        </a>\n",
      "    </div>\n",
      "</div>\n",
      "</div>\n",
      "    <div\n",
      "    id=\"block-387537\"\n",
      "    data-id=\"block-387537\"\n",
      "    data-position=\"\"\n",
      "    data-type=\"tealium\"\n",
      "    class=\"block tealium wsc-r1\"\n",
      "    data-sac-marker=\"block.tealium\"\n",
      ">\n",
      "    <div class=\"block-wrapper\" id=\"wsc-r1\"></div>\n",
      "</div>\n",
      "</div>\n",
      "                            </div>\n",
      "                        </div>\n",
      "                    </div>\n",
      "                    <div class=\"column last\">\n",
      "                        <div class=\"column-content\">\n",
      "                            <div class=\"zone clearfix\" data-zone=\"sidebar\" data-vr-zone=\"sidebar\">\n",
      "    <div\n",
      "    id=\"block-241491\"\n",
      "    data-id=\"block-241491\"\n",
      "    data-position=\"\"\n",
      "    data-type=\"mostcombination\"\n",
      "    class=\"block mostcombination compact\"\n",
      "    data-sac-marker=\"block.mostcombination\"\n",
      ">\n",
      "    <div class=\"block-wrapper\">\n",
      "    <div class=\"block-content\">\n",
      "        <div class=\"tabs tabs2 fullwidth\" data-tab-constrain=\"1\">\n",
      "            <div class=\"tabtrigger\">\n",
      "                <ul>\n",
      "                    <li class=\"active\"><a href=\"\" data-tab=\"1\" class=\"trackevent\" data-trackeventlabel=\"net_binnen\">Net binnen</a></li>\n",
      "                    <li><a href=\"#\" data-tab=\"2\" class=\"trackevent\" data-trackeventlabel=\"meest_gelezen\">Meest gelezen</a></li>\n",
      "                    <div class=\"clear\"></div>\n",
      "                </ul>\n",
      "                <div class=\"clear\"></div>\n",
      "            </div>\n",
      "            <div class=\"clear\"></div>\n",
      "            <div class=\"tab tab-1 active\">\n",
      "                <div\n",
      "    id=\"block-37b0ecb2884b4554b76efa8ba415ad59\"\n",
      "    data-id=\"block-37b0ecb2884b4554b76efa8ba415ad59\"\n",
      "    data-position=\"\"\n",
      "    data-type=\"mostrecent\"\n",
      "    class=\"block mostrecent\"\n",
      "    data-sac-marker=\"block.mostrecent\"\n",
      "    data-limit=\"4\"\n",
      "    data-offset=\"0\"\n",
      ">\n",
      "    <div class=\"contentlist most-recent\">\n",
      "    <div class=\"block-wrapper clearfix\">\n",
      "            <div class=\"block-title\">\n",
      "                <h2>Net binnen</h2>\n",
      "            </div>\n",
      "        <div class=\"block-content\">\n",
      "            <ul>\n",
      "                    <li class=\"hasvideo  \" data-sac-marker=\"articlelist.mostrecent.1\">\n",
      "                        <div class=\"list-content\">\n",
      "                            <a href=\"/champions-league/5872713/pochettino-tegen-ajax-alleen-kans-als-we-spelen-met-drang-van-messi.html\" title=\"Pochettino: &#39;Tegen Ajax alleen kans als we spelen met drang van Messi&#39;\" class=\"trackevent\" >\n",
      "                                <div class=\"list-overlay\">\n",
      "                                    <span class=\"info\">\n",
      "                                        <span class=\"time\">17:17</span>\n",
      "                                        <span class=\"title\">Pochettino: &#39;Tegen Ajax alleen kans als we spelen met drang van Messi&#39;</span>\n",
      "                                        <span class=\"section\">Champions League</span>\n",
      "                                    </span>\n",
      "                                </div>\n",
      "                            </a>\n",
      "                            <div class=\"clear\"></div>\n",
      "                        </div>\n",
      "                    </li>\n",
      "                    <li class=\"  \" data-sac-marker=\"articlelist.mostrecent.2\">\n",
      "                        <div class=\"list-content\">\n",
      "                            <a href=\"/binnenland/5872710/amsterdam-wil-in-2030-geen-bezineautos-meer-in-de-stad.html\" title=\"Amsterdam wil in 2030 geen bezineauto&#39;s meer in de stad\" class=\"trackevent\" >\n",
      "                                <div class=\"list-overlay\">\n",
      "                                    <span class=\"info\">\n",
      "                                        <span class=\"time\">17:16</span>\n",
      "                                        <span class=\"title\">Amsterdam wil in 2030 geen bezineauto&#39;s meer in de stad</span>\n",
      "                                        <span class=\"section\">Binnenland</span>\n",
      "                                    </span>\n",
      "                                </div>\n",
      "                            </a>\n",
      "                            <div class=\"clear\"></div>\n",
      "                        </div>\n",
      "                    </li>\n",
      "                    <li class=\"hasvideo  \" data-sac-marker=\"articlelist.mostrecent.3\">\n",
      "                        <div class=\"list-content\">\n",
      "                            <a href=\"/media/5868804/vanavond-op-televisie-the-boss-war-horse.html\" title=\"Vanavond op televisie: The Boss | War Horse\" class=\"trackevent\" >\n",
      "                                <div class=\"list-overlay\">\n",
      "                                    <span class=\"info\">\n",
      "                                        <span class=\"time\">17:01</span>\n",
      "                                        <span class=\"title\">Vanavond op televisie: The Boss | War Horse</span>\n",
      "                                        <span class=\"section\">Media</span>\n",
      "                                    </span>\n",
      "                                </div>\n",
      "                            </a>\n",
      "                            <div class=\"clear\"></div>\n",
      "                        </div>\n",
      "                    </li>\n",
      "                    <li class=\"  \" data-sac-marker=\"articlelist.mostrecent.4\">\n",
      "                        <div class=\"list-content\">\n",
      "                            <a href=\"/geldzaken/5872644/ouders-geven-bijna-10000-euro-per-jaar-uit-aan-eerstgeboren-kind.html\" title=\"Ouders geven bijna 10.000 euro per jaar uit aan eerstgeboren kind\" class=\"trackevent\" >\n",
      "                                <div class=\"list-overlay\">\n",
      "                                    <span class=\"info\">\n",
      "                                        <span class=\"time\">16:39</span>\n",
      "                                        <span class=\"title\">Ouders geven bijna 10.000 euro per jaar uit aan eerstgeboren kind</span>\n",
      "                                        <span class=\"section\">Geld</span>\n",
      "                                    </span>\n",
      "                                </div>\n",
      "                            </a>\n",
      "                            <div class=\"clear\"></div>\n",
      "                        </div>\n",
      "                    </li>\n",
      "            </ul>\n",
      "            <div class=\"clear\"></div>\n",
      "        </div>\n",
      "    </div>\n",
      "</div>\n",
      "</div>\n",
      "                <div class=\"clear\"></div>\n",
      "            </div>\n",
      "            <div class=\"tab tab-2\">\n",
      "                <div\n",
      "    id=\"block-90848ca1837c4e60aa63148645540700\"\n",
      "    data-id=\"block-90848ca1837c4e60aa63148645540700\"\n",
      "    data-position=\"\"\n",
      "    data-type=\"mostread\"\n",
      "    class=\"block mostread\"\n",
      "    data-sac-marker=\"block.mostread\"\n",
      "    data-limit=\"4\"\n",
      "    data-offset=\"0\"\n",
      ">\n",
      "    <div class=\"contentlist most-read\">\n",
      "    <div class=\"block-wrapper clearfix\">\n",
      "            <div class=\"block-title\">\n",
      "                <h2>Meest gelezen</h2>\n",
      "            </div>\n",
      "        <div class=\"block-content\">\n",
      "            <ul>\n",
      "                    <li class=\"  \" data-sac-marker=\"articlelist.mostread.1\">\n",
      "                        <div class=\"list-content\">\n",
      "                            <a href=\"/algemeen/5871216/harde-kern-ajax-waarschuwt-media-voor-filmen-supporters-rond-wedstrijden.html\" title=\"Harde kern Ajax waarschuwt media voor filmen supporters rond wedstrijden\" class=\"trackevent\" >\n",
      "                                <div class=\"list-overlay\">\n",
      "                                    <span class=\"info\">\n",
      "                                        <span class=\"ranking\">1.</span>\n",
      "                                        <span class=\"title\">Harde kern Ajax waarschuwt media voor filmen supporters rond wedstrijden</span>\n",
      "                                    </span>\n",
      "                                </div>\n",
      "                            </a>\n",
      "                            <div class=\"clear\"></div>\n",
      "                        </div>\n",
      "                    </li>\n",
      "                    <li class=\"  \" data-sac-marker=\"articlelist.mostread.2\">\n",
      "                        <div class=\"list-content\">\n",
      "                            <a href=\"/media/5871594/omroepdirecteur-wil-uitzondering-salaris-van-nieuwkerk-minister-weigert.html\" title=\"Omroepdirecteur wil uitzondering salaris Van Nieuwkerk, minister weigert\" class=\"trackevent\" >\n",
      "                                <div class=\"list-overlay\">\n",
      "                                    <span class=\"info\">\n",
      "                                        <span class=\"ranking\">2.</span>\n",
      "                                        <span class=\"title\">Omroepdirecteur wil uitzondering salaris Van Nieuwkerk, minister weigert</span>\n",
      "                                    </span>\n",
      "                                </div>\n",
      "                            </a>\n",
      "                            <div class=\"clear\"></div>\n",
      "                        </div>\n",
      "                    </li>\n",
      "                    <li class=\"hasvideo  \" data-sac-marker=\"articlelist.mostread.3\">\n",
      "                        <div class=\"list-content\">\n",
      "                            <a href=\"/champions-league/5871303/tottenham-stuurt-vertonghen-naar-neuroloog-vanwege-hoofdblessure.html\" title=\"Tottenham stuurt Vertonghen naar neuroloog vanwege hoofdblessure\" class=\"trackevent\" >\n",
      "                                <div class=\"list-overlay\">\n",
      "                                    <span class=\"info\">\n",
      "                                        <span class=\"ranking\">3.</span>\n",
      "                                        <span class=\"title\">Tottenham stuurt Vertonghen naar neuroloog vanwege hoofdblessure</span>\n",
      "                                    </span>\n",
      "                                </div>\n",
      "                            </a>\n",
      "                            <div class=\"clear\"></div>\n",
      "                        </div>\n",
      "                    </li>\n",
      "                    <li class=\"hasvideo  \" data-sac-marker=\"articlelist.mostread.4\">\n",
      "                        <div class=\"list-content\">\n",
      "                            <a href=\"/voetbal/5871429/fc-barcelona-na-geflatteerde-zege-op-liverpool-dicht-bij-cl-finale.html\" title=\"FC Barcelona na geflatteerde zege op Liverpool dicht bij CL-finale\" class=\"trackevent\" >\n",
      "                                <div class=\"list-overlay\">\n",
      "                                    <span class=\"info\">\n",
      "                                        <span class=\"ranking\">4.</span>\n",
      "                                        <span class=\"title\">FC Barcelona na geflatteerde zege op Liverpool dicht bij CL-finale</span>\n",
      "                                    </span>\n",
      "                                </div>\n",
      "                            </a>\n",
      "                            <div class=\"clear\"></div>\n",
      "                        </div>\n",
      "                    </li>\n",
      "            </ul>\n",
      "            <div class=\"clear\"></div>\n",
      "        </div>\n",
      "        <div class=\"block-footer\">\n",
      "            <a href=\"/meest-gelezen\" class=\"footer-link trackevent section-after-colored\">\n",
      "                <strong>Meer nieuws</strong>\n",
      "            </a>\n",
      "        </div>\n",
      "    </div>\n",
      "</div>\n",
      "</div>\n",
      "                <div class=\"clear\"></div>\n",
      "            </div>\n",
      "            <div class=\"clear\"></div>\n",
      "        </div>\n",
      "    </div>\n",
      "</div>\n",
      "</div>\n",
      "    <div\n",
      "    id=\"block-241493\"\n",
      "    data-id=\"block-241493\"\n",
      "    data-position=\"\"\n",
      "    data-type=\"highlight\"\n",
      "    class=\"block highlight compact\"\n",
      "    data-sac-marker=\"block.highlight\"\n",
      ">\n",
      "    <div class=\"block-wrapper compact  hasfooter\">\n",
      "        <div class=\"block-backdrop \" ></div>\n",
      "            <div class=\"block-title\">\n",
      "                <h2>Aandelen</h2>\n",
      "            </div>\n",
      "        <div class=\"block-content\">\n",
      "            <div class=\"basic\">\n",
      "                <div class=\"item-content\">\n",
      "                    <a href=\"https://www.nu.nl/aandelen\" class=\"trackevent\">\n",
      "                        <div class=\"item-image\">\n",
      "                            <noscript>\n",
      "    <img src=\"https://media.nu.nl/m/fmjx9m9a60ya_std160.jpg\" alt=\"Aandelen\" />\n",
      "</noscript>\n",
      "<img data-src=\"https://media.nu.nl/m/fmjx9m9a60ya_std160.jpg\" src=\"/static/img/placeholders/std160-o.png\" class=\"lazy-unveil\" alt=\"Aandelen\" />\n",
      "                        </div>\n",
      "                    </a>\n",
      "                        <div class=\"item-excerpt\">\n",
      "                            Direct op de hoogte van de koersen? &nbsp;\n",
      "                                <div class=\"excerpt-link\">\n",
      "                                    <a class=\"trackevent\" href=\"https://www.nu.nl/aandelen\">\n",
      "                                        <strong>Bekijk de beursinformatie</strong>\n",
      "                                    </a>\n",
      "                                </div>\n",
      "                        </div>\n",
      "                </div>\n",
      "                <div class=\"clear\"></div>\n",
      "            </div>\n",
      "        </div>\n",
      "    </div>\n",
      "</div>\n",
      "    <div\n",
      "    id=\"block-387540\"\n",
      "    data-id=\"block-387540\"\n",
      "    data-position=\"\"\n",
      "    data-type=\"tealium\"\n",
      "    class=\"block tealium compact r1\"\n",
      "    data-sac-marker=\"block.tealium\"\n",
      ">\n",
      "    <div class=\"block-wrapper\" id=\"r1\"></div>\n",
      "</div>\n",
      "    <div\n",
      "    id=\"block-241499\"\n",
      "    data-id=\"block-241499\"\n",
      "    data-position=\"\"\n",
      "    data-type=\"highlight\"\n",
      "    class=\"block highlight compact\"\n",
      "    data-sac-marker=\"block.highlight\"\n",
      ">\n",
      "    <div class=\"block-wrapper compact  hasfooter\">\n",
      "        <div class=\"block-backdrop \" ></div>\n",
      "            <div class=\"block-title\">\n",
      "                <h2>GP-spel</h2>\n",
      "            </div>\n",
      "        <div class=\"block-content\">\n",
      "            <div class=\"basic\">\n",
      "                <div class=\"item-content\">\n",
      "                    <a href=\"https://www.nu.nl/f1-spel\" class=\"trackevent\">\n",
      "                        <div class=\"item-image\">\n",
      "                            <noscript>\n",
      "    <img src=\"https://media.nu.nl/m/r7sxj49aotkk_std160.jpg\" alt=\"GP-spel\" />\n",
      "</noscript>\n",
      "<img data-src=\"https://media.nu.nl/m/r7sxj49aotkk_std160.jpg\" src=\"/static/img/placeholders/std160-o.png\" class=\"lazy-unveil\" alt=\"GP-spel\" />\n",
      "                        </div>\n",
      "                    </a>\n",
      "                        <div class=\"item-excerpt\">\n",
      "                            Speel mee met het leukste GP-managerspel van Nederland en win mooie prijzen.\n",
      "                                <div class=\"excerpt-link\">\n",
      "                                    <a class=\"trackevent\" href=\"https://www.nu.nl/f1-spel\">\n",
      "                                        <strong>Naar ons GP-spel</strong>\n",
      "                                    </a>\n",
      "                                </div>\n",
      "                        </div>\n",
      "                </div>\n",
      "                <div class=\"clear\"></div>\n",
      "            </div>\n",
      "        </div>\n",
      "    </div>\n",
      "</div>\n",
      "    <div\n",
      "    id=\"block-241501\"\n",
      "    data-id=\"block-241501\"\n",
      "    data-position=\"\"\n",
      "    data-type=\"highlight\"\n",
      "    class=\"block highlight compact\"\n",
      "    data-sac-marker=\"block.highlight\"\n",
      ">\n",
      "</div>\n",
      "    <div\n",
      "    id=\"block-387543\"\n",
      "    data-id=\"block-387543\"\n",
      "    data-position=\"\"\n",
      "    data-type=\"tealium\"\n",
      "    class=\"block tealium compact r2\"\n",
      "    data-sac-marker=\"block.tealium\"\n",
      ">\n",
      "    <div class=\"block-wrapper\" id=\"r2\"></div>\n",
      "</div>\n",
      "    <div\n",
      "    id=\"block-241503\"\n",
      "    data-id=\"block-241503\"\n",
      "    data-position=\"\"\n",
      "    data-type=\"highlight\"\n",
      "    class=\"block highlight compact\"\n",
      "    data-sac-marker=\"block.highlight\"\n",
      ">\n",
      "</div>\n",
      "</div>\n",
      "                        </div>\n",
      "                    </div>\n",
      "                </div>\n",
      "                <div class=\"zone clearfix\" data-zone=\"footer\" data-vr-zone=\"footer\">\n",
      "</div>\n",
      "            </div>\n",
      "        </div>\n",
      "    </div>\n",
      "        <div class=\"zone clearfix\" data-zone=\"body_bottom\" data-vr-zone=\"body_bottom\">\n",
      "    <div\n",
      "    id=\"block-387546\"\n",
      "    data-id=\"block-387546\"\n",
      "    data-position=\"\"\n",
      "    data-type=\"tealium\"\n",
      "    class=\"block tealium h2\"\n",
      "    data-sac-marker=\"block.tealium\"\n",
      ">\n",
      "    <div class=\"block-wrapper\" id=\"h2\"></div>\n",
      "</div>\n",
      "</div>\n",
      "        <div\n",
      "    id=\"block-6f38a6ad6aac4a5c986c9255aa54b6f3\"\n",
      "    data-id=\"block-6f38a6ad6aac4a5c986c9255aa54b6f3\"\n",
      "    data-position=\"\"\n",
      "    data-type=\"footer\"\n",
      "    class=\"block footer\"\n",
      "    data-sac-marker=\"block.footer\"\n",
      ">\n",
      "    <footer class=\"block-wrapper\">\n",
      "    <nav class=\"footer_menu navigation\">\n",
      "            <ul class=\"site_overview space-saving\">\n",
      "    <li class=\"nav_item item_default\">\n",
      "        <a href=\"/\">Voorpagina</a>\n",
      "            <ul class=\"nav_submenu\">\n",
      "                <li class=\"nav_subitem item_default\">\n",
      "                    <a href=\"/net-binnen\">Net binnen</a>\n",
      "                </li>\n",
      "                <li class=\"nav_subitem item_default\">\n",
      "                    <a href=\"/binnenland\">Binnenland</a>\n",
      "                </li>\n",
      "                <li class=\"nav_subitem item_default\">\n",
      "                    <a href=\"/buitenland\">Buitenland</a>\n",
      "                </li>\n",
      "                <li class=\"nav_subitem item_default\">\n",
      "                    <a href=\"/politiek\">Politiek</a>\n",
      "                </li>\n",
      "                <li class=\"nav_subitem item_default\">\n",
      "                    <a href=\"/klimaat\">Klimaat</a>\n",
      "                </li>\n",
      "                <li class=\"nav_subitem item_default\">\n",
      "                    <a href=\"/videos\">Video</a>\n",
      "                </li>\n",
      "                <li class=\"nav_subitem item_default\">\n",
      "                    <a href=\"/podcast\">Podcast</a>\n",
      "                </li>\n",
      "            </ul>\n",
      "    </li>\n",
      "    <li class=\"nav_item item_nuzakelijk\">\n",
      "        <a href=\"/economie\">Economie</a>\n",
      "            <ul class=\"nav_submenu\">\n",
      "                <li class=\"nav_subitem item_nuzakelijk\">\n",
      "                    <a href=\"/geldzaken\">Geld</a>\n",
      "                </li>\n",
      "                <li class=\"nav_subitem item_nuzakelijk\">\n",
      "                    <a href=\"/werk\">Werk</a>\n",
      "                </li>\n",
      "                <li class=\"nav_subitem item_nuzakelijk\">\n",
      "                    <a href=\"/ondernemen\">Zakelijk</a>\n",
      "                </li>\n",
      "                <li class=\"nav_subitem item_nuzakelijk\">\n",
      "                    <a href=\"/brexit\">Brexit</a>\n",
      "                </li>\n",
      "                <li class=\"nav_subitem item_nuzakelijk\">\n",
      "                    <a href=\"/auto\">Auto</a>\n",
      "                </li>\n",
      "            </ul>\n",
      "    </li>\n",
      "    <li class=\"nav_item item_nusport\">\n",
      "        <a href=\"/sport\">NUsport</a>\n",
      "            <ul class=\"nav_submenu\">\n",
      "                <li class=\"nav_subitem item_nusport\">\n",
      "                    <a href=\"/voetbal\">Voetbal</a>\n",
      "                </li>\n",
      "                <li class=\"nav_subitem item_nusport\">\n",
      "                    <a href=\"/champions-league\">Champions League</a>\n",
      "                </li>\n",
      "                <li class=\"nav_subitem item_nusport\">\n",
      "                    <a href=\"/formule-1\">Formule 1</a>\n",
      "                </li>\n",
      "                <li class=\"nav_subitem item_nusport\">\n",
      "                    <a href=\"https://www.nu.nl/gp-spel\" target=\"_blank\">GP-spel</a>\n",
      "                </li>\n",
      "                <li class=\"nav_subitem item_nusport\">\n",
      "                    <a href=\"/wielrennen\">Wielrennen</a>\n",
      "                </li>\n",
      "                <li class=\"nav_subitem item_nusport\">\n",
      "                    <a href=\"/sport-overig\">Meer Sport</a>\n",
      "                </li>\n",
      "            </ul>\n",
      "    </li>\n",
      "    <li class=\"nav_item item_nutech\">\n",
      "        <a href=\"/tech\">Tech</a>\n",
      "            <ul class=\"nav_submenu\">\n",
      "                <li class=\"nav_subitem item_nutech\">\n",
      "                    <a href=\"/internet\">Internet</a>\n",
      "                </li>\n",
      "                <li class=\"nav_subitem item_nutech\">\n",
      "                    <a href=\"/gadgets\">Gadgets</a>\n",
      "                </li>\n",
      "                <li class=\"nav_subitem item_nutech\">\n",
      "                    <a href=\"/games\">Games</a>\n",
      "                </li>\n",
      "                <li class=\"nav_subitem item_nutech\">\n",
      "                    <a href=\"/mobiel\">Mobiel</a>\n",
      "                </li>\n",
      "            </ul>\n",
      "    </li>\n",
      "    <li class=\"nav_item item_nuentertainment\">\n",
      "        <a href=\"/entertainment\">Entertainment</a>\n",
      "            <ul class=\"nav_submenu\">\n",
      "                <li class=\"nav_subitem item_nuentertainment\">\n",
      "                    <a href=\"/achterklap\">Achterklap</a>\n",
      "                </li>\n",
      "                <li class=\"nav_subitem item_nuentertainment\">\n",
      "                    <a href=\"/film\">Films en series</a>\n",
      "                </li>\n",
      "                <li class=\"nav_subitem item_nuentertainment\">\n",
      "                    <a href=\"/muziek\">Muziek</a>\n",
      "                </li>\n",
      "                <li class=\"nav_subitem item_nuentertainment\">\n",
      "                    <a href=\"/songfestival\">Songfestival 2019</a>\n",
      "                </li>\n",
      "                <li class=\"nav_subitem item_nuentertainment\">\n",
      "                    <a href=\"/cultuur-overig\">Boek en cultuur</a>\n",
      "                </li>\n",
      "                <li class=\"nav_subitem item_nuentertainment\">\n",
      "                    <a href=\"/media\">Media</a>\n",
      "                </li>\n",
      "            </ul>\n",
      "    </li>\n",
      "    <li class=\"nav_item item_nuuit\">\n",
      "        <a href=\"/uit\">Uit</a>\n",
      "            <ul class=\"nav_submenu\">\n",
      "                <li class=\"nav_subitem item_nuuit\">\n",
      "                    <a href=\"/uit-nieuws\">Nieuws</a>\n",
      "                </li>\n",
      "                <li class=\"nav_subitem item_nuuit\">\n",
      "                    <a href=\"/uit-achtergrond\">Achtergrond</a>\n",
      "                </li>\n",
      "                <li class=\"nav_subitem item_nuuit\">\n",
      "                    <a href=\"/uit-tips\">Tips</a>\n",
      "                </li>\n",
      "                <li class=\"nav_subitem item_nuuit\">\n",
      "                    <a href=\"/festival\">Festival</a>\n",
      "                </li>\n",
      "                <li class=\"nav_subitem item_nuuit\">\n",
      "                    <a href=\"/tickets\">Tickets</a>\n",
      "                </li>\n",
      "            </ul>\n",
      "    </li>\n",
      "    <li class=\"nav_item item_nuoverig\">\n",
      "        <a href=\"/overig\">Overig</a>\n",
      "            <ul class=\"nav_submenu\">\n",
      "                <li class=\"nav_subitem item_nuoverig\">\n",
      "                    <a href=\"/wetenschap\">Wetenschap</a>\n",
      "                </li>\n",
      "                <li class=\"nav_subitem item_\">\n",
      "                    <a href=\"/nucheckt\">NUcheckt</a>\n",
      "                </li>\n",
      "                <li class=\"nav_subitem item_nuoverig\">\n",
      "                    <a href=\"/gezondheid\">Gezondheid</a>\n",
      "                </li>\n",
      "                <li class=\"nav_subitem item_nuoverig\">\n",
      "                    <a href=\"/eten-en-drinken\">Eten en drinken</a>\n",
      "                </li>\n",
      "                <li class=\"nav_subitem item_nuoverig\">\n",
      "                    <a href=\"/opmerkelijk\">Opmerkelijk</a>\n",
      "                </li>\n",
      "                <li class=\"nav_subitem item_nuoverig\">\n",
      "                    <a href=\"/dieren\">Dieren</a>\n",
      "                </li>\n",
      "            </ul>\n",
      "    </li>\n",
      "</ul>\n",
      "            <ul class=\"footer_links\">\n",
      "    <li class=\"nav_item item_default\">\n",
      "        <a href=\"/redactie.html\">Contact met de redactie</a>\n",
      "    </li>\n",
      "    <li class=\"nav_item item_default\">\n",
      "        <a href=\"/colofon.html\">Colofon</a>\n",
      "    </li>\n",
      "    <li class=\"nav_item item_default\">\n",
      "        <a href=\"/copyright.html\">Copyright</a>\n",
      "    </li>\n",
      "    <li class=\"nav_item item_default\">\n",
      "        <a href=\"/disclaimer.html\">Disclaimer</a>\n",
      "    </li>\n",
      "    <li class=\"nav_item item_default\">\n",
      "        <a href=\"/privacy-en-cookiebeleid.html\">Privacy en cookiebeleid</a>\n",
      "    </li>\n",
      "    <li class=\"nav_item item_default\">\n",
      "        <a href=\"/klachten.html\">Klachten / Feedback</a>\n",
      "    </li>\n",
      "    <li class=\"nav_item item_default\">\n",
      "        <a href=\"https://www.nuadverteren.nl/\" target=\"_blank\">Adverteren</a>\n",
      "    </li>\n",
      "    <li class=\"nav_item item_default\">\n",
      "        <a href=\"/mobiel.html\">Apps</a>\n",
      "    </li>\n",
      "    <li class=\"nav_item item_default\">\n",
      "        <a href=\"/over-nu\">Werken bij NU.nl</a>\n",
      "    </li>\n",
      "</ul>\n",
      "    </nav>\n",
      "    <div class=\"footer_info\">\n",
      "        <div class=\"logo\">\n",
      "            <a href=\"/\">\n",
      "                <amp-img src=\"/static/img/atoms/images/logos/nu_logo.svg\" width=\"50\" height=\"50\" alt=\"NU.nl\">\n",
      "            </a>\n",
      "        </div>\n",
      "        <div class=\"social\">\n",
      "            <h6>Volg ons op</h6>\n",
      "            <ul class=\"social-badges\">\n",
      "        <li class=\"instagram\"><a href=\"https://www.instagram.com/nu.nl/\" target=\"_blank\" class=\"trackevent\"><i class=\"fa fa-instagram\"></i></a></li>\n",
      "        <li class=\"facebook\"><a href=\"https://www.facebook.com/NUnl\" target=\"_blank\" class=\"trackevent\"><i class=\"fa fa-facebook\"></i></a></li>\n",
      "        <li class=\"twitter\"><a href=\"https://www.twitter.com/NUnl\" target=\"_blank\" class=\"trackevent\"><i class=\"fa fa-twitter\"></i></a></li>\n",
      "    <li class=\"rss\"><a href=\"/rss\" target=\"_blank\" class=\"trackevent\"><i class=\"fa fa-rss\"></i></a></li>\n",
      "</ul>\n",
      "        </div>\n",
      "        <div class=\"copyright\">\n",
      "            <p class=\"copyright_text\">\n",
      "                &copy; 2019 Sanoma Digital The Netherlands B.V.<br class=\"\" />\n",
      "                NU - onderdeel van <a href=\"https://www.sanoma.com/\" target=\"_blank\">Sanoma Media Netherlands Group</a>\n",
      "            </p>\n",
      "        </div>\n",
      "    </div>\n",
      "</footer>\n",
      "</div>\n",
      "    <div class=\"modal-overlay\"></div>\n",
      "    <div class=\"overlay default\">\n",
      "    <div class=\"overlay-close trackevent\"></div>\n",
      "    <div class=\"overlay-inner\">\n",
      "        <div class=\"overlay-content-container\">\n",
      "            <div class=\"overlay-content-boundary clearfix\">\n",
      "                <i class=\"fa fa-times overlay-close trackevent\"></i>\n",
      "                <div class=\"overlay-title\"></div>\n",
      "                <div class=\"overlay-content clearfix\"></div>\n",
      "                <div class=\"overlay-footer clearfix\"></div>\n",
      "            </div>\n",
      "        </div>\n",
      "    </div>\n",
      "</div>\n",
      "<div class=\"overlay videoplayer\">\n",
      "    <div class=\"overlay-close trackevent\" data-trackeventcategory=\"videopopup\" data-trackeventaction=\"close popup\" data-trackeventlabel=\"click naast video\"></div>\n",
      "    <div class=\"overlay-inner\">\n",
      "        <div class=\"overlay-content-container\">\n",
      "            <div class=\"overlay-content-boundary clearfix\">\n",
      "                <div id=\"overlay_leaderboard_adspot\"></div>\n",
      "                <i class=\"fa fa-times overlay-close trackevent\" data-trackeventcategory=\"videopopup\" data-trackeventaction=\"close popup\" data-trackeventlabel=\"kruisje\"></i>\n",
      "                <div class=\"overlay-title\"></div>\n",
      "                <div class=\"overlay-content\"></div>\n",
      "            </div>\n",
      "        </div>\n",
      "    </div>\n",
      "</div>\n",
      "<div class=\"overlay contribution-flow\">\n",
      "    <div class=\"overlay-inner\">\n",
      "        <div class=\"overlay-content-container\">\n",
      "            <div class=\"overlay-content-boundary clearfix\">\n",
      "                <i class=\"fa fa-times overlay-close button trackevent\" data-trackeventcategory=\"contribution_flow\" data-trackeventaction=\"close popup\" data-trackeventlabel=\"x-button\"></i>\n",
      "                <div class=\"overlay-title\">Tip de redactie</div>\n",
      "                <div class=\"overlay-content\">\n",
      "                    <div class=\"notification login-notification warning anonymous_users_only\">Je moet ingelogd zijn om van deze mogelijkheid gebruik te maken. <a href=\"#\" class=\"trackevent\" data-trackeventcategory=\"contribution_flow\" data-trackeventaction=\"login\">Log hier in</a></div>\n",
      "                    <label>Voeg tekst toe aan je bijdrage.\n",
      "                        <textarea placeholder=\"Typ je bericht\" class=\"contribution-entry\"></textarea>\n",
      "                    </label>\n",
      "                    <div class=\"filedragdrop login_users_only\">\n",
      "                        <div class=\"filedragdrop-header\">\n",
      "                            <h3>Media uploaden</h3>\n",
      "                            <div class=\"filedragdrop-counter\">\n",
      "                                <span class=\"counter\">0</span> / <span class=\"limit\">0</span> toegevoegd\n",
      "                            </div>\n",
      "                        </div>\n",
      "                        <div class=\"filedragdrop-area as-input\">\n",
      "                            <div class=\"filedragdrop-files\">\n",
      "                            </div>\n",
      "                            <div class=\"filedragdrop-notification\">\n",
      "                                <span class=\"filedragdrop-placeholder\"></span>\n",
      "                                <div class=\"filedragdrop-notification-idle\">\n",
      "                                    <p>\n",
      "                                        <label>\n",
      "                                            Sleep hier je bestanden heen <br />\n",
      "                                            of <span>selecteer een foto/video</span>\n",
      "                                            <input type=\"file\" class=\"filedragdrop-fileinput\" />\n",
      "                                        </label>\n",
      "                                    </p>\n",
      "                                </div>\n",
      "                                <div class=\"filedragdrop-notification-drag\">\n",
      "                                    <p>\n",
      "                                        Laat los om te beginnen met uploaden\n",
      "                                    </p>\n",
      "                                </div>\n",
      "                            </div>\n",
      "                        </div>\n",
      "                    </div>\n",
      "                    <div class=\"notification dynamic-notification\"></div>\n",
      "                </div>\n",
      "                <div class=\"overlay-footer clearfix\">\n",
      "                    <div class=\"right-col login_users_only\">\n",
      "                        <a class=\"btn inverted submit trackevent\" data-trackeventcategory=\"contribution_flow\" data-trackeventaction=\"submit\"><i class=\"fa fa-paper-plane-o\" aria-hidden=\"true\"></i> Versturen</a>\n",
      "                    </div>\n",
      "                    <div class=\"right-col anonymous_users_only\">\n",
      "                            <a class=\"btn submit disabled trackevent\" data-trackeventcategory=\"contribution_flow\" data-trackeventaction=\"submit-disabled\"><i class=\"fa fa-paper-plane-o\" aria-hidden=\"true\"></i> Versturen</a>\n",
      "                        </div>\n",
      "                    <div class=\"left-col\">\n",
      "                        <p>Door te versturen ga je akkoord met <a href=\"/nujij-voorwaarden.html\" target=\"_blank\" class=\"trackevent\" data-trackeventcategory=\"contribution_flow\" data-trackeventaction=\"terms-conditions\">onze voorwaarden</a></p>\n",
      "                    </div>\n",
      "                </div>\n",
      "            </div>\n",
      "        </div>\n",
      "    </div>\n",
      "</div>\n",
      "<script type=\"text/javascript\" src=\"/static/CACHE/js/9a4a5f25e117.js\"></script>\n",
      "<script type=\"text/javascript\" src=\"/static/bundles/js/main.cdd5778c.js\" ></script>\n",
      "<!-- BLOCK JS -->\n",
      "<script type=\"text/javascript\" src=\"/static/CACHE/js/1a2907d475d6.js\"></script>\n",
      "<!-- JW player -->\n",
      "<script src=\"https://content.jwplatform.com/libraries/whqXCOFb.js\" type=\"text/javascript\"></script>\n",
      "<script>\n",
      "    // add Gigya dynamically.\n",
      "    // ab_testing_enabled: true is required by SA team for registration screen testing.\n",
      "    var sanoma_account_global_config = {\n",
      "        api_key: '3_pNK9L9zU_Sx2BKzTUJuAmy1im2zN0pOkwM-Ui3AgrneVzSpyQqioWy_iZ1cbQzS5',\n",
      "        screenset_prefix: 'nunlv2',\n",
      "        hide_fb_native_safari: false,\n",
      "        events: NU.account.events || {},\n",
      "        ab_testing_enabled: true\n",
      "    };\n",
      "    // Use NUsport Gigya key if NUsport app is being used. This is to get the Gigya webbridge working.\n",
      "    if (/nusport/i.test(window.navigator.userAgent)) {\n",
      "        sanoma_account_global_config['api_key'] = '3_rlSSasCKaY6Id8VY1d13AO1IbHGsXzDrPIVha-Aup28W6guE9vkRb6whOO1Z2O67';\n",
      "    }\n",
      "    jQuery.cachedScript('https://account.sanomaservices.nl/js/sanoma_account.min.js');\n",
      "    // Sanoma search, hidden and disabled without consent.\n",
      "    ConsentUtility.consent_given(function() {\n",
      "        jQuery.cachedScript('https://sss.snmmd.nl/nu/sanomasearch.min.js').done(function(){\n",
      "            if(jQuery('#sanoma_search').length > 0){\n",
      "                SANOMASEARCH.init(['autocomplete', 'serp']);\n",
      "            } else {\n",
      "                SANOMASEARCH.init(['autocomplete']);\n",
      "            }\n",
      "        });\n",
      "    });\n",
      "</script>\n",
      "</body>\n",
      "</html>\n",
      "\n"
     ]
    }
   ],
   "source": [
    "import requests\n",
    "\n",
    "the_soup = requests.get(\"https://www.nu.nl/brandstof\").text\n",
    "print(the_soup)"
   ]
  },
  {
   "cell_type": "markdown",
   "metadata": {
    "slideshow": {
     "slide_type": "subslide"
    }
   },
   "source": [
    "## Determine what to look for...\n",
    "Define a generator function that *scrapes* the daily average price per liter for fuel."
   ]
  },
  {
   "cell_type": "code",
   "execution_count": 65,
   "metadata": {},
   "outputs": [
    {
     "name": "stdout",
     "output_type": "stream",
     "text": [
      "['\\n', <td>GLA*</td>, '\\n', <td>1,833</td>, '\\n']\n",
      "['\\n', <td>GLA*</td>, '\\n', <td>1,491</td>, '\\n']\n",
      "['\\n', <td>GLA*</td>, '\\n', <td>0,868</td>, '\\n']\n",
      "['\\n', <td>GLA*</td>, '\\n', <td>1,914</td>, '\\n']\n",
      "['\\n', <td>GLA*</td>, '\\n', <td>1,919</td>, '\\n']\n",
      "['\\n', <td>GLA*</td>, '\\n', <td>1,902</td>, '\\n']\n",
      "['\\n', <td>GLA*</td>, '\\n', <td>1,567</td>, '\\n']\n",
      "['\\n', <td>GLA*</td>, '\\n', <td>1,823</td>, '\\n']\n"
     ]
    }
   ],
   "source": [
    "import bs4\n",
    "import requests\n",
    "fuels = ('Euro95', 'Diesel', 'LPG')\n",
    "response = requests.get(\"https://www.nu.nl/brandstof\")\n",
    "soup = bs4.BeautifulSoup(response.text, 'html.parser')\n",
    "\n",
    "#GLA means: Gemiddelde Landelijke Adviesprijs (GLA)\n",
    "targetcells = soup.find_all('td', string='GLA*')\n",
    "for cell in targetcells:\n",
    "    print(cell.parent.contents)"
   ]
  },
  {
   "cell_type": "code",
   "execution_count": 66,
   "metadata": {
    "collapsed": true,
    "slideshow": {
     "slide_type": "-"
    }
   },
   "outputs": [],
   "source": [
    "import bs4\n",
    "import requests\n",
    "\n",
    "def scrape():\n",
    "    fuels = ('Euro95', 'Diesel', 'LPG')\n",
    "    response = requests.get(\"https://www.nu.nl/brandstof\")\n",
    "    soup = bs4.BeautifulSoup(response.text, 'html.parser')\n",
    "    targetcells = soup.find_all('td', string='GLA*')\n",
    "\n",
    "    for i, td in enumerate(targetcells): \n",
    "        pricecell = td.parent.contents[3]\n",
    "        yield fuels[i], pricecell.text.replace(',', '.') # usable in iteration\n",
    "    \n",
    "        if i == 2: # only get Euro95, Diesel, and LPG\n",
    "            break"
   ]
  },
  {
   "cell_type": "code",
   "execution_count": 67,
   "metadata": {},
   "outputs": [
    {
     "name": "stdout",
     "output_type": "stream",
     "text": [
      "Euro95 1.833\n",
      "Diesel 1.491\n",
      "LPG 0.868\n"
     ]
    }
   ],
   "source": [
    "for brandstof, prijs in scrape():\n",
    "    print(brandstof, prijs)"
   ]
  },
  {
   "cell_type": "markdown",
   "metadata": {
    "slideshow": {
     "slide_type": "subslide"
    }
   },
   "source": [
    "# Relationele databases \n",
    "## SQLite3\n",
    "Define a function that stores the results in an SQLite embedded database."
   ]
  },
  {
   "cell_type": "code",
   "execution_count": 75,
   "metadata": {
    "collapsed": true,
    "slideshow": {
     "slide_type": "-"
    }
   },
   "outputs": [],
   "source": [
    "import sqlite3\n",
    "\n",
    "def store(db, fuel, price):\n",
    "    curs = db.cursor()\n",
    "    try:\n",
    "        curs.execute('INSERT INTO prices (fuel, price) VALUES (?, ?)', (fuel, price))\n",
    "        db.commit()\n",
    "    finally:\n",
    "        curs.close() "
   ]
  },
  {
   "cell_type": "markdown",
   "metadata": {
    "slideshow": {
     "slide_type": "subslide"
    }
   },
   "source": [
    "## ... and action!\n",
    "Loop through today's results (*Euro95*, *Diesel* and *LPG*) and store the results in the database."
   ]
  },
  {
   "cell_type": "code",
   "execution_count": 76,
   "metadata": {
    "slideshow": {
     "slide_type": "-"
    }
   },
   "outputs": [
    {
     "name": "stdout",
     "output_type": "stream",
     "text": [
      "Euro95 1.833\n",
      "Diesel 1.491\n",
      "LPG 0.868\n"
     ]
    }
   ],
   "source": [
    "with sqlite3.connect('../data/fuelprices.db') as db:\n",
    "    for fuel, price in scrape():\n",
    "        print(fuel, price)\n",
    "        store(db, fuel, price)"
   ]
  },
  {
   "cell_type": "markdown",
   "metadata": {
    "slideshow": {
     "slide_type": "subslide"
    }
   },
   "source": [
    "### Show what's in the database:"
   ]
  },
  {
   "cell_type": "code",
   "execution_count": 77,
   "metadata": {},
   "outputs": [
    {
     "name": "stdout",
     "output_type": "stream",
     "text": [
      "2018-06-27|Euro95|1.754\n",
      "2018-06-27|Diesel|1.444\n",
      "2018-06-27|LPG|0.868\n",
      "2018-06-28|Euro95|1.759\n",
      "2018-06-28|Diesel|1.449\n",
      "2018-06-28|LPG|0.868\n",
      "2018-06-29|Euro95|1.767\n",
      "2018-06-29|Diesel|1.453\n",
      "2018-06-29|LPG|0.87\n",
      "2018-06-30|Euro95|1.773\n",
      "2018-06-30|Diesel|1.454\n",
      "2018-06-30|LPG|0.87\n",
      "2018-07-02|Euro95|1.774\n",
      "2018-07-02|Diesel|1.454\n",
      "2018-07-02|LPG|0.87\n",
      "2018-07-03|Euro95|1.774\n",
      "2018-07-03|Diesel|1.459\n",
      "2018-07-03|LPG|0.875\n",
      "2018-07-05|Euro95|1.774\n",
      "2018-07-05|Diesel|1.462\n",
      "2018-07-05|LPG|0.876\n",
      "2018-07-08|Euro95|1.77\n",
      "2018-07-08|Diesel|1.458\n",
      "2018-07-08|LPG|0.876\n",
      "2018-07-09|Euro95|1.769\n",
      "2018-07-09|Diesel|1.457\n",
      "2018-07-09|LPG|0.876\n",
      "2018-07-09|Euro95|1.769\n",
      "2018-07-09|Diesel|1.457\n",
      "2018-07-09|LPG|0.876\n",
      "2018-07-09|Euro95|1.769\n",
      "2018-07-09|Diesel|1.457\n",
      "2018-07-09|LPG|0.876\n",
      "2018-07-09|Euro95|1.769\n",
      "2018-07-09|Diesel|1.457\n",
      "2018-07-09|LPG|0.876\n",
      "2018-07-09|Euro95|1.769\n",
      "2018-07-09|Diesel|1.457\n",
      "2018-07-09|LPG|0.876\n",
      "2018-07-09|Euro95|1.769\n",
      "2018-07-09|Diesel|1.457\n",
      "2018-07-09|LPG|0.876\n",
      "2018-07-09|Euro95|1.766\n",
      "2018-07-09|Diesel|1.456\n",
      "2018-07-09|LPG|0.878\n",
      "2018-07-09|Euro95|1.766\n",
      "2018-07-09|Diesel|1.456\n",
      "2018-07-09|LPG|0.878\n",
      "2018-07-09|Euro95|1.766\n",
      "2018-07-09|Diesel|1.456\n",
      "2018-07-09|LPG|0.878\n",
      "2018-07-09|Euro95|1.764\n",
      "2018-07-09|Diesel|1.454\n",
      "2018-07-09|LPG|0.878\n",
      "2018-07-09|Euro95|1.764\n",
      "2018-07-09|Diesel|1.454\n",
      "2018-07-09|LPG|0.878\n",
      "2018-07-09|Euro95|1.764\n",
      "2018-07-09|Diesel|1.454\n",
      "2018-07-09|LPG|0.878\n",
      "2018-07-09|Euro95|1.764\n",
      "2018-07-09|Diesel|1.454\n",
      "2018-07-09|LPG|0.878\n",
      "2018-07-09|Euro95|1.764\n",
      "2018-07-09|Diesel|1.454\n",
      "2018-07-09|LPG|0.878\n",
      "2018-07-10|Euro95|1.764\n",
      "2018-07-10|Diesel|1.454\n",
      "2018-07-10|LPG|0.878\n",
      "2018-07-10|Euro95|1.764\n",
      "2018-07-10|Diesel|1.454\n",
      "2018-07-10|LPG|0.878\n",
      "2018-07-10|Euro95|1.764\n",
      "2018-07-10|Diesel|1.454\n",
      "2018-07-10|LPG|0.878\n",
      "2018-07-10|Euro95|1.764\n",
      "2018-07-10|Diesel|1.454\n",
      "2018-07-10|LPG|0.878\n",
      "2018-07-10|Euro95|1.764\n",
      "2018-07-10|Diesel|1.454\n",
      "2018-07-10|LPG|0.878\n",
      "2018-07-10|Euro95|1.764\n",
      "2018-07-10|Diesel|1.454\n",
      "2018-07-10|LPG|0.878\n",
      "2018-07-11|Euro95|1.769\n",
      "2018-07-11|Diesel|1.457\n",
      "2018-07-11|LPG|0.878\n",
      "2018-07-11|Euro95|1.769\n",
      "2018-07-11|Diesel|1.457\n",
      "2018-07-11|LPG|0.878\n",
      "2018-07-11|Euro95|1.769\n",
      "2018-07-11|Diesel|1.457\n",
      "2018-07-11|LPG|0.878\n",
      "2018-07-11|Euro95|1.769\n",
      "2018-07-11|Diesel|1.457\n",
      "2018-07-11|LPG|0.878\n",
      "2018-07-11|Euro95|1.769\n",
      "2018-07-11|Diesel|1.457\n",
      "2018-07-11|LPG|0.878\n",
      "2018-07-11|Euro95|1.769\n",
      "2018-07-11|Diesel|1.457\n",
      "2018-07-11|LPG|0.878\n",
      "2018-07-11|Euro95|1.769\n",
      "2018-07-11|Diesel|1.457\n",
      "2018-07-11|LPG|0.878\n",
      "2018-07-11|Euro95|1.769\n",
      "2018-07-11|Diesel|1.457\n",
      "2018-07-11|LPG|0.878\n",
      "2018-07-11|Euro95|1.769\n",
      "2018-07-11|Diesel|1.457\n",
      "2018-07-11|LPG|0.878\n",
      "2018-07-11|Euro95|1.769\n",
      "2018-07-11|Diesel|1.457\n",
      "2018-07-11|LPG|0.878\n",
      "2018-07-11|Euro95|1.769\n",
      "2018-07-11|Diesel|1.457\n",
      "2018-07-11|LPG|0.878\n",
      "2018-08-07|Euro95|1.791\n",
      "2018-08-07|Diesel|1.442\n",
      "2018-08-07|LPG|0.885\n",
      "2018-08-07|Euro95|1.791\n",
      "2018-08-07|Diesel|1.442\n",
      "2018-08-07|LPG|0.885\n",
      "2018-08-07|Euro95|1.791\n",
      "2018-08-07|Diesel|1.442\n",
      "2018-08-07|LPG|0.885\n",
      "2018-08-07|Euro95|1.791\n",
      "2018-08-07|Diesel|1.442\n",
      "2018-08-07|LPG|0.885\n",
      "2018-08-07|Euro95|1.791\n",
      "2018-08-07|Diesel|1.442\n",
      "2018-08-07|LPG|0.885\n",
      "2018-08-07|Euro95|1.791\n",
      "2018-08-07|Diesel|1.442\n",
      "2018-08-07|LPG|0.885\n",
      "2018-08-07|Euro95|1.791\n",
      "2018-08-07|Diesel|1.442\n",
      "2018-08-07|LPG|0.885\n",
      "2018-08-08|Euro95|1.791\n",
      "2018-08-08|Diesel|1.445\n",
      "2018-08-08|LPG|0.885\n",
      "2018-08-08|Euro95|1.791\n",
      "2018-08-08|Diesel|1.445\n",
      "2018-08-08|LPG|0.885\n",
      "2018-08-08|Euro95|1.791\n",
      "2018-08-08|Diesel|1.445\n",
      "2018-08-08|LPG|0.885\n",
      "2018-08-08|Euro95|1.791\n",
      "2018-08-08|Diesel|1.445\n",
      "2018-08-08|LPG|0.885\n",
      "2018-08-08|Euro95|1.791\n",
      "2018-08-08|Diesel|1.445\n",
      "2018-08-08|LPG|0.885\n",
      "2018-08-08|Euro95|1.791\n",
      "2018-08-08|Diesel|1.445\n",
      "2018-08-08|LPG|0.885\n",
      "2018-08-08|Euro95|1.791\n",
      "2018-08-08|Diesel|1.445\n",
      "2018-08-08|LPG|0.885\n",
      "2018-08-09|Euro95|1.791\n",
      "2018-08-09|Diesel|1.446\n",
      "2018-08-09|LPG|0.885\n",
      "2018-08-28|Euro95|1.793\n",
      "2018-08-28|Diesel|1.464\n",
      "2018-08-28|LPG|0.887\n",
      "2018-12-07|Euro95|1.622\n",
      "2018-12-07|Diesel|1.399\n",
      "2018-12-07|LPG|0.85\n",
      "2018-12-14|Euro95|1.616\n",
      "2018-12-14|Diesel|1.388\n",
      "2018-12-14|LPG|0.844\n",
      "2018-12-14|Euro95|1.616\n",
      "2018-12-14|Diesel|1.388\n",
      "2018-12-14|LPG|0.844\n",
      "2019-02-15|Euro95|1.674\n",
      "2019-02-15|Diesel|1.435\n",
      "2019-02-15|LPG|0.847\n",
      "2019-02-15|Euro95|1.674\n",
      "2019-02-15|Diesel|1.435\n",
      "2019-02-15|LPG|0.847\n",
      "2019-02-16|Euro95|1.69\n",
      "2019-02-16|Diesel|1.446\n",
      "2019-02-16|LPG|0.847\n",
      "2019-02-16|Euro95|1.69\n",
      "2019-02-16|Diesel|1.446\n",
      "2019-02-16|LPG|0.847\n",
      "2019-04-19|Euro95|1.814\n",
      "2019-04-19|Diesel|1.483\n",
      "2019-04-19|LPG|0.864\n",
      "2019-05-01|Euro95|1.833\n",
      "2019-05-01|Diesel|1.491\n",
      "2019-05-01|LPG|0.868\n",
      "2019-05-02|Euro95|1.833\n",
      "2019-05-02|Diesel|1.491\n",
      "2019-05-02|LPG|0.868\n"
     ]
    }
   ],
   "source": [
    "with sqlite3.connect('../data/fuelprices.db') as db:\n",
    "    curs = db.cursor()\n",
    "    curs.execute('SELECT * FROM prices;')\n",
    "    for record in curs:\n",
    "        print(*record, sep='|')\n",
    "    curs.close()"
   ]
  },
  {
   "cell_type": "markdown",
   "metadata": {
    "slideshow": {
     "slide_type": "slide"
    }
   },
   "source": [
    "# Webserver with Flask"
   ]
  },
  {
   "cell_type": "code",
   "execution_count": 133,
   "metadata": {
    "collapsed": true,
    "slideshow": {
     "slide_type": "-"
    }
   },
   "outputs": [],
   "source": [
    "from flask import Flask, request, Response, g, render_template\n",
    "import logging\n",
    "\n",
    "app = Flask(__name__)\n",
    "app.logger.setLevel(logging.WARN)\n",
    "\n",
    "@app.route(\"/hello\")\n",
    "def hello2():\n",
    "    return \"\"\"<html><head><title>Voorbeeld</title></head>\n",
    "                    <body><h1>Hello World2!</h1></body>\n",
    "                    </html>\"\"\""
   ]
  },
  {
   "cell_type": "code",
   "execution_count": 126,
   "metadata": {
    "collapsed": true,
    "slideshow": {
     "slide_type": "subslide"
    }
   },
   "outputs": [],
   "source": [
    "import threading\n",
    "from werkzeug.serving import make_server\n",
    "\n",
    "class FlaskServer(threading.Thread):\n",
    "\n",
    "    def __init__(self, app, host, port):\n",
    "        super().__init__()\n",
    "        self.srv = make_server(host=host, port=port, app=app)\n",
    "        \n",
    "    def __del__(self):\n",
    "        self.srv.shutdown()\n",
    "\n",
    "    def run(self):\n",
    "        self.srv.serve_forever()\n",
    "\n",
    "    def shutdown(self):\n",
    "        self.srv.shutdown()\n",
    "        \n",
    "    @classmethod\n",
    "    def startup(cls, app, host='localhost', port=5000):\n",
    "        server = cls(app, host, port)\n",
    "        server.start()\n",
    "        return server"
   ]
  },
  {
   "cell_type": "code",
   "execution_count": 140,
   "metadata": {
    "collapsed": true,
    "slideshow": {
     "slide_type": "subslide"
    }
   },
   "outputs": [],
   "source": [
    "#del server\n",
    "#server = FlaskServer.startup(app)"
   ]
  },
  {
   "cell_type": "code",
   "execution_count": 132,
   "metadata": {
    "slideshow": {
     "slide_type": "-"
    }
   },
   "outputs": [
    {
     "data": {
      "text/html": [
       "\n",
       "        <iframe\n",
       "            width=\"100%\"\n",
       "            height=\"160\"\n",
       "            src=\"http://localhost:5000/hello?scrolling=no&frameborder=0\"\n",
       "            frameborder=\"0\"\n",
       "            allowfullscreen\n",
       "        ></iframe>\n",
       "        "
      ],
      "text/plain": [
       "<IPython.lib.display.IFrame at 0x19b97a8c278>"
      ]
     },
     "execution_count": 132,
     "metadata": {},
     "output_type": "execute_result"
    },
    {
     "name": "stderr",
     "output_type": "stream",
     "text": [
      "127.0.0.1 - - [02/May/2019 17:57:19] \"\u001b[37mGET /hello?scrolling=no&frameborder=0 HTTP/1.1\u001b[0m\" 200 -\n"
     ]
    }
   ],
   "source": [
    "iframe(\"http://localhost:5000/hello\", height=160) "
   ]
  },
  {
   "cell_type": "markdown",
   "metadata": {
    "slideshow": {
     "slide_type": "slide"
    }
   },
   "source": [
    "# Templating with Jinja2\n",
    "Add a function to our app that uses **Jinja2** to render server variables."
   ]
  },
  {
   "cell_type": "code",
   "execution_count": 134,
   "metadata": {
    "collapsed": true,
    "scrolled": false,
    "slideshow": {
     "slide_type": "-"
    }
   },
   "outputs": [],
   "source": [
    "@app.route('/var/') \n",
    "def show_server_vars3():\n",
    "    print('hi')\n",
    "    env = request.environ\n",
    "    print(env)\n",
    "    return render_template('vars.html',\n",
    "                           vars=[(k, env[k]) for k in sorted(env)])"
   ]
  },
  {
   "cell_type": "code",
   "execution_count": 7,
   "metadata": {
    "slideshow": {
     "slide_type": "fragment"
    }
   },
   "outputs": [
    {
     "name": "stdout",
     "output_type": "stream",
     "text": [
      "<!DOCTYPE html>\r\n",
      "<html lang=\"en\">\r\n",
      "    <head>\r\n",
      "        <meta charset=\"utf-8\">\r\n",
      "        <meta name=\"viewport\" content=\"width=device-width, initial-scale=1\">\r\n",
      "        <title>Server variables</title>\r\n",
      "    </head>\r\n",
      "    <body>\r\n",
      "        <main>\r\n",
      "            <h1>Server variables</h1>\r\n",
      "            <table border=\"1\">\r\n",
      "                <tr><th>Name</th><th>Value</th></tr>\r\n",
      "            {% for var, value in vars %}\r\n",
      "                <tr><td>{{ var }}</td><td>{{ value }}</td></tr>\r\n",
      "            {% endfor %}\r\n",
      "            </table>\r\n",
      "        </main>\r\n",
      "        <footer>\r\n",
      "            <p>Copyright (c) 2018 AT Computing. All rights reserved.<p>\r\n",
      "        </footer>\r\n",
      "    </body>\r\n",
      "</html>\r\n"
     ]
    }
   ],
   "source": [
    "!cat templates/vars.html"
   ]
  },
  {
   "cell_type": "code",
   "execution_count": 150,
   "metadata": {
    "slideshow": {
     "slide_type": "subslide"
    }
   },
   "outputs": [
    {
     "data": {
      "text/html": [
       "\n",
       "        <iframe\n",
       "            width=\"1400\"\n",
       "            height=\"100\"\n",
       "            src=\"http://localhost:5000/var/?scrolling=no&frameborder=0\"\n",
       "            frameborder=\"0\"\n",
       "            allowfullscreen\n",
       "        ></iframe>\n",
       "        "
      ],
      "text/plain": [
       "<IPython.lib.display.IFrame at 0x19b97a74438>"
      ]
     },
     "execution_count": 150,
     "metadata": {},
     "output_type": "execute_result"
    },
    {
     "name": "stderr",
     "output_type": "stream",
     "text": [
      "127.0.0.1 - - [02/May/2019 18:48:39] \"\u001b[33mGET /var/?scrolling=no&frameborder=0 HTTP/1.1\u001b[0m\" 404 -\n"
     ]
    }
   ],
   "source": [
    "iframe(\"http://localhost:5000/var/\", height=100, width=1400)"
   ]
  },
  {
   "cell_type": "code",
   "execution_count": null,
   "metadata": {
    "collapsed": true
   },
   "outputs": [],
   "source": [
    "from werkzeug.wrappers import Request, Response\n",
    "from flask import Flask \n",
    "app = Flask(__name__)\n",
    "\n",
    "@app.route(\"/\")\n",
    "def hello():\n",
    "    return \"Hello World!\"\n",
    "\n",
    "\n",
    "@app.route('/var/') \n",
    "def show_server_vars3():\n",
    "    env = request.environ\n",
    "    return render_template('vars.html',\n",
    "                           vars=[(k, env[k]) for k in sorted(env)])\n",
    "\n",
    "\n",
    "from werkzeug.serving import run_simple\n",
    "run_simple('localhost', 9010, app)"
   ]
  },
  {
   "cell_type": "markdown",
   "metadata": {},
   "source": [
    "after running the code above, go to: \"http://localhost:9010/\" in your webbrowser! "
   ]
  },
  {
   "cell_type": "markdown",
   "metadata": {
    "slideshow": {
     "slide_type": "subslide"
    }
   },
   "source": [
    "## Now let's make a web page that renders the fuel price info\n",
    "Some functions to connect to our SQLite database:"
   ]
  },
  {
   "cell_type": "code",
   "execution_count": 152,
   "metadata": {
    "collapsed": true,
    "slideshow": {
     "slide_type": "-"
    }
   },
   "outputs": [],
   "source": [
    "import sqlite3\n",
    "import os\n",
    "from os.path import join\n",
    "\n",
    "\n",
    "def get_row_as_dict(row, curs):\n",
    "    return {col[0]:row[idx] for idx, col in enumerate(curs.description)}\n",
    "\n",
    "def do_query(query, bindings=(), result_set_name='result set'):\n",
    "    \"\"\"\n",
    "    Returns a single key dict, the value being a list of dicts. \n",
    "    Each dict in the list represents a row of database data.\n",
    "    \"\"\"\n",
    "    db = get_db()\n",
    "    curs = db.execute(query, bindings)    \n",
    "    return { result_set_name: [ get_row_as_dict(row, curs) for row in curs ] }\n",
    "\n",
    "def connect_db():\n",
    "    rv = sqlite3.connect(os.path.join(app.root_path, '..', 'data', 'fuelprices.db'))\n",
    "    rv.row_factory = sqlite3.Row\n",
    "    return rv\n",
    "\n",
    "def get_db():\n",
    "    if not hasattr(g, 'sqlite_db'):\n",
    "        g.sqlite_db = connect_db()\n",
    "    return g.sqlite_db"
   ]
  },
  {
   "cell_type": "code",
   "execution_count": 153,
   "metadata": {
    "slideshow": {
     "slide_type": "subslide"
    }
   },
   "outputs": [
    {
     "name": "stderr",
     "output_type": "stream",
     "text": [
      " * Running on http://localhost:9010/ (Press CTRL+C to quit)\n",
      "127.0.0.1 - - [02/May/2019 18:52:36] \"\u001b[37mGET / HTTP/1.1\u001b[0m\" 200 -\n"
     ]
    }
   ],
   "source": [
    "app = Flask(__name__)\n",
    "\n",
    "\n",
    "\n",
    "@app.route('/')\n",
    "def fuels():\n",
    "    result = do_query('SELECT * FROM prices', result_set_name='fuels')\n",
    "    x = {}\n",
    "    for row in result['fuels']:\n",
    "        day = row['day']\n",
    "        fuel = row['fuel']\n",
    "        price = row['price']\n",
    "        try:\n",
    "            x[day][fuel] = price\n",
    "        except KeyError:\n",
    "            x[day] = {'Datum': day, fuel: '{:.3f}'.format(price)}\n",
    "    return render_template('fuels.html', \n",
    "                           fuels=[ x[day] for day in sorted(x, reverse=True) ])\n",
    "        \n",
    "    \n",
    "from werkzeug.serving import run_simple\n",
    "run_simple('localhost', 9010, app)"
   ]
  },
  {
   "cell_type": "code",
   "execution_count": 90,
   "metadata": {
    "scrolled": true,
    "slideshow": {
     "slide_type": "fragment"
    }
   },
   "outputs": [
    {
     "name": "stdout",
     "output_type": "stream",
     "text": [
      "{% extends \"layout.html\" %}\r\n",
      "{% block title %}Fuel Prices{% endblock %}\r\n",
      "{% block content %}\r\n",
      "<table border=\"1\">\r\n",
      "    <tr><th>Date</th><th>Euro95</th><th>Diesel</th><th>LPG</th></tr>\r\n",
      "    {% for row in fuels %}\r\n",
      "        <tr>\r\n",
      "            <td>{{ row.Datum }}</td>\r\n",
      "            <td>{{ row.Euro95 }}</td>\r\n",
      "            <td>{{ row.Diesel }}</td>\r\n",
      "            <td>{{ row.LPG }}</td>\r\n",
      "        </tr>\r\n",
      "    {% endfor %}\r\n",
      "</table>\r\n",
      "{% endblock %}\r\n"
     ]
    }
   ],
   "source": [
    "!cat templates/fuels.html"
   ]
  },
  {
   "cell_type": "code",
   "execution_count": 91,
   "metadata": {
    "slideshow": {
     "slide_type": "subslide"
    }
   },
   "outputs": [
    {
     "data": {
      "text/html": [
       "\n",
       "        <iframe\n",
       "            width=\"100%\"\n",
       "            height=\"500\"\n",
       "            src=\"http://localhost:5000/?scrolling=no&frameborder=0\"\n",
       "            frameborder=\"0\"\n",
       "            allowfullscreen\n",
       "        ></iframe>\n",
       "        "
      ],
      "text/plain": [
       "<IPython.lib.display.IFrame at 0x7feb39ba5630>"
      ]
     },
     "execution_count": 91,
     "metadata": {},
     "output_type": "execute_result"
    },
    {
     "name": "stderr",
     "output_type": "stream",
     "text": [
      "127.0.0.1 - - [26/Apr/2019 11:13:40] \"GET /?scrolling=no&frameborder=0 HTTP/1.1\" 404 -\n"
     ]
    }
   ],
   "source": [
    "iframe(\"http://localhost:5000/\", height=500)"
   ]
  },
  {
   "cell_type": "code",
   "execution_count": 18,
   "metadata": {
    "collapsed": true,
    "slideshow": {
     "slide_type": "subslide"
    }
   },
   "outputs": [],
   "source": [
    "@app.route('/greeting/', methods=['GET', 'POST'])\n",
    "def greeting():\n",
    "    if request.method == 'POST':\n",
    "        return render_template('greeting_post.html', name=request.form['name'])\n",
    "    else:\n",
    "        return render_template('greeting_get.html')"
   ]
  },
  {
   "cell_type": "code",
   "execution_count": null,
   "metadata": {
    "collapsed": true,
    "slideshow": {
     "slide_type": "fragment"
    }
   },
   "outputs": [],
   "source": [
    "!cat templates/greeting_get.html"
   ]
  },
  {
   "cell_type": "code",
   "execution_count": null,
   "metadata": {
    "collapsed": true,
    "slideshow": {
     "slide_type": "fragment"
    }
   },
   "outputs": [],
   "source": [
    "!cat templates/greeting_post.html"
   ]
  },
  {
   "cell_type": "code",
   "execution_count": 19,
   "metadata": {
    "scrolled": true,
    "slideshow": {
     "slide_type": "subslide"
    }
   },
   "outputs": [
    {
     "data": {
      "text/html": [
       "\n",
       "        <iframe\n",
       "            width=\"100%\"\n",
       "            height=\"240\"\n",
       "            src=\"http://localhost:5000/greeting/?scrolling=no&frameborder=0\"\n",
       "            frameborder=\"0\"\n",
       "            allowfullscreen\n",
       "        ></iframe>\n",
       "        "
      ],
      "text/plain": [
       "<IPython.lib.display.IFrame at 0x7fa60b1aa080>"
      ]
     },
     "execution_count": 19,
     "metadata": {},
     "output_type": "execute_result"
    },
    {
     "name": "stderr",
     "output_type": "stream",
     "text": [
      "127.0.0.1 - - [24/Apr/2019 14:59:01] \"GET /greeting/?scrolling=no&frameborder=0 HTTP/1.1\" 200 -\n",
      "127.0.0.1 - - [24/Apr/2019 14:59:07] \"POST /greeting/ HTTP/1.1\" 200 -\n"
     ]
    }
   ],
   "source": [
    "iframe(\"http://localhost:5000/greeting/\", height=240)"
   ]
  },
  {
   "cell_type": "code",
   "execution_count": 20,
   "metadata": {
    "collapsed": true,
    "slideshow": {
     "slide_type": "subslide"
    }
   },
   "outputs": [],
   "source": [
    "from functools import wraps\n",
    "\n",
    "def check_auth(username, password):\n",
    "    \"\"\"Checks for a valid username / password combination.\n",
    "    \"\"\"\n",
    "    pw_store = {'at': 'geheim', 'guru1': 'ookgeheim'}\n",
    "    return username in pw_store and password == pw_store[username]\n",
    "\n",
    "def authenticate():\n",
    "    \"\"\"Sends a 401 response that enables basic auth\"\"\"\n",
    "    return Response(\n",
    "    'Could not verify your access level for that URL.\\n'\n",
    "    'You have to login with proper credentials', 401,\n",
    "    {'WWW-Authenticate': 'Basic realm=\"Login Required\"'})\n",
    "\n",
    "def requires_auth(f):\n",
    "    @wraps(f)\n",
    "    def decorated(*args, **kwargs):\n",
    "        auth = request.authorization\n",
    "        if auth:\n",
    "            app.logger.info('[' + auth.username + '] ' + request.url)\n",
    "            if check_auth(auth.username, auth.password):\n",
    "                return f(*args, **kwargs)\n",
    "        return authenticate()\n",
    "    \n",
    "    return decorated"
   ]
  },
  {
   "cell_type": "code",
   "execution_count": 21,
   "metadata": {
    "collapsed": true,
    "slideshow": {
     "slide_type": "subslide"
    }
   },
   "outputs": [],
   "source": [
    "@app.route('/secret/')\n",
    "@requires_auth\n",
    "def secret():\n",
    "    return render_template('secret.html')"
   ]
  },
  {
   "cell_type": "code",
   "execution_count": 27,
   "metadata": {
    "scrolled": false
   },
   "outputs": [
    {
     "data": {
      "text/html": [
       "\n",
       "        <iframe\n",
       "            width=\"100%\"\n",
       "            height=\"300\"\n",
       "            src=\"http://localhost:5000/secret/?scrolling=no&frameborder=0\"\n",
       "            frameborder=\"0\"\n",
       "            allowfullscreen\n",
       "        ></iframe>\n",
       "        "
      ],
      "text/plain": [
       "<IPython.lib.display.IFrame at 0x7fa60b14b550>"
      ]
     },
     "execution_count": 27,
     "metadata": {},
     "output_type": "execute_result"
    },
    {
     "name": "stderr",
     "output_type": "stream",
     "text": [
      "127.0.0.1 - - [24/Apr/2019 15:03:23] \"GET /secret/?scrolling=no&frameborder=0 HTTP/1.1\" 401 -\n",
      "127.0.0.1 - - [24/Apr/2019 15:03:31] \"GET /secret/?scrolling=no&frameborder=0 HTTP/1.1\" 200 -\n"
     ]
    }
   ],
   "source": [
    "iframe(\"http://localhost:5000/secret/\")"
   ]
  },
  {
   "cell_type": "code",
   "execution_count": 23,
   "metadata": {
    "collapsed": true,
    "slideshow": {
     "slide_type": "subslide"
    }
   },
   "outputs": [],
   "source": [
    "@app.teardown_appcontext\n",
    "def close_db(error):\n",
    "    if hasattr(g, 'sqlite_db'):\n",
    "        g.sqlite_db.close()"
   ]
  },
  {
   "cell_type": "code",
   "execution_count": 24,
   "metadata": {
    "collapsed": true,
    "slideshow": {
     "slide_type": "skip"
    }
   },
   "outputs": [],
   "source": [
    "server.shutdown()"
   ]
  },
  {
   "cell_type": "markdown",
   "metadata": {
    "slideshow": {
     "slide_type": "slide"
    }
   },
   "source": [
    "# Pandas, seaborn, Numpy"
   ]
  },
  {
   "cell_type": "markdown",
   "metadata": {
    "ipub": {
     "code": true,
     "equation": true,
     "error": true,
     "figure": {
      "placement": "H"
     },
     "mkdown": true,
     "slide": true,
     "table": {
      "placement": "H"
     },
     "text": true
    },
    "slideshow": {
     "slide_type": "slide"
    }
   },
   "source": [
    "A **DataFrame** object:\n",
    "* is a rectangular table of data\n",
    "* contains ordered collection of columns\n",
    "* has a row and a column index\n",
    "* is like a dict of Series objects with a common index\n",
    "\n",
    "Create it like this:"
   ]
  },
  {
   "cell_type": "code",
   "execution_count": 97,
   "metadata": {
    "collapsed": true,
    "slideshow": {
     "slide_type": "-"
    }
   },
   "outputs": [],
   "source": [
    "import numpy as np\n",
    "import pandas as pd\n",
    "data = {'city': ['Drachten', 'Breda', 'Arnhem', 'Breda', 'Arnhem'],\n",
    "        'transport': ['bus', 'bus', 'bus', 'train', 'train'],\n",
    "        'perc': [0.22, 1.11, 0.89, 2.1, 2.5]}\n",
    "df = pd.DataFrame(data)"
   ]
  },
  {
   "cell_type": "markdown",
   "metadata": {
    "slideshow": {
     "slide_type": "-"
    }
   },
   "source": [
    "... and many other ways"
   ]
  },
  {
   "cell_type": "markdown",
   "metadata": {
    "slideshow": {
     "slide_type": "subslide"
    }
   },
   "source": [
    "This is the content of our DataFrame:"
   ]
  },
  {
   "cell_type": "code",
   "execution_count": 98,
   "metadata": {
    "scrolled": true,
    "slideshow": {
     "slide_type": "-"
    }
   },
   "outputs": [
    {
     "data": {
      "text/html": [
       "<div>\n",
       "<style scoped>\n",
       "    .dataframe tbody tr th:only-of-type {\n",
       "        vertical-align: middle;\n",
       "    }\n",
       "\n",
       "    .dataframe tbody tr th {\n",
       "        vertical-align: top;\n",
       "    }\n",
       "\n",
       "    .dataframe thead th {\n",
       "        text-align: right;\n",
       "    }\n",
       "</style>\n",
       "<table border=\"1\" class=\"dataframe\">\n",
       "  <thead>\n",
       "    <tr style=\"text-align: right;\">\n",
       "      <th></th>\n",
       "      <th>city</th>\n",
       "      <th>transport</th>\n",
       "      <th>perc</th>\n",
       "    </tr>\n",
       "  </thead>\n",
       "  <tbody>\n",
       "    <tr>\n",
       "      <th>0</th>\n",
       "      <td>Drachten</td>\n",
       "      <td>bus</td>\n",
       "      <td>0.22</td>\n",
       "    </tr>\n",
       "    <tr>\n",
       "      <th>1</th>\n",
       "      <td>Breda</td>\n",
       "      <td>bus</td>\n",
       "      <td>1.11</td>\n",
       "    </tr>\n",
       "    <tr>\n",
       "      <th>2</th>\n",
       "      <td>Arnhem</td>\n",
       "      <td>bus</td>\n",
       "      <td>0.89</td>\n",
       "    </tr>\n",
       "    <tr>\n",
       "      <th>3</th>\n",
       "      <td>Breda</td>\n",
       "      <td>train</td>\n",
       "      <td>2.10</td>\n",
       "    </tr>\n",
       "    <tr>\n",
       "      <th>4</th>\n",
       "      <td>Arnhem</td>\n",
       "      <td>train</td>\n",
       "      <td>2.50</td>\n",
       "    </tr>\n",
       "  </tbody>\n",
       "</table>\n",
       "</div>"
      ],
      "text/plain": [
       "       city transport  perc\n",
       "0  Drachten       bus  0.22\n",
       "1     Breda       bus  1.11\n",
       "2    Arnhem       bus  0.89\n",
       "3     Breda     train  2.10\n",
       "4    Arnhem     train  2.50"
      ]
     },
     "execution_count": 98,
     "metadata": {},
     "output_type": "execute_result"
    }
   ],
   "source": [
    "df"
   ]
  },
  {
   "cell_type": "markdown",
   "metadata": {
    "slideshow": {
     "slide_type": "fragment"
    }
   },
   "source": [
    "We didn't give a row index, so a default is provided."
   ]
  },
  {
   "cell_type": "code",
   "execution_count": 99,
   "metadata": {
    "slideshow": {
     "slide_type": "-"
    }
   },
   "outputs": [
    {
     "data": {
      "text/plain": [
       "RangeIndex(start=0, stop=5, step=1)"
      ]
     },
     "execution_count": 99,
     "metadata": {},
     "output_type": "execute_result"
    }
   ],
   "source": [
    "df.index"
   ]
  },
  {
   "cell_type": "markdown",
   "metadata": {
    "slideshow": {
     "slide_type": "subslide"
    }
   },
   "source": [
    "To specify an index explicitly, create a DataFrame like this:"
   ]
  },
  {
   "cell_type": "code",
   "execution_count": 100,
   "metadata": {
    "slideshow": {
     "slide_type": "-"
    }
   },
   "outputs": [
    {
     "data": {
      "text/html": [
       "<div>\n",
       "<style scoped>\n",
       "    .dataframe tbody tr th:only-of-type {\n",
       "        vertical-align: middle;\n",
       "    }\n",
       "\n",
       "    .dataframe tbody tr th {\n",
       "        vertical-align: top;\n",
       "    }\n",
       "\n",
       "    .dataframe thead th {\n",
       "        text-align: right;\n",
       "    }\n",
       "</style>\n",
       "<table border=\"1\" class=\"dataframe\">\n",
       "  <thead>\n",
       "    <tr style=\"text-align: right;\">\n",
       "      <th></th>\n",
       "      <th>transport</th>\n",
       "      <th>city</th>\n",
       "      <th>perc</th>\n",
       "      <th>occ</th>\n",
       "    </tr>\n",
       "  </thead>\n",
       "  <tbody>\n",
       "    <tr>\n",
       "      <th>a</th>\n",
       "      <td>bus</td>\n",
       "      <td>Drachten</td>\n",
       "      <td>0.22</td>\n",
       "      <td>NaN</td>\n",
       "    </tr>\n",
       "    <tr>\n",
       "      <th>b</th>\n",
       "      <td>bus</td>\n",
       "      <td>Breda</td>\n",
       "      <td>1.11</td>\n",
       "      <td>NaN</td>\n",
       "    </tr>\n",
       "    <tr>\n",
       "      <th>c</th>\n",
       "      <td>bus</td>\n",
       "      <td>Arnhem</td>\n",
       "      <td>0.89</td>\n",
       "      <td>NaN</td>\n",
       "    </tr>\n",
       "    <tr>\n",
       "      <th>d</th>\n",
       "      <td>train</td>\n",
       "      <td>Breda</td>\n",
       "      <td>2.10</td>\n",
       "      <td>NaN</td>\n",
       "    </tr>\n",
       "    <tr>\n",
       "      <th>e</th>\n",
       "      <td>train</td>\n",
       "      <td>Arnhem</td>\n",
       "      <td>2.50</td>\n",
       "      <td>NaN</td>\n",
       "    </tr>\n",
       "  </tbody>\n",
       "</table>\n",
       "</div>"
      ],
      "text/plain": [
       "  transport      city  perc  occ\n",
       "a       bus  Drachten  0.22  NaN\n",
       "b       bus     Breda  1.11  NaN\n",
       "c       bus    Arnhem  0.89  NaN\n",
       "d     train     Breda  2.10  NaN\n",
       "e     train    Arnhem  2.50  NaN"
      ]
     },
     "execution_count": 100,
     "metadata": {},
     "output_type": "execute_result"
    }
   ],
   "source": [
    "df2 = pd.DataFrame(data, columns=['transport', 'city', 'perc', 'occ'],\n",
    "                      index=['a', 'b', 'c', 'd', 'e'])\n",
    "df2"
   ]
  },
  {
   "cell_type": "markdown",
   "metadata": {
    "slideshow": {
     "slide_type": "-"
    }
   },
   "source": [
    "> * you can select only the columns you need\n",
    "> * the columns are in the specified order\n",
    "> * a non-existing name makes a column with all `NaN`s\n",
    "> * the size of row index must match the number of rows in `data`"
   ]
  },
  {
   "cell_type": "markdown",
   "metadata": {
    "slideshow": {
     "slide_type": "slide"
    }
   },
   "source": [
    "You can retrieve a single column as a Series object"
   ]
  },
  {
   "cell_type": "code",
   "execution_count": 101,
   "metadata": {
    "scrolled": true
   },
   "outputs": [
    {
     "data": {
      "text/plain": [
       "a      bus\n",
       "b      bus\n",
       "c      bus\n",
       "d    train\n",
       "e    train\n",
       "Name: transport, dtype: object"
      ]
     },
     "execution_count": 101,
     "metadata": {},
     "output_type": "execute_result"
    }
   ],
   "source": [
    "df2['transport']      # or my_df2.transport"
   ]
  },
  {
   "cell_type": "markdown",
   "metadata": {
    "slideshow": {
     "slide_type": "fragment"
    }
   },
   "source": [
    "... or multiple columns as a DataFrame"
   ]
  },
  {
   "cell_type": "code",
   "execution_count": 102,
   "metadata": {},
   "outputs": [
    {
     "data": {
      "text/html": [
       "<div>\n",
       "<style scoped>\n",
       "    .dataframe tbody tr th:only-of-type {\n",
       "        vertical-align: middle;\n",
       "    }\n",
       "\n",
       "    .dataframe tbody tr th {\n",
       "        vertical-align: top;\n",
       "    }\n",
       "\n",
       "    .dataframe thead th {\n",
       "        text-align: right;\n",
       "    }\n",
       "</style>\n",
       "<table border=\"1\" class=\"dataframe\">\n",
       "  <thead>\n",
       "    <tr style=\"text-align: right;\">\n",
       "      <th></th>\n",
       "      <th>city</th>\n",
       "      <th>transport</th>\n",
       "    </tr>\n",
       "  </thead>\n",
       "  <tbody>\n",
       "    <tr>\n",
       "      <th>a</th>\n",
       "      <td>Drachten</td>\n",
       "      <td>bus</td>\n",
       "    </tr>\n",
       "    <tr>\n",
       "      <th>b</th>\n",
       "      <td>Breda</td>\n",
       "      <td>bus</td>\n",
       "    </tr>\n",
       "    <tr>\n",
       "      <th>c</th>\n",
       "      <td>Arnhem</td>\n",
       "      <td>bus</td>\n",
       "    </tr>\n",
       "    <tr>\n",
       "      <th>d</th>\n",
       "      <td>Breda</td>\n",
       "      <td>train</td>\n",
       "    </tr>\n",
       "    <tr>\n",
       "      <th>e</th>\n",
       "      <td>Arnhem</td>\n",
       "      <td>train</td>\n",
       "    </tr>\n",
       "  </tbody>\n",
       "</table>\n",
       "</div>"
      ],
      "text/plain": [
       "       city transport\n",
       "a  Drachten       bus\n",
       "b     Breda       bus\n",
       "c    Arnhem       bus\n",
       "d     Breda     train\n",
       "e    Arnhem     train"
      ]
     },
     "execution_count": 102,
     "metadata": {},
     "output_type": "execute_result"
    }
   ],
   "source": [
    "df2[['city', 'transport']]"
   ]
  },
  {
   "cell_type": "markdown",
   "metadata": {
    "slideshow": {
     "slide_type": "slide"
    }
   },
   "source": [
    "### Retrieve values -  slicing\n",
    "* select rows with an ordinary slice"
   ]
  },
  {
   "cell_type": "code",
   "execution_count": 103,
   "metadata": {},
   "outputs": [
    {
     "data": {
      "text/html": [
       "<div>\n",
       "<style scoped>\n",
       "    .dataframe tbody tr th:only-of-type {\n",
       "        vertical-align: middle;\n",
       "    }\n",
       "\n",
       "    .dataframe tbody tr th {\n",
       "        vertical-align: top;\n",
       "    }\n",
       "\n",
       "    .dataframe thead th {\n",
       "        text-align: right;\n",
       "    }\n",
       "</style>\n",
       "<table border=\"1\" class=\"dataframe\">\n",
       "  <thead>\n",
       "    <tr style=\"text-align: right;\">\n",
       "      <th></th>\n",
       "      <th>transport</th>\n",
       "      <th>city</th>\n",
       "      <th>perc</th>\n",
       "      <th>occ</th>\n",
       "    </tr>\n",
       "  </thead>\n",
       "  <tbody>\n",
       "    <tr>\n",
       "      <th>a</th>\n",
       "      <td>bus</td>\n",
       "      <td>Drachten</td>\n",
       "      <td>0.22</td>\n",
       "      <td>NaN</td>\n",
       "    </tr>\n",
       "    <tr>\n",
       "      <th>b</th>\n",
       "      <td>bus</td>\n",
       "      <td>Breda</td>\n",
       "      <td>1.11</td>\n",
       "      <td>NaN</td>\n",
       "    </tr>\n",
       "  </tbody>\n",
       "</table>\n",
       "</div>"
      ],
      "text/plain": [
       "  transport      city  perc  occ\n",
       "a       bus  Drachten  0.22  NaN\n",
       "b       bus     Breda  1.11  NaN"
      ]
     },
     "execution_count": 103,
     "metadata": {},
     "output_type": "execute_result"
    }
   ],
   "source": [
    "df2[:2]"
   ]
  },
  {
   "cell_type": "markdown",
   "metadata": {},
   "source": [
    "> * does not work with as single index (e.g. `df[2]`)\n",
    "> * also does not work with a list of indexes (e.g. `df2[[3, 1, 2]]`)"
   ]
  },
  {
   "cell_type": "markdown",
   "metadata": {
    "slideshow": {
     "slide_type": "subslide"
    }
   },
   "source": [
    "### Retrieve values - fancy indexing\n",
    "Select rows with a boolean sequence"
   ]
  },
  {
   "cell_type": "code",
   "execution_count": 104,
   "metadata": {
    "slideshow": {
     "slide_type": "-"
    }
   },
   "outputs": [
    {
     "data": {
      "text/html": [
       "<div>\n",
       "<style scoped>\n",
       "    .dataframe tbody tr th:only-of-type {\n",
       "        vertical-align: middle;\n",
       "    }\n",
       "\n",
       "    .dataframe tbody tr th {\n",
       "        vertical-align: top;\n",
       "    }\n",
       "\n",
       "    .dataframe thead th {\n",
       "        text-align: right;\n",
       "    }\n",
       "</style>\n",
       "<table border=\"1\" class=\"dataframe\">\n",
       "  <thead>\n",
       "    <tr style=\"text-align: right;\">\n",
       "      <th></th>\n",
       "      <th>transport</th>\n",
       "      <th>city</th>\n",
       "      <th>perc</th>\n",
       "      <th>occ</th>\n",
       "    </tr>\n",
       "  </thead>\n",
       "  <tbody>\n",
       "    <tr>\n",
       "      <th>a</th>\n",
       "      <td>bus</td>\n",
       "      <td>Drachten</td>\n",
       "      <td>0.22</td>\n",
       "      <td>NaN</td>\n",
       "    </tr>\n",
       "    <tr>\n",
       "      <th>c</th>\n",
       "      <td>bus</td>\n",
       "      <td>Arnhem</td>\n",
       "      <td>0.89</td>\n",
       "      <td>NaN</td>\n",
       "    </tr>\n",
       "  </tbody>\n",
       "</table>\n",
       "</div>"
      ],
      "text/plain": [
       "  transport      city  perc  occ\n",
       "a       bus  Drachten  0.22  NaN\n",
       "c       bus    Arnhem  0.89  NaN"
      ]
     },
     "execution_count": 104,
     "metadata": {},
     "output_type": "execute_result"
    }
   ],
   "source": [
    "df2[[True, False, True, False, False]]"
   ]
  },
  {
   "cell_type": "markdown",
   "metadata": {
    "slideshow": {
     "slide_type": "fragment"
    }
   },
   "source": [
    "or, more useful"
   ]
  },
  {
   "cell_type": "code",
   "execution_count": 106,
   "metadata": {
    "slideshow": {
     "slide_type": "-"
    }
   },
   "outputs": [
    {
     "data": {
      "text/html": [
       "<div>\n",
       "<style scoped>\n",
       "    .dataframe tbody tr th:only-of-type {\n",
       "        vertical-align: middle;\n",
       "    }\n",
       "\n",
       "    .dataframe tbody tr th {\n",
       "        vertical-align: top;\n",
       "    }\n",
       "\n",
       "    .dataframe thead th {\n",
       "        text-align: right;\n",
       "    }\n",
       "</style>\n",
       "<table border=\"1\" class=\"dataframe\">\n",
       "  <thead>\n",
       "    <tr style=\"text-align: right;\">\n",
       "      <th></th>\n",
       "      <th>transport</th>\n",
       "      <th>city</th>\n",
       "      <th>perc</th>\n",
       "      <th>occ</th>\n",
       "    </tr>\n",
       "  </thead>\n",
       "  <tbody>\n",
       "    <tr>\n",
       "      <th>a</th>\n",
       "      <td>bus</td>\n",
       "      <td>Drachten</td>\n",
       "      <td>0.22</td>\n",
       "      <td>NaN</td>\n",
       "    </tr>\n",
       "    <tr>\n",
       "      <th>b</th>\n",
       "      <td>bus</td>\n",
       "      <td>Breda</td>\n",
       "      <td>1.11</td>\n",
       "      <td>NaN</td>\n",
       "    </tr>\n",
       "    <tr>\n",
       "      <th>c</th>\n",
       "      <td>bus</td>\n",
       "      <td>Arnhem</td>\n",
       "      <td>0.89</td>\n",
       "      <td>NaN</td>\n",
       "    </tr>\n",
       "  </tbody>\n",
       "</table>\n",
       "</div>"
      ],
      "text/plain": [
       "  transport      city  perc  occ\n",
       "a       bus  Drachten  0.22  NaN\n",
       "b       bus     Breda  1.11  NaN\n",
       "c       bus    Arnhem  0.89  NaN"
      ]
     },
     "execution_count": 106,
     "metadata": {},
     "output_type": "execute_result"
    }
   ],
   "source": [
    "#print( df2.transport == 'bus' )\n",
    "\n",
    "df2[ df2.transport == 'bus' ]"
   ]
  },
  {
   "cell_type": "markdown",
   "metadata": {
    "slideshow": {
     "slide_type": "subslide"
    }
   },
   "source": [
    "### Retrieve values by label - `.loc` indexer\n",
    "* selection of rows and columns using labels"
   ]
  },
  {
   "cell_type": "code",
   "execution_count": 107,
   "metadata": {
    "slideshow": {
     "slide_type": "-"
    }
   },
   "outputs": [
    {
     "data": {
      "text/plain": [
       "'Arnhem'"
      ]
     },
     "execution_count": 107,
     "metadata": {},
     "output_type": "execute_result"
    }
   ],
   "source": [
    "df2.loc['c', 'city']    # row='c', column='city'"
   ]
  },
  {
   "cell_type": "code",
   "execution_count": 108,
   "metadata": {
    "slideshow": {
     "slide_type": "fragment"
    }
   },
   "outputs": [
    {
     "data": {
      "text/plain": [
       "a    Drachten\n",
       "b       Breda\n",
       "c      Arnhem\n",
       "d       Breda\n",
       "e      Arnhem\n",
       "Name: city, dtype: object"
      ]
     },
     "execution_count": 108,
     "metadata": {},
     "output_type": "execute_result"
    }
   ],
   "source": [
    "df2.loc[:, 'city']      # all rows, column='city'"
   ]
  },
  {
   "cell_type": "code",
   "execution_count": 109,
   "metadata": {
    "slideshow": {
     "slide_type": "fragment"
    }
   },
   "outputs": [
    {
     "data": {
      "text/plain": [
       "transport       bus\n",
       "city         Arnhem\n",
       "perc           0.89\n",
       "occ             NaN\n",
       "Name: c, dtype: object"
      ]
     },
     "execution_count": 109,
     "metadata": {},
     "output_type": "execute_result"
    }
   ],
   "source": [
    "df2.loc['c']            # equivalent to df2.loc['c', :]"
   ]
  },
  {
   "cell_type": "markdown",
   "metadata": {
    "slideshow": {
     "slide_type": "subslide"
    }
   },
   "source": [
    "### Retrieve values by label - `.loc` indexer (2)\n",
    "* you can provide lists of labels"
   ]
  },
  {
   "cell_type": "code",
   "execution_count": 110,
   "metadata": {
    "slideshow": {
     "slide_type": "-"
    }
   },
   "outputs": [
    {
     "data": {
      "text/html": [
       "<div>\n",
       "<style scoped>\n",
       "    .dataframe tbody tr th:only-of-type {\n",
       "        vertical-align: middle;\n",
       "    }\n",
       "\n",
       "    .dataframe tbody tr th {\n",
       "        vertical-align: top;\n",
       "    }\n",
       "\n",
       "    .dataframe thead th {\n",
       "        text-align: right;\n",
       "    }\n",
       "</style>\n",
       "<table border=\"1\" class=\"dataframe\">\n",
       "  <thead>\n",
       "    <tr style=\"text-align: right;\">\n",
       "      <th></th>\n",
       "      <th>transport</th>\n",
       "      <th>city</th>\n",
       "      <th>perc</th>\n",
       "      <th>occ</th>\n",
       "    </tr>\n",
       "  </thead>\n",
       "  <tbody>\n",
       "    <tr>\n",
       "      <th>d</th>\n",
       "      <td>train</td>\n",
       "      <td>Breda</td>\n",
       "      <td>2.10</td>\n",
       "      <td>NaN</td>\n",
       "    </tr>\n",
       "    <tr>\n",
       "      <th>a</th>\n",
       "      <td>bus</td>\n",
       "      <td>Drachten</td>\n",
       "      <td>0.22</td>\n",
       "      <td>NaN</td>\n",
       "    </tr>\n",
       "  </tbody>\n",
       "</table>\n",
       "</div>"
      ],
      "text/plain": [
       "  transport      city  perc  occ\n",
       "d     train     Breda  2.10  NaN\n",
       "a       bus  Drachten  0.22  NaN"
      ]
     },
     "execution_count": 110,
     "metadata": {},
     "output_type": "execute_result"
    }
   ],
   "source": [
    "df2.loc[['d', 'a']]    # rows 'd' and 'a', all columns"
   ]
  },
  {
   "cell_type": "markdown",
   "metadata": {
    "slideshow": {
     "slide_type": "fragment"
    }
   },
   "source": [
    ".. and indicate which columns you want"
   ]
  },
  {
   "cell_type": "code",
   "execution_count": 111,
   "metadata": {
    "slideshow": {
     "slide_type": "-"
    }
   },
   "outputs": [
    {
     "data": {
      "text/html": [
       "<div>\n",
       "<style scoped>\n",
       "    .dataframe tbody tr th:only-of-type {\n",
       "        vertical-align: middle;\n",
       "    }\n",
       "\n",
       "    .dataframe tbody tr th {\n",
       "        vertical-align: top;\n",
       "    }\n",
       "\n",
       "    .dataframe thead th {\n",
       "        text-align: right;\n",
       "    }\n",
       "</style>\n",
       "<table border=\"1\" class=\"dataframe\">\n",
       "  <thead>\n",
       "    <tr style=\"text-align: right;\">\n",
       "      <th></th>\n",
       "      <th>city</th>\n",
       "      <th>transport</th>\n",
       "    </tr>\n",
       "  </thead>\n",
       "  <tbody>\n",
       "    <tr>\n",
       "      <th>d</th>\n",
       "      <td>Breda</td>\n",
       "      <td>train</td>\n",
       "    </tr>\n",
       "    <tr>\n",
       "      <th>a</th>\n",
       "      <td>Drachten</td>\n",
       "      <td>bus</td>\n",
       "    </tr>\n",
       "  </tbody>\n",
       "</table>\n",
       "</div>"
      ],
      "text/plain": [
       "       city transport\n",
       "d     Breda     train\n",
       "a  Drachten       bus"
      ]
     },
     "execution_count": 111,
     "metadata": {},
     "output_type": "execute_result"
    }
   ],
   "source": [
    "df2.loc[['d', 'a'], ['city', 'transport']]"
   ]
  },
  {
   "cell_type": "markdown",
   "metadata": {
    "slideshow": {
     "slide_type": "subslide"
    }
   },
   "source": [
    "### Retrieve values by label - `.loc` indexer (3)\n",
    "* you can even provide slices with labels"
   ]
  },
  {
   "cell_type": "code",
   "execution_count": 112,
   "metadata": {
    "slideshow": {
     "slide_type": "-"
    }
   },
   "outputs": [
    {
     "data": {
      "text/html": [
       "<div>\n",
       "<style scoped>\n",
       "    .dataframe tbody tr th:only-of-type {\n",
       "        vertical-align: middle;\n",
       "    }\n",
       "\n",
       "    .dataframe tbody tr th {\n",
       "        vertical-align: top;\n",
       "    }\n",
       "\n",
       "    .dataframe thead th {\n",
       "        text-align: right;\n",
       "    }\n",
       "</style>\n",
       "<table border=\"1\" class=\"dataframe\">\n",
       "  <thead>\n",
       "    <tr style=\"text-align: right;\">\n",
       "      <th></th>\n",
       "      <th>transport</th>\n",
       "      <th>city</th>\n",
       "      <th>perc</th>\n",
       "      <th>occ</th>\n",
       "    </tr>\n",
       "  </thead>\n",
       "  <tbody>\n",
       "    <tr>\n",
       "      <th>b</th>\n",
       "      <td>bus</td>\n",
       "      <td>Breda</td>\n",
       "      <td>1.11</td>\n",
       "      <td>NaN</td>\n",
       "    </tr>\n",
       "    <tr>\n",
       "      <th>c</th>\n",
       "      <td>bus</td>\n",
       "      <td>Arnhem</td>\n",
       "      <td>0.89</td>\n",
       "      <td>NaN</td>\n",
       "    </tr>\n",
       "    <tr>\n",
       "      <th>d</th>\n",
       "      <td>train</td>\n",
       "      <td>Breda</td>\n",
       "      <td>2.10</td>\n",
       "      <td>NaN</td>\n",
       "    </tr>\n",
       "  </tbody>\n",
       "</table>\n",
       "</div>"
      ],
      "text/plain": [
       "  transport    city  perc  occ\n",
       "b       bus   Breda  1.11  NaN\n",
       "c       bus  Arnhem  0.89  NaN\n",
       "d     train   Breda  2.10  NaN"
      ]
     },
     "execution_count": 112,
     "metadata": {},
     "output_type": "execute_result"
    }
   ],
   "source": [
    "df2.loc['b':'d']"
   ]
  },
  {
   "cell_type": "markdown",
   "metadata": {
    "slideshow": {
     "slide_type": "-"
    }
   },
   "source": [
    "> be aware that the slice is inclusive of both labels"
   ]
  },
  {
   "cell_type": "code",
   "execution_count": null,
   "metadata": {
    "collapsed": true,
    "slideshow": {
     "slide_type": "fragment"
    }
   },
   "outputs": [],
   "source": [
    "df2.loc['c':, 'transport':'perc']"
   ]
  },
  {
   "cell_type": "markdown",
   "metadata": {
    "slideshow": {
     "slide_type": "subslide"
    }
   },
   "source": [
    "# Retrieve values by position - `.iloc` indexer\n",
    "preferred is indexing by label, but you can use a position as well"
   ]
  },
  {
   "cell_type": "code",
   "execution_count": null,
   "metadata": {
    "collapsed": true,
    "slideshow": {
     "slide_type": "-"
    }
   },
   "outputs": [],
   "source": [
    "df2.iloc[2, 1]    # row=2, column=1"
   ]
  },
  {
   "cell_type": "code",
   "execution_count": null,
   "metadata": {
    "collapsed": true,
    "slideshow": {
     "slide_type": "fragment"
    }
   },
   "outputs": [],
   "source": [
    "df2.iloc[:, 1]    # all rows of column 1"
   ]
  },
  {
   "cell_type": "code",
   "execution_count": null,
   "metadata": {
    "collapsed": true,
    "slideshow": {
     "slide_type": "fragment"
    }
   },
   "outputs": [],
   "source": [
    "df2.iloc[2]       # equivalent to df2.iloc[2, :]"
   ]
  },
  {
   "cell_type": "markdown",
   "metadata": {
    "slideshow": {
     "slide_type": "subslide"
    }
   },
   "source": [
    "### Retrieve values by position - `.iloc` indexer (2)\n",
    "you can provide lists of row and column positions"
   ]
  },
  {
   "cell_type": "code",
   "execution_count": null,
   "metadata": {
    "collapsed": true,
    "slideshow": {
     "slide_type": "-"
    }
   },
   "outputs": [],
   "source": [
    "df2.iloc[[1, 0], 2]       # rows 1 and 0, column=2"
   ]
  },
  {
   "cell_type": "code",
   "execution_count": null,
   "metadata": {
    "collapsed": true,
    "slideshow": {
     "slide_type": "fragment"
    }
   },
   "outputs": [],
   "source": [
    "df2.iloc[:, [3, 2, 0]]    # all rows, columns 3, 2 and 0"
   ]
  },
  {
   "cell_type": "code",
   "execution_count": null,
   "metadata": {
    "collapsed": true,
    "slideshow": {
     "slide_type": "fragment"
    }
   },
   "outputs": [],
   "source": [
    "df2.iloc[[0, 2, 4]]       # equivalent to df2.iloc[[0, 2, 4], :]"
   ]
  },
  {
   "cell_type": "markdown",
   "metadata": {
    "slideshow": {
     "slide_type": "subslide"
    }
   },
   "source": [
    "### Retrieve values by position - `.iloc` indexer (3)\n",
    "* slices work as expected"
   ]
  },
  {
   "cell_type": "code",
   "execution_count": null,
   "metadata": {
    "collapsed": true,
    "slideshow": {
     "slide_type": "-"
    }
   },
   "outputs": [],
   "source": [
    "df2.iloc[1:4]"
   ]
  },
  {
   "cell_type": "markdown",
   "metadata": {
    "slideshow": {
     "slide_type": "-"
    }
   },
   "source": [
    "> the slice does not include the end (so just like *normal* Python)"
   ]
  },
  {
   "cell_type": "code",
   "execution_count": null,
   "metadata": {
    "collapsed": true,
    "slideshow": {
     "slide_type": "fragment"
    }
   },
   "outputs": [],
   "source": [
    "df2.iloc[2:, :3]"
   ]
  },
  {
   "cell_type": "markdown",
   "metadata": {
    "slideshow": {
     "slide_type": "slide"
    }
   },
   "source": [
    "### Adding a column to a DataFrame\n",
    "#### Assign a sequence (list, tuple, ndarray, range(), etc.) to a column"
   ]
  },
  {
   "cell_type": "code",
   "execution_count": 113,
   "metadata": {
    "scrolled": true,
    "slideshow": {
     "slide_type": "-"
    }
   },
   "outputs": [
    {
     "data": {
      "text/html": [
       "<div>\n",
       "<style scoped>\n",
       "    .dataframe tbody tr th:only-of-type {\n",
       "        vertical-align: middle;\n",
       "    }\n",
       "\n",
       "    .dataframe tbody tr th {\n",
       "        vertical-align: top;\n",
       "    }\n",
       "\n",
       "    .dataframe thead th {\n",
       "        text-align: right;\n",
       "    }\n",
       "</style>\n",
       "<table border=\"1\" class=\"dataframe\">\n",
       "  <thead>\n",
       "    <tr style=\"text-align: right;\">\n",
       "      <th></th>\n",
       "      <th>transport</th>\n",
       "      <th>city</th>\n",
       "      <th>perc</th>\n",
       "      <th>occ</th>\n",
       "      <th>total</th>\n",
       "    </tr>\n",
       "  </thead>\n",
       "  <tbody>\n",
       "    <tr>\n",
       "      <th>a</th>\n",
       "      <td>bus</td>\n",
       "      <td>Drachten</td>\n",
       "      <td>0.22</td>\n",
       "      <td>NaN</td>\n",
       "      <td>0.0</td>\n",
       "    </tr>\n",
       "    <tr>\n",
       "      <th>b</th>\n",
       "      <td>bus</td>\n",
       "      <td>Breda</td>\n",
       "      <td>1.11</td>\n",
       "      <td>NaN</td>\n",
       "      <td>2.5</td>\n",
       "    </tr>\n",
       "    <tr>\n",
       "      <th>c</th>\n",
       "      <td>bus</td>\n",
       "      <td>Arnhem</td>\n",
       "      <td>0.89</td>\n",
       "      <td>NaN</td>\n",
       "      <td>5.0</td>\n",
       "    </tr>\n",
       "    <tr>\n",
       "      <th>d</th>\n",
       "      <td>train</td>\n",
       "      <td>Breda</td>\n",
       "      <td>2.10</td>\n",
       "      <td>NaN</td>\n",
       "      <td>7.5</td>\n",
       "    </tr>\n",
       "    <tr>\n",
       "      <th>e</th>\n",
       "      <td>train</td>\n",
       "      <td>Arnhem</td>\n",
       "      <td>2.50</td>\n",
       "      <td>NaN</td>\n",
       "      <td>10.0</td>\n",
       "    </tr>\n",
       "  </tbody>\n",
       "</table>\n",
       "</div>"
      ],
      "text/plain": [
       "  transport      city  perc  occ  total\n",
       "a       bus  Drachten  0.22  NaN    0.0\n",
       "b       bus     Breda  1.11  NaN    2.5\n",
       "c       bus    Arnhem  0.89  NaN    5.0\n",
       "d     train     Breda  2.10  NaN    7.5\n",
       "e     train    Arnhem  2.50  NaN   10.0"
      ]
     },
     "execution_count": 113,
     "metadata": {},
     "output_type": "execute_result"
    }
   ],
   "source": [
    "df2['total'] = np.linspace(0, 10, 5)     # or any other sequence\n",
    "df2"
   ]
  },
  {
   "cell_type": "markdown",
   "metadata": {
    "slideshow": {
     "slide_type": "-"
    }
   },
   "source": [
    "> the length of the sequence must match the number of rows in the DataFrame"
   ]
  },
  {
   "cell_type": "markdown",
   "metadata": {
    "slideshow": {
     "slide_type": "subslide"
    }
   },
   "source": [
    "#### Assigning a Series object to a column\n",
    "* more sophisticated"
   ]
  },
  {
   "cell_type": "code",
   "execution_count": 9,
   "metadata": {
    "slideshow": {
     "slide_type": "-"
    }
   },
   "outputs": [
    {
     "data": {
      "text/plain": [
       "a    50.00\n",
       "d    33.33\n",
       "g    25.00\n",
       "dtype: float64"
      ]
     },
     "execution_count": 9,
     "metadata": {},
     "output_type": "execute_result"
    }
   ],
   "source": [
    "ser = pd.Series([50.0, 33.33, 25.0], index=['a', 'd', 'g'])\n",
    "ser"
   ]
  },
  {
   "cell_type": "code",
   "execution_count": 10,
   "metadata": {
    "slideshow": {
     "slide_type": "fragment"
    }
   },
   "outputs": [
    {
     "data": {
      "text/html": [
       "<div>\n",
       "<style scoped>\n",
       "    .dataframe tbody tr th:only-of-type {\n",
       "        vertical-align: middle;\n",
       "    }\n",
       "\n",
       "    .dataframe tbody tr th {\n",
       "        vertical-align: top;\n",
       "    }\n",
       "\n",
       "    .dataframe thead th {\n",
       "        text-align: right;\n",
       "    }\n",
       "</style>\n",
       "<table border=\"1\" class=\"dataframe\">\n",
       "  <thead>\n",
       "    <tr style=\"text-align: right;\">\n",
       "      <th></th>\n",
       "      <th>transport</th>\n",
       "      <th>city</th>\n",
       "      <th>perc</th>\n",
       "      <th>occ</th>\n",
       "      <th>total</th>\n",
       "    </tr>\n",
       "  </thead>\n",
       "  <tbody>\n",
       "    <tr>\n",
       "      <th>a</th>\n",
       "      <td>bus</td>\n",
       "      <td>Drachten</td>\n",
       "      <td>0.22</td>\n",
       "      <td>NaN</td>\n",
       "      <td>50.00</td>\n",
       "    </tr>\n",
       "    <tr>\n",
       "      <th>b</th>\n",
       "      <td>bus</td>\n",
       "      <td>Breda</td>\n",
       "      <td>1.11</td>\n",
       "      <td>NaN</td>\n",
       "      <td>NaN</td>\n",
       "    </tr>\n",
       "    <tr>\n",
       "      <th>c</th>\n",
       "      <td>bus</td>\n",
       "      <td>Arnhem</td>\n",
       "      <td>0.89</td>\n",
       "      <td>NaN</td>\n",
       "      <td>NaN</td>\n",
       "    </tr>\n",
       "    <tr>\n",
       "      <th>d</th>\n",
       "      <td>train</td>\n",
       "      <td>Breda</td>\n",
       "      <td>2.10</td>\n",
       "      <td>NaN</td>\n",
       "      <td>33.33</td>\n",
       "    </tr>\n",
       "    <tr>\n",
       "      <th>e</th>\n",
       "      <td>train</td>\n",
       "      <td>Arnhem</td>\n",
       "      <td>2.50</td>\n",
       "      <td>NaN</td>\n",
       "      <td>NaN</td>\n",
       "    </tr>\n",
       "  </tbody>\n",
       "</table>\n",
       "</div>"
      ],
      "text/plain": [
       "  transport      city  perc  occ  total\n",
       "a       bus  Drachten  0.22  NaN  50.00\n",
       "b       bus     Breda  1.11  NaN    NaN\n",
       "c       bus    Arnhem  0.89  NaN    NaN\n",
       "d     train     Breda  2.10  NaN  33.33\n",
       "e     train    Arnhem  2.50  NaN    NaN"
      ]
     },
     "execution_count": 10,
     "metadata": {},
     "output_type": "execute_result"
    }
   ],
   "source": [
    "df2['total'] = ser\n",
    "df2"
   ]
  },
  {
   "cell_type": "markdown",
   "metadata": {
    "slideshow": {
     "slide_type": "-"
    }
   },
   "source": [
    "> * it aligns on the row index\n",
    "> * labels that are missing in the Series object yield `NaN`\n",
    "> * labels in the Series object but not in the DataFrame are discarded"
   ]
  },
  {
   "cell_type": "markdown",
   "metadata": {
    "slideshow": {
     "slide_type": "slide"
    }
   },
   "source": [
    "### Removing elements from a DataFrame\n",
    "#### Removing rows\n",
    "* a single row"
   ]
  },
  {
   "cell_type": "code",
   "execution_count": null,
   "metadata": {
    "collapsed": true,
    "slideshow": {
     "slide_type": "-"
    }
   },
   "outputs": [],
   "source": [
    "df2.drop('c')"
   ]
  },
  {
   "cell_type": "markdown",
   "metadata": {
    "slideshow": {
     "slide_type": "fragment"
    }
   },
   "source": [
    "* multiple rows"
   ]
  },
  {
   "cell_type": "code",
   "execution_count": null,
   "metadata": {
    "collapsed": true
   },
   "outputs": [],
   "source": [
    "df2.drop(['c','e'])"
   ]
  },
  {
   "cell_type": "markdown",
   "metadata": {
    "slideshow": {
     "slide_type": "subslide"
    }
   },
   "source": [
    "#### Removing columns\n",
    "* in place: a single column"
   ]
  },
  {
   "cell_type": "code",
   "execution_count": null,
   "metadata": {
    "collapsed": true,
    "slideshow": {
     "slide_type": "-"
    }
   },
   "outputs": [],
   "source": [
    "del df2['occ']\n",
    "df2"
   ]
  },
  {
   "cell_type": "markdown",
   "metadata": {
    "slideshow": {
     "slide_type": "fragment"
    }
   },
   "source": [
    "* returning a new DataFrame with the specified columns removed"
   ]
  },
  {
   "cell_type": "code",
   "execution_count": 41,
   "metadata": {
    "slideshow": {
     "slide_type": "-"
    }
   },
   "outputs": [
    {
     "data": {
      "text/html": [
       "<div>\n",
       "<style scoped>\n",
       "    .dataframe tbody tr th:only-of-type {\n",
       "        vertical-align: middle;\n",
       "    }\n",
       "\n",
       "    .dataframe tbody tr th {\n",
       "        vertical-align: top;\n",
       "    }\n",
       "\n",
       "    .dataframe thead th {\n",
       "        text-align: right;\n",
       "    }\n",
       "</style>\n",
       "<table border=\"1\" class=\"dataframe\">\n",
       "  <thead>\n",
       "    <tr style=\"text-align: right;\">\n",
       "      <th></th>\n",
       "      <th>transport</th>\n",
       "      <th>city</th>\n",
       "      <th>occ</th>\n",
       "    </tr>\n",
       "  </thead>\n",
       "  <tbody>\n",
       "    <tr>\n",
       "      <th>a</th>\n",
       "      <td>bus</td>\n",
       "      <td>Drachten</td>\n",
       "      <td>NaN</td>\n",
       "    </tr>\n",
       "    <tr>\n",
       "      <th>b</th>\n",
       "      <td>bus</td>\n",
       "      <td>Breda</td>\n",
       "      <td>NaN</td>\n",
       "    </tr>\n",
       "    <tr>\n",
       "      <th>c</th>\n",
       "      <td>bus</td>\n",
       "      <td>Arnhem</td>\n",
       "      <td>NaN</td>\n",
       "    </tr>\n",
       "    <tr>\n",
       "      <th>d</th>\n",
       "      <td>train</td>\n",
       "      <td>Breda</td>\n",
       "      <td>NaN</td>\n",
       "    </tr>\n",
       "    <tr>\n",
       "      <th>e</th>\n",
       "      <td>train</td>\n",
       "      <td>Arnhem</td>\n",
       "      <td>NaN</td>\n",
       "    </tr>\n",
       "  </tbody>\n",
       "</table>\n",
       "</div>"
      ],
      "text/plain": [
       "  transport      city  occ\n",
       "a       bus  Drachten  NaN\n",
       "b       bus     Breda  NaN\n",
       "c       bus    Arnhem  NaN\n",
       "d     train     Breda  NaN\n",
       "e     train    Arnhem  NaN"
      ]
     },
     "execution_count": 41,
     "metadata": {},
     "output_type": "execute_result"
    }
   ],
   "source": [
    "df2.drop(['total', 'perc'], axis='columns')"
   ]
  },
  {
   "cell_type": "markdown",
   "metadata": {
    "slideshow": {
     "slide_type": "slide"
    }
   },
   "source": [
    "### NumPy-like math on DataFrames\n",
    "* this works, but is probably not what you want:"
   ]
  },
  {
   "cell_type": "code",
   "execution_count": null,
   "metadata": {
    "collapsed": true,
    "slideshow": {
     "slide_type": "-"
    }
   },
   "outputs": [],
   "source": [
    "3 * df2"
   ]
  },
  {
   "cell_type": "markdown",
   "metadata": {
    "slideshow": {
     "slide_type": "fragment"
    }
   },
   "source": [
    "* this is more useful"
   ]
  },
  {
   "cell_type": "code",
   "execution_count": 11,
   "metadata": {},
   "outputs": [
    {
     "data": {
      "text/html": [
       "<div>\n",
       "<style scoped>\n",
       "    .dataframe tbody tr th:only-of-type {\n",
       "        vertical-align: middle;\n",
       "    }\n",
       "\n",
       "    .dataframe tbody tr th {\n",
       "        vertical-align: top;\n",
       "    }\n",
       "\n",
       "    .dataframe thead th {\n",
       "        text-align: right;\n",
       "    }\n",
       "</style>\n",
       "<table border=\"1\" class=\"dataframe\">\n",
       "  <thead>\n",
       "    <tr style=\"text-align: right;\">\n",
       "      <th></th>\n",
       "      <th>transport</th>\n",
       "      <th>city</th>\n",
       "      <th>perc</th>\n",
       "      <th>occ</th>\n",
       "      <th>total</th>\n",
       "      <th>amount</th>\n",
       "    </tr>\n",
       "  </thead>\n",
       "  <tbody>\n",
       "    <tr>\n",
       "      <th>a</th>\n",
       "      <td>bus</td>\n",
       "      <td>Drachten</td>\n",
       "      <td>0.22</td>\n",
       "      <td>NaN</td>\n",
       "      <td>50.00</td>\n",
       "      <td>0.11000</td>\n",
       "    </tr>\n",
       "    <tr>\n",
       "      <th>b</th>\n",
       "      <td>bus</td>\n",
       "      <td>Breda</td>\n",
       "      <td>1.11</td>\n",
       "      <td>NaN</td>\n",
       "      <td>NaN</td>\n",
       "      <td>NaN</td>\n",
       "    </tr>\n",
       "    <tr>\n",
       "      <th>c</th>\n",
       "      <td>bus</td>\n",
       "      <td>Arnhem</td>\n",
       "      <td>0.89</td>\n",
       "      <td>NaN</td>\n",
       "      <td>NaN</td>\n",
       "      <td>NaN</td>\n",
       "    </tr>\n",
       "    <tr>\n",
       "      <th>d</th>\n",
       "      <td>train</td>\n",
       "      <td>Breda</td>\n",
       "      <td>2.10</td>\n",
       "      <td>NaN</td>\n",
       "      <td>33.33</td>\n",
       "      <td>0.69993</td>\n",
       "    </tr>\n",
       "    <tr>\n",
       "      <th>e</th>\n",
       "      <td>train</td>\n",
       "      <td>Arnhem</td>\n",
       "      <td>2.50</td>\n",
       "      <td>NaN</td>\n",
       "      <td>NaN</td>\n",
       "      <td>NaN</td>\n",
       "    </tr>\n",
       "  </tbody>\n",
       "</table>\n",
       "</div>"
      ],
      "text/plain": [
       "  transport      city  perc  occ  total   amount\n",
       "a       bus  Drachten  0.22  NaN  50.00  0.11000\n",
       "b       bus     Breda  1.11  NaN    NaN      NaN\n",
       "c       bus    Arnhem  0.89  NaN    NaN      NaN\n",
       "d     train     Breda  2.10  NaN  33.33  0.69993\n",
       "e     train    Arnhem  2.50  NaN    NaN      NaN"
      ]
     },
     "execution_count": 11,
     "metadata": {},
     "output_type": "execute_result"
    }
   ],
   "source": [
    "df2['amount'] = df2.total * df2.perc / 100\n",
    "df2"
   ]
  },
  {
   "cell_type": "code",
   "execution_count": 3,
   "metadata": {
    "slideshow": {
     "slide_type": "slide"
    }
   },
   "outputs": [
    {
     "name": "stdout",
     "output_type": "stream",
     "text": [
      "(150, 5)\n"
     ]
    },
    {
     "data": {
      "text/html": [
       "<div>\n",
       "<style scoped>\n",
       "    .dataframe tbody tr th:only-of-type {\n",
       "        vertical-align: middle;\n",
       "    }\n",
       "\n",
       "    .dataframe tbody tr th {\n",
       "        vertical-align: top;\n",
       "    }\n",
       "\n",
       "    .dataframe thead th {\n",
       "        text-align: right;\n",
       "    }\n",
       "</style>\n",
       "<table border=\"1\" class=\"dataframe\">\n",
       "  <thead>\n",
       "    <tr style=\"text-align: right;\">\n",
       "      <th></th>\n",
       "      <th>sepal_length</th>\n",
       "      <th>sepal_width</th>\n",
       "      <th>petal_length</th>\n",
       "      <th>petal_width</th>\n",
       "      <th>species</th>\n",
       "    </tr>\n",
       "  </thead>\n",
       "  <tbody>\n",
       "    <tr>\n",
       "      <th>0</th>\n",
       "      <td>5.1</td>\n",
       "      <td>3.5</td>\n",
       "      <td>1.4</td>\n",
       "      <td>0.2</td>\n",
       "      <td>setosa</td>\n",
       "    </tr>\n",
       "    <tr>\n",
       "      <th>1</th>\n",
       "      <td>4.9</td>\n",
       "      <td>3.0</td>\n",
       "      <td>1.4</td>\n",
       "      <td>0.2</td>\n",
       "      <td>setosa</td>\n",
       "    </tr>\n",
       "    <tr>\n",
       "      <th>2</th>\n",
       "      <td>4.7</td>\n",
       "      <td>3.2</td>\n",
       "      <td>1.3</td>\n",
       "      <td>0.2</td>\n",
       "      <td>setosa</td>\n",
       "    </tr>\n",
       "    <tr>\n",
       "      <th>3</th>\n",
       "      <td>4.6</td>\n",
       "      <td>3.1</td>\n",
       "      <td>1.5</td>\n",
       "      <td>0.2</td>\n",
       "      <td>setosa</td>\n",
       "    </tr>\n",
       "    <tr>\n",
       "      <th>4</th>\n",
       "      <td>5.0</td>\n",
       "      <td>3.6</td>\n",
       "      <td>1.4</td>\n",
       "      <td>0.2</td>\n",
       "      <td>setosa</td>\n",
       "    </tr>\n",
       "  </tbody>\n",
       "</table>\n",
       "</div>"
      ],
      "text/plain": [
       "   sepal_length  sepal_width  petal_length  petal_width species\n",
       "0           5.1          3.5           1.4          0.2  setosa\n",
       "1           4.9          3.0           1.4          0.2  setosa\n",
       "2           4.7          3.2           1.3          0.2  setosa\n",
       "3           4.6          3.1           1.5          0.2  setosa\n",
       "4           5.0          3.6           1.4          0.2  setosa"
      ]
     },
     "execution_count": 3,
     "metadata": {},
     "output_type": "execute_result"
    }
   ],
   "source": [
    "import pandas as pd\n",
    "import seaborn as sns\n",
    "iris = sns.load_dataset(\"iris\")\n",
    "print(iris.shape)\n",
    "iris.head()"
   ]
  },
  {
   "cell_type": "code",
   "execution_count": 4,
   "metadata": {
    "slideshow": {
     "slide_type": "fragment"
    }
   },
   "outputs": [
    {
     "data": {
      "text/html": [
       "<div>\n",
       "<style scoped>\n",
       "    .dataframe tbody tr th:only-of-type {\n",
       "        vertical-align: middle;\n",
       "    }\n",
       "\n",
       "    .dataframe tbody tr th {\n",
       "        vertical-align: top;\n",
       "    }\n",
       "\n",
       "    .dataframe thead th {\n",
       "        text-align: right;\n",
       "    }\n",
       "</style>\n",
       "<table border=\"1\" class=\"dataframe\">\n",
       "  <thead>\n",
       "    <tr style=\"text-align: right;\">\n",
       "      <th></th>\n",
       "      <th>sepal_length</th>\n",
       "      <th>sepal_width</th>\n",
       "      <th>petal_length</th>\n",
       "      <th>petal_width</th>\n",
       "    </tr>\n",
       "  </thead>\n",
       "  <tbody>\n",
       "    <tr>\n",
       "      <th>count</th>\n",
       "      <td>150.000000</td>\n",
       "      <td>150.000000</td>\n",
       "      <td>150.000000</td>\n",
       "      <td>150.000000</td>\n",
       "    </tr>\n",
       "    <tr>\n",
       "      <th>mean</th>\n",
       "      <td>5.843333</td>\n",
       "      <td>3.057333</td>\n",
       "      <td>3.758000</td>\n",
       "      <td>1.199333</td>\n",
       "    </tr>\n",
       "    <tr>\n",
       "      <th>std</th>\n",
       "      <td>0.828066</td>\n",
       "      <td>0.435866</td>\n",
       "      <td>1.765298</td>\n",
       "      <td>0.762238</td>\n",
       "    </tr>\n",
       "    <tr>\n",
       "      <th>min</th>\n",
       "      <td>4.300000</td>\n",
       "      <td>2.000000</td>\n",
       "      <td>1.000000</td>\n",
       "      <td>0.100000</td>\n",
       "    </tr>\n",
       "    <tr>\n",
       "      <th>25%</th>\n",
       "      <td>5.100000</td>\n",
       "      <td>2.800000</td>\n",
       "      <td>1.600000</td>\n",
       "      <td>0.300000</td>\n",
       "    </tr>\n",
       "    <tr>\n",
       "      <th>50%</th>\n",
       "      <td>5.800000</td>\n",
       "      <td>3.000000</td>\n",
       "      <td>4.350000</td>\n",
       "      <td>1.300000</td>\n",
       "    </tr>\n",
       "    <tr>\n",
       "      <th>75%</th>\n",
       "      <td>6.400000</td>\n",
       "      <td>3.300000</td>\n",
       "      <td>5.100000</td>\n",
       "      <td>1.800000</td>\n",
       "    </tr>\n",
       "    <tr>\n",
       "      <th>max</th>\n",
       "      <td>7.900000</td>\n",
       "      <td>4.400000</td>\n",
       "      <td>6.900000</td>\n",
       "      <td>2.500000</td>\n",
       "    </tr>\n",
       "  </tbody>\n",
       "</table>\n",
       "</div>"
      ],
      "text/plain": [
       "       sepal_length  sepal_width  petal_length  petal_width\n",
       "count    150.000000   150.000000    150.000000   150.000000\n",
       "mean       5.843333     3.057333      3.758000     1.199333\n",
       "std        0.828066     0.435866      1.765298     0.762238\n",
       "min        4.300000     2.000000      1.000000     0.100000\n",
       "25%        5.100000     2.800000      1.600000     0.300000\n",
       "50%        5.800000     3.000000      4.350000     1.300000\n",
       "75%        6.400000     3.300000      5.100000     1.800000\n",
       "max        7.900000     4.400000      6.900000     2.500000"
      ]
     },
     "execution_count": 4,
     "metadata": {},
     "output_type": "execute_result"
    }
   ],
   "source": [
    "iris.describe()"
   ]
  },
  {
   "cell_type": "code",
   "execution_count": 116,
   "metadata": {
    "slideshow": {
     "slide_type": "subslide"
    }
   },
   "outputs": [
    {
     "data": {
      "image/png": "[encoded data removed]",
      "text/plain": [
       "<Figure size 432x432 with 3 Axes>"
      ]
     },
     "metadata": {
      "needs_background": "light"
     },
     "output_type": "display_data"
    }
   ],
   "source": [
    "sns.jointplot(x=\"sepal_length\", y=\"petal_length\", data=iris);"
   ]
  },
  {
   "cell_type": "code",
   "execution_count": 11,
   "metadata": {
    "scrolled": false,
    "slideshow": {
     "slide_type": "subslide"
    }
   },
   "outputs": [
    {
     "data": {
      "image/png": "[encoded data removed]",
      "text/plain": [
       "<Figure size 804.75x720 with 20 Axes>"
      ]
     },
     "metadata": {},
     "output_type": "display_data"
    }
   ],
   "source": [
    "import matplotlib.pyplot as plt\n",
    "\n",
    "sns.pairplot(data=iris, hue=\"species\")\n",
    "plt.show()"
   ]
  },
  {
   "cell_type": "code",
   "execution_count": 12,
   "metadata": {
    "slideshow": {
     "slide_type": "subslide"
    }
   },
   "outputs": [
    {
     "data": {
      "text/plain": [
       "array([[5.1, 3.5, 1.4, 0.2],\n",
       "       [4.9, 3. , 1.4, 0.2],\n",
       "       [4.7, 3.2, 1.3, 0.2],\n",
       "       [4.6, 3.1, 1.5, 0.2],\n",
       "       [5. , 3.6, 1.4, 0.2]])"
      ]
     },
     "execution_count": 12,
     "metadata": {},
     "output_type": "execute_result"
    }
   ],
   "source": [
    "# We're using all four measurements as inputs\n",
    "# Note that scikit-learn expects each entry to be a list of values, e.g.,\n",
    "# [ [val1, val2, val3],\n",
    "#   [val1, val2, val3],\n",
    "#   ... ]\n",
    "# such that our input data set is represented as a list of lists\n",
    "\n",
    "# We can extract the data in this format from pandas like this:\n",
    "all_inputs = iris[['sepal_length', 'sepal_width',\n",
    "                             'petal_length', 'petal_width']].values\n",
    "\n",
    "# Similarly, we can extract the class labels\n",
    "all_labels = iris['species'].values\n",
    "\n",
    "# Make sure that you don't mix up the order of the entries\n",
    "# all_inputs[5] inputs should correspond to the class in all_labels[5]\n",
    "\n",
    "# Here's what a subset of our inputs looks like:\n",
    "all_inputs[:5]"
   ]
  },
  {
   "cell_type": "code",
   "execution_count": 32,
   "metadata": {
    "collapsed": true,
    "slideshow": {
     "slide_type": "subslide"
    }
   },
   "outputs": [],
   "source": [
    "from sklearn.model_selection import train_test_split\n",
    "\n",
    "(X_train,\n",
    " X_test,\n",
    " y_train,\n",
    " y_test) = train_test_split(all_inputs, all_labels, test_size=0.25, random_state=2)"
   ]
  },
  {
   "cell_type": "code",
   "execution_count": 66,
   "metadata": {
    "slideshow": {
     "slide_type": "fragment"
    }
   },
   "outputs": [
    {
     "name": "stdout",
     "output_type": "stream",
     "text": [
      "this is the accuracy score: 1.0\n"
     ]
    },
    {
     "data": {
      "text/plain": [
       "LinearDiscriminantAnalysis(n_components=None, priors=None, shrinkage=None,\n",
       "              solver='svd', store_covariance=False, tol=0.0001)"
      ]
     },
     "execution_count": 66,
     "metadata": {},
     "output_type": "execute_result"
    }
   ],
   "source": [
    "from sklearn.discriminant_analysis import LinearDiscriminantAnalysis\n",
    "\n",
    "\n",
    "qda = LinearDiscriminantAnalysis()\n",
    "qda.fit(X_train, y_train)\n",
    "\n",
    "print(\"this is the accuracy score: \"+ str(qda.score(X_test, y_test)))\n",
    "qda"
   ]
  },
  {
   "cell_type": "code",
   "execution_count": 60,
   "metadata": {
    "slideshow": {
     "slide_type": "subslide"
    }
   },
   "outputs": [
    {
     "data": {
      "text/plain": [
       "array([0, 0, 0, 0, 0, 0, 0, 0, 0, 0, 0, 0, 0, 0, 0, 0, 0, 0, 0, 0, 0, 0,\n",
       "       0, 0, 0, 0, 0, 0, 0, 0, 0, 0, 0, 0, 0, 0, 0, 0, 0, 0, 0, 0, 0, 0,\n",
       "       0, 0, 0, 0, 0, 0, 1, 1, 1, 1, 1, 1, 1, 1, 1, 1, 1, 1, 1, 1, 1, 1,\n",
       "       1, 1, 1, 1, 1, 1, 1, 1, 1, 1, 1, 1, 1, 1, 1, 1, 1, 1, 1, 1, 1, 1,\n",
       "       1, 1, 1, 1, 1, 1, 1, 1, 1, 1, 1, 1, 2, 2, 2, 2, 2, 2, 2, 2, 2, 2,\n",
       "       2, 2, 2, 2, 2, 2, 2, 2, 2, 2, 2, 2, 2, 2, 2, 2, 2, 2, 2, 2, 2, 2,\n",
       "       2, 2, 2, 2, 2, 2, 2, 2, 2, 2, 2, 2, 2, 2, 2, 2, 2, 2])"
      ]
     },
     "execution_count": 60,
     "metadata": {},
     "output_type": "execute_result"
    }
   ],
   "source": [
    "from sklearn.preprocessing import LabelEncoder\n",
    "le = LabelEncoder().fit_transform(all_labels)\n",
    "\n",
    "le"
   ]
  },
  {
   "cell_type": "code",
   "execution_count": 61,
   "metadata": {
    "slideshow": {
     "slide_type": "fragment"
    }
   },
   "outputs": [
    {
     "data": {
      "text/plain": [
       "array([1, 1, 1, 1, 1, 1, 1, 1, 1, 1, 1, 1, 1, 1, 1, 1, 1, 1, 1, 1, 1, 1,\n",
       "       1, 1, 1, 1, 1, 1, 1, 1, 1, 1, 1, 1, 1, 1, 1, 1, 1, 1, 1, 1, 1, 1,\n",
       "       1, 1, 1, 1, 1, 1, 0, 0, 2, 0, 0, 0, 0, 0, 0, 0, 0, 0, 0, 0, 0, 0,\n",
       "       0, 0, 0, 0, 0, 0, 0, 0, 0, 0, 0, 2, 0, 0, 0, 0, 0, 0, 0, 0, 0, 0,\n",
       "       0, 0, 0, 0, 0, 0, 0, 0, 0, 0, 0, 0, 2, 0, 2, 2, 2, 2, 0, 2, 2, 2,\n",
       "       2, 2, 2, 0, 0, 2, 2, 2, 2, 0, 2, 0, 2, 0, 2, 2, 0, 0, 2, 2, 2, 2,\n",
       "       2, 0, 2, 2, 2, 2, 0, 2, 2, 2, 0, 2, 2, 2, 0, 2, 2, 0])"
      ]
     },
     "execution_count": 61,
     "metadata": {},
     "output_type": "execute_result"
    }
   ],
   "source": [
    "from sklearn.cluster import KMeans\n",
    "\n",
    "kmeans = KMeans(n_clusters=3, random_state=0).fit(all_inputs)\n",
    "prediction = kmeans.predict(all_inputs)\n",
    "prediction"
   ]
  },
  {
   "cell_type": "code",
   "execution_count": 62,
   "metadata": {
    "slideshow": {
     "slide_type": "subslide"
    }
   },
   "outputs": [
    {
     "data": {
      "text/plain": [
       "array([0, 0, 0, 0, 0, 0, 0, 0, 0, 0, 0, 0, 0, 0, 0, 0, 0, 0, 0, 0, 0, 0,\n",
       "       0, 0, 0, 0, 0, 0, 0, 0, 0, 0, 0, 0, 0, 0, 0, 0, 0, 0, 0, 0, 0, 0,\n",
       "       0, 0, 0, 0, 0, 0, 1, 1, 2, 1, 1, 1, 1, 1, 1, 1, 1, 1, 1, 1, 1, 1,\n",
       "       1, 1, 1, 1, 1, 1, 1, 1, 1, 1, 1, 2, 1, 1, 1, 1, 1, 1, 1, 1, 1, 1,\n",
       "       1, 1, 1, 1, 1, 1, 1, 1, 1, 1, 1, 1, 2, 1, 2, 2, 2, 2, 1, 2, 2, 2,\n",
       "       2, 2, 2, 1, 1, 2, 2, 2, 2, 1, 2, 1, 2, 1, 2, 2, 1, 1, 2, 2, 2, 2,\n",
       "       2, 1, 2, 2, 2, 2, 1, 2, 2, 2, 1, 2, 2, 2, 1, 2, 2, 1])"
      ]
     },
     "execution_count": 62,
     "metadata": {},
     "output_type": "execute_result"
    }
   ],
   "source": [
    "import numpy as np\n",
    "\n",
    "recoded_pred = [-1 for i in range(len(prediction))]\n",
    "\n",
    "for n, each in enumerate(prediction):\n",
    "    if prediction[n] == 0:\n",
    "        recoded_pred[n] = 1\n",
    "    elif prediction[n]==1:\n",
    "        recoded_pred[n] = 0\n",
    "    else:\n",
    "        recoded_pred[n] = 2\n",
    "recoded_pred = np.array(recoded_pred)\n",
    "recoded_pred"
   ]
  },
  {
   "cell_type": "code",
   "execution_count": 64,
   "metadata": {
    "slideshow": {
     "slide_type": "fragment"
    }
   },
   "outputs": [
    {
     "data": {
      "text/plain": [
       "0.8933333333333333"
      ]
     },
     "execution_count": 64,
     "metadata": {},
     "output_type": "execute_result"
    }
   ],
   "source": [
    "#score of our classifier\n",
    "sum(le == recoded_pred)/len(recoded_pred)"
   ]
  }
 ],
 "metadata": {
  "celltoolbar": "Slideshow",
  "kernelspec": {
   "display_name": "Python 3",
   "language": "python",
   "name": "python3"
  },
  "language_info": {
   "codemirror_mode": {
    "name": "ipython",
    "version": 3
   },
   "file_extension": ".py",
   "mimetype": "text/x-python",
   "name": "python",
   "nbconvert_exporter": "python",
   "pygments_lexer": "ipython3",
   "version": "3.6.3"
  },
  "livereveal": {
   "autolaunch": true,
   "overlay": "<div class='atfooter'><p>v0.1[ch02]</p></div><div class='atheader'><h2>Python Appetiser</h2></div><div><hr class='footerline'/></div><div class='footerlogo'><img src='ATlogo_simpel.svg' alt='at computing'></div>"
  },
  "name": "_merged"
 },
 "nbformat": 4,
 "nbformat_minor": 2
}
